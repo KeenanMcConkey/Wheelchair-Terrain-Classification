{
 "cells": [
  {
   "cell_type": "code",
   "execution_count": 1,
   "metadata": {
    "collapsed": true
   },
   "outputs": [],
   "source": [
    "import pandas as pd\n",
    "import pymrmr"
   ]
  },
  {
   "cell_type": "code",
   "execution_count": 5,
   "metadata": {
    "collapsed": false
   },
   "outputs": [],
   "source": [
    "middle_ffts = pd.read_csv('featured_data/Middle_FFTs.csv')\n",
    "middle_psds = pd.read_csv('featured_data/Middle_PSDLogs.csv')\n",
    "middle_feats = pd.read_csv('featured_data/Middle_Features.csv')"
   ]
  },
  {
   "cell_type": "code",
   "execution_count": 6,
   "metadata": {
    "collapsed": false
   },
   "outputs": [
    {
     "data": {
      "text/plain": [
       "['Y Accel 36.4 Hz',\n",
       " 'Z Accel 32.3 Hz',\n",
       " 'Z Accel 33.3 Hz',\n",
       " 'Z Accel 25.3 Hz',\n",
       " 'X Accel 78.8 Hz',\n",
       " 'X Accel 0.0 Hz',\n",
       " 'Z Accel 20.2 Hz',\n",
       " 'Z Accel 30.3 Hz',\n",
       " 'X Accel 63.6 Hz',\n",
       " 'Z Accel 31.3 Hz',\n",
       " 'Y Accel 83.8 Hz',\n",
       " 'Z Accel 19.2 Hz',\n",
       " 'X Accel 91.9 Hz',\n",
       " 'Z Accel 53.5 Hz',\n",
       " 'Y Accel 38.4 Hz',\n",
       " 'Z Accel 29.3 Hz',\n",
       " 'Y Accel 35.4 Hz',\n",
       " 'Z Accel 26.3 Hz',\n",
       " 'Y Accel 50.5 Hz',\n",
       " 'Y Accel 40.4 Hz',\n",
       " 'Z Accel 22.2 Hz',\n",
       " 'Y Accel 37.4 Hz',\n",
       " 'Z Accel 34.3 Hz',\n",
       " 'X Accel 92.9 Hz',\n",
       " 'Z Accel 18.2 Hz',\n",
       " 'X Accel 99.0 Hz',\n",
       " 'Y Accel 39.4 Hz',\n",
       " 'Z Accel 21.2 Hz',\n",
       " 'X Accel 45.5 Hz',\n",
       " 'Y Accel 34.3 Hz',\n",
       " 'Z Accel 28.3 Hz',\n",
       " 'Z Accel 27.3 Hz',\n",
       " 'X Accel 17.2 Hz',\n",
       " 'Y Accel 33.3 Hz',\n",
       " 'X Accel 98.0 Hz',\n",
       " 'Y Accel 80.8 Hz',\n",
       " 'X Accel 87.9 Hz',\n",
       " 'Z Accel 17.2 Hz',\n",
       " 'Z Accel 23.2 Hz',\n",
       " 'X Accel 94.9 Hz']"
      ]
     },
     "execution_count": 6,
     "metadata": {},
     "output_type": "execute_result"
    }
   ],
   "source": [
    "pymrmr.mRMR(data=middle_ffts, method='MIQ', nfeats=40)"
   ]
  },
  {
   "cell_type": "code",
   "execution_count": 7,
   "metadata": {
    "collapsed": false
   },
   "outputs": [
    {
     "data": {
      "text/plain": [
       "['X Gyro 56.0 Hz',\n",
       " 'Y Gyro 4.0 Hz',\n",
       " 'Y Accel 99.0 Hz',\n",
       " 'Y Gyro 2.0 Hz',\n",
       " 'X Accel 35.0 Hz',\n",
       " 'Y Gyro 7.0 Hz',\n",
       " 'Y Accel 84.0 Hz',\n",
       " 'X Gyro 58.0 Hz',\n",
       " 'Y Gyro 3.0 Hz',\n",
       " 'Y Accel 81.0 Hz',\n",
       " 'Y Gyro 6.0 Hz',\n",
       " 'X Gyro 63.0 Hz',\n",
       " 'Y Accel 10.0 Hz',\n",
       " 'Z Accel 96.0 Hz',\n",
       " 'Y Gyro 5.0 Hz',\n",
       " 'X Accel 34.0 Hz',\n",
       " 'X Gyro 93.0 Hz',\n",
       " 'Y Gyro 8.0 Hz',\n",
       " 'X Gyro 59.0 Hz',\n",
       " 'Y Accel 86.0 Hz',\n",
       " 'X Gyro 1.0 Hz',\n",
       " 'Y Gyro 9.0 Hz',\n",
       " 'Y Accel 89.0 Hz',\n",
       " 'X Gyro 62.0 Hz',\n",
       " 'Y Gyro 10.0 Hz',\n",
       " 'Y Accel 80.0 Hz',\n",
       " 'X Gyro 6.0 Hz',\n",
       " 'X Gyro 61.0 Hz',\n",
       " 'Z Accel 87.0 Hz',\n",
       " 'Y Gyro 11.0 Hz',\n",
       " 'X Gyro 55.0 Hz',\n",
       " 'X Accel 33.0 Hz',\n",
       " 'Y Accel 94.0 Hz',\n",
       " 'Y Gyro 1.0 Hz',\n",
       " 'X Gyro 65.0 Hz',\n",
       " 'Y Accel 11.0 Hz',\n",
       " 'Y Accel 83.0 Hz',\n",
       " 'X Gyro 4.0 Hz',\n",
       " 'X Accel 36.0 Hz',\n",
       " 'Y Accel 90.0 Hz']"
      ]
     },
     "execution_count": 7,
     "metadata": {},
     "output_type": "execute_result"
    }
   ],
   "source": [
    "pymrmr.mRMR(data=middle_psds, method='MIQ', nfeats=40)"
   ]
  }
 ],
 "metadata": {
  "kernelspec": {
   "display_name": "Python 3",
   "language": "python",
   "name": "python3"
  },
  "language_info": {
   "codemirror_mode": {
    "name": "ipython",
    "version": 3
   },
   "file_extension": ".py",
   "mimetype": "text/x-python",
   "name": "python",
   "nbconvert_exporter": "python",
   "pygments_lexer": "ipython3",
   "version": "3.4.5"
  }
 },
 "nbformat": 4,
 "nbformat_minor": 2
}
