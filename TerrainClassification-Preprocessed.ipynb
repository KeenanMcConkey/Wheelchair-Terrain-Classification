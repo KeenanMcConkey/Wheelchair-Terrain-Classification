{
 "cells": [
  {
   "cell_type": "code",
   "execution_count": 1,
   "metadata": {
    "collapsed": true
   },
   "outputs": [],
   "source": [
    "import pandas as pd\n",
    "import pymrmr"
   ]
  },
  {
   "cell_type": "markdown",
   "metadata": {},
   "source": [
    "## Part 1 - Setup"
   ]
  },
  {
   "cell_type": "markdown",
   "metadata": {},
   "source": [
    "This notebook takes off from where the old notebook exports processed data to .csv files"
   ]
  },
  {
   "cell_type": "code",
   "execution_count": 5,
   "metadata": {},
   "outputs": [],
   "source": [
    "# Import already processed features\n",
    "middle_ffts = pd.read_csv('featured_data/Middle_FFTs.csv')\n",
    "middle_psds = pd.read_csv('featured_data/Middle_PSDLogs.csv')\n",
    "middle_feats = pd.read_csv('featured_data/Middle_Features.csv')"
   ]
  },
  {
   "cell_type": "markdown",
   "metadata": {},
   "source": [
    "## Part 2 - mRMR"
   ]
  },
  {
   "cell_type": "markdown",
   "metadata": {},
   "source": [
    "Minimum redunancy maximum relavance (mRMR) feature selection"
   ]
  },
  {
   "cell_type": "code",
   "execution_count": 9,
   "metadata": {},
   "outputs": [
    {
     "data": {
      "text/plain": [
       "['Y Accel 36.4 Hz',\n",
       " 'Z Accel 32.3 Hz',\n",
       " 'Z Accel 33.3 Hz',\n",
       " 'Z Accel 25.3 Hz',\n",
       " 'X Accel 78.8 Hz',\n",
       " 'X Accel 0.0 Hz',\n",
       " 'Z Accel 20.2 Hz',\n",
       " 'Z Accel 30.3 Hz',\n",
       " 'X Accel 63.6 Hz',\n",
       " 'Z Accel 31.3 Hz',\n",
       " 'Y Accel 83.8 Hz',\n",
       " 'Z Accel 19.2 Hz',\n",
       " 'X Accel 91.9 Hz',\n",
       " 'Z Accel 53.5 Hz',\n",
       " 'Y Accel 38.4 Hz',\n",
       " 'Z Accel 29.3 Hz',\n",
       " 'Y Accel 35.4 Hz',\n",
       " 'Z Accel 26.3 Hz',\n",
       " 'Y Accel 50.5 Hz',\n",
       " 'Y Accel 40.4 Hz']"
      ]
     },
     "execution_count": 9,
     "metadata": {},
     "output_type": "execute_result"
    }
   ],
   "source": [
    "pymrmr.mRMR(data=middle_ffts, method='MIQ', nfeats=20)"
   ]
  },
  {
   "cell_type": "code",
   "execution_count": 10,
   "metadata": {},
   "outputs": [
    {
     "data": {
      "text/plain": [
       "['X Gyro 56.0 Hz',\n",
       " 'Y Gyro 4.0 Hz',\n",
       " 'Y Accel 99.0 Hz',\n",
       " 'Y Gyro 2.0 Hz',\n",
       " 'X Accel 35.0 Hz',\n",
       " 'Y Gyro 7.0 Hz',\n",
       " 'Y Accel 84.0 Hz',\n",
       " 'X Gyro 58.0 Hz',\n",
       " 'Y Gyro 3.0 Hz',\n",
       " 'Y Accel 81.0 Hz',\n",
       " 'Y Gyro 6.0 Hz',\n",
       " 'X Gyro 63.0 Hz',\n",
       " 'Y Accel 10.0 Hz',\n",
       " 'Z Accel 96.0 Hz',\n",
       " 'Y Gyro 5.0 Hz',\n",
       " 'X Accel 34.0 Hz',\n",
       " 'X Gyro 93.0 Hz',\n",
       " 'Y Gyro 8.0 Hz',\n",
       " 'X Gyro 59.0 Hz',\n",
       " 'Y Accel 86.0 Hz']"
      ]
     },
     "execution_count": 10,
     "metadata": {},
     "output_type": "execute_result"
    }
   ],
   "source": [
    "pymrmr.mRMR(data=middle_psds, method='MIQ', nfeats=20)"
   ]
  },
  {
   "cell_type": "code",
   "execution_count": 15,
   "metadata": {},
   "outputs": [
    {
     "data": {
      "text/plain": [
       "['Zero Crossing Rate Y Accel Middle',\n",
       " 'Excess Kurtosis X Accel Middle',\n",
       " 'Mean Square Frequency Y Accel Middle',\n",
       " 'Mean Z Accel Middle',\n",
       " 'Variance Frequency Z Accel Middle',\n",
       " 'Variance Frequency Z Gyro Middle',\n",
       " 'Skew Y Accel Middle',\n",
       " 'Mean Y Gyro Middle',\n",
       " 'Variance Frequency X Accel Middle',\n",
       " 'Min Z Accel Middle',\n",
       " 'Excess Kurtosis Z Gyro Middle',\n",
       " 'Variance Frequency X Gyro Middle',\n",
       " 'Zero Crossing Rate Z Gyro Middle',\n",
       " 'Skew X Accel Middle',\n",
       " 'Mean Square Frequency X Gyro Middle',\n",
       " 'Skew Z Accel Middle',\n",
       " 'Autocorrelation Z Gyro Middle',\n",
       " 'Frequency Center Y Accel Middle',\n",
       " 'Autocorrelation Z Accel Middle',\n",
       " 'Frequency Center Z Gyro Middle']"
      ]
     },
     "execution_count": 15,
     "metadata": {},
     "output_type": "execute_result"
    }
   ],
   "source": [
    "pymrmr.mRMR(data=middle_feats, method='MIQ', nfeats=20)"
   ]
  },
  {
   "cell_type": "code",
   "execution_count": null,
   "metadata": {
    "collapsed": true
   },
   "outputs": [],
   "source": []
  }
 ],
 "metadata": {
  "kernelspec": {
   "display_name": "Python 2",
   "language": "python",
   "name": "python2"
  },
  "language_info": {
   "codemirror_mode": {
    "name": "ipython",
    "version": 3
   },
   "file_extension": ".py",
   "mimetype": "text/x-python",
   "name": "python",
   "nbconvert_exporter": "python",
   "pygments_lexer": "ipython3",
   "version": "3.4.5"
  }
 },
 "nbformat": 4,
 "nbformat_minor": 2
}
