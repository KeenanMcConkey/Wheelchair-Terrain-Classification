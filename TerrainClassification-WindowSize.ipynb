{
 "cells": [
  {
   "cell_type": "markdown",
   "metadata": {},
   "source": [
    "# Terrain Classification - Compare Window Size"
   ]
  },
  {
   "cell_type": "code",
   "execution_count": null,
   "metadata": {},
   "outputs": [],
   "source": [
    "import pandas as pd\n",
    "import glob\n",
    "import matplotlib.pyplot as plt\n",
    "import sklearn\n",
    "sklearn.__version__"
   ]
  },
  {
   "cell_type": "markdown",
   "metadata": {},
   "source": [
    "#### Data Structure\n",
    "\n",
    "`Dictionary of Window Sizes\n",
    "-> Dictionary of Feature Vectors\n",
    "---> Dictionary of Placements\n",
    "-----> Dataframe of Processed Data`"
   ]
  },
  {
   "cell_type": "code",
   "execution_count": 33,
   "metadata": {},
   "outputs": [
    {
     "ename": "ImportError",
     "evalue": "cannot import name 'cross_validate'",
     "output_type": "error",
     "traceback": [
      "\u001b[0;31m---------------------------------------------------------------------------\u001b[0m",
      "\u001b[0;31mImportError\u001b[0m                               Traceback (most recent call last)",
      "\u001b[0;32m<ipython-input-33-4aa55929e810>\u001b[0m in \u001b[0;36m<module>\u001b[0;34m()\u001b[0m\n\u001b[1;32m      6\u001b[0m \u001b[0;32mfrom\u001b[0m \u001b[0msklearn\u001b[0m\u001b[0;34m.\u001b[0m\u001b[0msvm\u001b[0m \u001b[0;32mimport\u001b[0m \u001b[0mSVC\u001b[0m\u001b[0;34m\u001b[0m\u001b[0m\n\u001b[1;32m      7\u001b[0m \u001b[0;32mfrom\u001b[0m \u001b[0msklearn\u001b[0m\u001b[0;34m.\u001b[0m\u001b[0mmetrics\u001b[0m \u001b[0;32mimport\u001b[0m \u001b[0maccuracy_score\u001b[0m\u001b[0;34m\u001b[0m\u001b[0m\n\u001b[0;32m----> 8\u001b[0;31m \u001b[0;32mfrom\u001b[0m \u001b[0msklearn\u001b[0m\u001b[0;34m.\u001b[0m\u001b[0mmodel_selection\u001b[0m \u001b[0;32mimport\u001b[0m \u001b[0mcross_validate\u001b[0m\u001b[0;34m\u001b[0m\u001b[0m\n\u001b[0m\u001b[1;32m      9\u001b[0m \u001b[0;34m\u001b[0m\u001b[0m\n\u001b[1;32m     10\u001b[0m \u001b[0;31m# Dictionary of classifiers\u001b[0m\u001b[0;34m\u001b[0m\u001b[0;34m\u001b[0m\u001b[0m\n",
      "\u001b[0;31mImportError\u001b[0m: cannot import name 'cross_validate'"
     ]
    }
   ],
   "source": [
    "from sklearn.naive_bayes import GaussianNB\n",
    "from sklearn.neighbors import KNeighborsClassifier\n",
    "from sklearn.tree import DecisionTreeClassifier\n",
    "from sklearn.ensemble import RandomForestClassifier\n",
    "from sklearn.ensemble import AdaBoostClassifier\n",
    "from sklearn.svm import SVC\n",
    "from sklearn.metrics import accuracy_score\n",
    "from sklearn.model_selection import cross_validate\n",
    "\n",
    "# Dictionary of classifiers\n",
    "classifiers = {'Naive Bayes': GaussianNB(),               'k Nearest': KNeighborsClassifier(),\n",
    "               'Decision Tree': DecisionTreeClassifier(), 'Random Forest': RandomForestClassifier(),\n",
    "               'AdaBoost': AdaBoostClassifier(),          'Support Vector Machine': SVC()}"
   ]
  },
  {
   "cell_type": "code",
   "execution_count": 24,
   "metadata": {},
   "outputs": [],
   "source": [
    "# Initialize data structure of imported data\n",
    "size_values = [50, 100, 200, 300, 400, 500]\n",
    "placements = {'Left': None, 'Middle': None, 'Right': None}\n",
    "vectors = {vector: placements for vector in ['Features', 'FFTs', 'PSDLogs']}\n",
    "sizes = {size: vectors for size in size_values}\n",
    "\n",
    "# For each .csv of processed data\n",
    "for filename in glob.glob('processed_data/windows/*.csv'):\n",
    "    placement, vector, size = filename.split('/')[-1].split('.')[0].split('_')\n",
    "    sizes[int(size)][vector][placement] = pd.read_csv(filename)"
   ]
  },
  {
   "cell_type": "code",
   "execution_count": 26,
   "metadata": {},
   "outputs": [
    {
     "ename": "SyntaxError",
     "evalue": "invalid syntax (<ipython-input-26-1379edaa976b>, line 37)",
     "output_type": "error",
     "traceback": [
      "\u001b[0;36m  File \u001b[0;32m\"<ipython-input-26-1379edaa976b>\"\u001b[0;36m, line \u001b[0;32m37\u001b[0m\n\u001b[0;31m    ...                         cv=5, return_train_score=True)\u001b[0m\n\u001b[0m                                 ^\u001b[0m\n\u001b[0;31mSyntaxError\u001b[0m\u001b[0;31m:\u001b[0m invalid syntax\n"
     ]
    }
   ],
   "source": [
    "def compare_sizes(placement, vector, classifier_names, train_frac=0.8):\n",
    "    # Figure properties\n",
    "    fig, ax = plt.subplots(figsize=(10, 8))\n",
    "    ax.set(title='Window Size Comparision for ' + placement + ' ' + vector)\n",
    "    ax.set(xlabel='Window Size', y_label='Accuracy')\n",
    "    \n",
    "    for classifier_name in classifier_names:\n",
    "        # Update classifier model\n",
    "        model = classifiers[classifier_name]\n",
    "        \n",
    "        # Accuracy for each window size\n",
    "        accuracies = []\n",
    "        \n",
    "        # Testing time for each window size\n",
    "        testing_times = []\n",
    "        \n",
    "        # For each window size\n",
    "        for size_value in size_values:\n",
    "            size_data = sizes[size_value][vector][placement]\n",
    "            size_labels = size_data.pop('Label')\n",
    "            # Split data into train and test dataset\n",
    "            #train_data = size_data.sample(frac=train_frac, random_state=0)\n",
    "            #test_data = size_data.drop(train.index)\n",
    "            #train_label = train.pop('Label')\n",
    "            #test_label = test.pop('Label')\n",
    "            \n",
    "            # Fit model to train data\n",
    "            #model.fit(train_data, train_label)\n",
    "\n",
    "            # Predict test data with trained model\n",
    "            #predict_label = model.predict(test_data)\n",
    "    \n",
    "            # Compute accuracy of each classifier and update array\n",
    "            #accuracy = accuracy_score(test_label, predict_label)\n",
    "            #accuracies.append(accuracy)\n",
    "            \n",
    "            # Five-fold cross validate data and get metrics\n",
    "            scores = cross_validate(model, size_data, size_target, scoring=scoring,\n",
    "...                         cv=5, return_train_score=True)\n",
    "            print(sorted(scores.keys()))\n",
    "            \n",
    "        plt.plot(size_values, accuracies, label=classifier)"
   ]
  },
  {
   "cell_type": "code",
   "execution_count": null,
   "metadata": {
    "collapsed": true
   },
   "outputs": [],
   "source": []
  }
 ],
 "metadata": {
  "kernelspec": {
   "display_name": "Python 2",
   "language": "python",
   "name": "python2"
  },
  "language_info": {
   "codemirror_mode": {
    "name": "ipython",
    "version": 3
   },
   "file_extension": ".py",
   "mimetype": "text/x-python",
   "name": "python",
   "nbconvert_exporter": "python",
   "pygments_lexer": "ipython3",
   "version": "3.4.5"
  }
 },
 "nbformat": 4,
 "nbformat_minor": 2
}
