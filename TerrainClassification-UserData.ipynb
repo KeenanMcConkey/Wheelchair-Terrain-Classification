{
 "cells": [
  {
   "cell_type": "markdown",
   "metadata": {},
   "source": [
    "# Terrain Classification - Combined User Data\n",
    "### Created by Keenan McConkey 2019.08.01"
   ]
  },
  {
   "cell_type": "code",
   "execution_count": 1,
   "metadata": {},
   "outputs": [],
   "source": [
    "from __future__ import absolute_import, division, print_function\n",
    "\n",
    "import pandas as pd\n",
    "\n",
    "import glob\n",
    "import numpy as np\n",
    "import matplotlib.pyplot as plt\n",
    "from matplotlib import gridspec\n",
    "from mpl_toolkits.mplot3d import Axes3D\n",
    "from scipy import signal\n",
    "from scipy import stats\n",
    "\n",
    "from datetime import datetime\n",
    "from decimal import Decimal\n",
    "\n",
    "import pymrmr\n",
    "import sklearn"
   ]
  },
  {
   "cell_type": "markdown",
   "metadata": {},
   "source": [
    "## Part 1 - Importing Preprocessed Data"
   ]
  },
  {
   "cell_type": "markdown",
   "metadata": {},
   "source": [
    "### Part (a) - Functions for Data Import"
   ]
  },
  {
   "cell_type": "code",
   "execution_count": 2,
   "metadata": {},
   "outputs": [],
   "source": [
    "# All the terrains, placements, vectors, power-assistance, users in the study\n",
    "terrains = ['Concrete', 'Carpet', 'Linoleum', 'Asphalt', 'Sidewalk', 'Grass', 'Gravel']\n",
    "powers = ['Manual'] # TODO: Fix power PSD data and add back in\n",
    "placements_manual = ['Middle', 'Left', 'Right', 'Synthesis']\n",
    "placements_power = ['Middle']\n",
    "vectors = ['Features', 'FFTs', 'PSDLogs']\n",
    "users = ['Keenan', 'Kevin', 'Mahsa', 'Jamie']\n",
    "axes = ['X Accel', 'Y Accel', 'Z Accel', 'X Gyro', 'Y Gyro', 'Z Gyro']"
   ]
  },
  {
   "cell_type": "code",
   "execution_count": 3,
   "metadata": {},
   "outputs": [],
   "source": [
    "'''Get the integer terrain value of a given label'''\n",
    "def get_terrain_num(_label):\n",
    "    for i, terrain in enumerate(terrains):\n",
    "        if terrain in _label:\n",
    "            return i\n",
    "        \n",
    "    raise Exception('Unknown terrain')\n",
    "\n",
    "'''Get the name associated with a terrain integer'''\n",
    "def get_terrain_name(terrain_num):\n",
    "    return terrains[terrain_num]\n",
    "    return terrains[terrain_num]\n",
    "\n",
    "'''Get the placement location name for given label'''\n",
    "def get_placement(_label):\n",
    "    for placement in placements:\n",
    "        if placement in _label:\n",
    "            return placement\n",
    "    \n",
    "    raise Exception('Unknown placement')\n",
    "\n",
    "'''Get the transform used for given label'''\n",
    "def get_transform(_label):\n",
    "    for transform in transforms:\n",
    "        if transform in _label:\n",
    "            return transform\n",
    "    \n",
    "    raise Exception('Unknown transform')"
   ]
  },
  {
   "cell_type": "markdown",
   "metadata": {},
   "source": [
    "### Part (b) - Import Processed Data from Each User"
   ]
  },
  {
   "cell_type": "code",
   "execution_count": 4,
   "metadata": {},
   "outputs": [],
   "source": [
    "'''Combine data from labelled datasets into a single dataframe'''\n",
    "def combine_datasets(datasets):\n",
    "    return pd.concat(list(datasets.values()), ignore_index=True, sort=False)"
   ]
  },
  {
   "cell_type": "code",
   "execution_count": 5,
   "metadata": {},
   "outputs": [],
   "source": [
    "path = 'processed_data/new_setup/' \n",
    "\n",
    "# Nested dictionary of processed data:\n",
    "# - Power assistance type\n",
    "# -- Placement\n",
    "# --- Feature Vector\n",
    "# ---- User\n",
    "power_dict = {}\n",
    "\n",
    "# Create each nesting of the dictionary\n",
    "for power in powers:\n",
    "    placement_dict = {}\n",
    "    \n",
    "    # Power datasets only have middle placement (for now)\n",
    "    if power == 'Power':\n",
    "        placements = placements_power.copy()\n",
    "    else:\n",
    "        placements = placements_manual.copy()\n",
    "    \n",
    "    for placement in placements:\n",
    "        vector_dict = {}\n",
    "\n",
    "        for vector in vectors:\n",
    "            user_dict = {}\n",
    "\n",
    "            for user in users:\n",
    "                # File name based on above parameters\n",
    "                filename = power.lower() + '/' + placement + '_' + vector + '_Filt_' + user \n",
    "                if power == 'Power':\n",
    "                    filename += '_Power'\n",
    "                filename += '.csv'\n",
    "                \n",
    "                # Read data and update current user dictionary\n",
    "                data = pd.read_csv(path + filename)\n",
    "                user_dict.update({user: data})\n",
    "\n",
    "            # Combine users to form a new entry of user dictionary, save to .csv\n",
    "            # NaNs arise when you combine Synthesis feature vectors\n",
    "            combined_data = combine_datasets(user_dict).dropna(axis='columns')\n",
    "            user_dict.update({'All': combined_data})\n",
    "\n",
    "            vector_dict.update({vector: user_dict})\n",
    "        \n",
    "        # Create a dictionary of the combined feature vector for each user\n",
    "        combined_vector_user_dict = {}\n",
    "        \n",
    "        for user in user_dict.keys():\n",
    "            # Get all vectors for current user and pop label column\n",
    "            user_all_vectors = []\n",
    "            \n",
    "            for vector in vector_dict.values():\n",
    "                user_vector = vector[user].copy()\n",
    "                labels = user_vector.pop('Label') # All label columns should be the same\n",
    "                user_all_vectors.append(user_vector)\n",
    "            \n",
    "            # Combine vectors and add back label column\n",
    "            combined_vector = pd.concat(user_all_vectors, axis='columns')\n",
    "            combined_vector.insert(loc=0, column='Label', value=labels)\n",
    "            combined_vector_user_dict.update({user: combined_vector})\n",
    "        \n",
    "        # Add the combined feature vector to the vector dictionary\n",
    "        vector_dict.update({'Combined': combined_vector_user_dict})\n",
    "        \n",
    "        placement_dict.update({placement: vector_dict})\n",
    "    \n",
    "    power_dict.update({power: placement_dict})"
   ]
  },
  {
   "cell_type": "code",
   "execution_count": 6,
   "metadata": {},
   "outputs": [],
   "source": [
    "# Update vectors to reflect new combined vector\n",
    "vectors.append('Combined')"
   ]
  },
  {
   "cell_type": "code",
   "execution_count": 7,
   "metadata": {},
   "outputs": [
    {
     "data": {
      "text/html": [
       "<div>\n",
       "<style scoped>\n",
       "    .dataframe tbody tr th:only-of-type {\n",
       "        vertical-align: middle;\n",
       "    }\n",
       "\n",
       "    .dataframe tbody tr th {\n",
       "        vertical-align: top;\n",
       "    }\n",
       "\n",
       "    .dataframe thead th {\n",
       "        text-align: right;\n",
       "    }\n",
       "</style>\n",
       "<table border=\"1\" class=\"dataframe\">\n",
       "  <thead>\n",
       "    <tr style=\"text-align: right;\">\n",
       "      <th></th>\n",
       "      <th>Label</th>\n",
       "      <th>Mean X Accel Middle</th>\n",
       "      <th>Std Dev X Accel Middle</th>\n",
       "      <th>L2 Norm X Accel Middle</th>\n",
       "      <th>Autocorrelation X Accel Middle</th>\n",
       "      <th>Max X Accel Middle</th>\n",
       "      <th>Min X Accel Middle</th>\n",
       "      <th>Root Mean Squared X Accel Middle</th>\n",
       "      <th>Zero Crossing Rate X Accel Middle</th>\n",
       "      <th>Skew X Accel Middle</th>\n",
       "      <th>...</th>\n",
       "      <th>PSD 1.0 Hz X Gyro Middle</th>\n",
       "      <th>PSD 1.0 Hz Z Accel Middle</th>\n",
       "      <th>PSD 1.0 Hz Y Accel Middle</th>\n",
       "      <th>PSD 1.0 Hz X Accel Middle</th>\n",
       "      <th>PSD 0.0 Hz Z Gyro Middle</th>\n",
       "      <th>PSD 0.0 Hz Y Gyro Middle</th>\n",
       "      <th>PSD 0.0 Hz X Gyro Middle</th>\n",
       "      <th>PSD 0.0 Hz Z Accel Middle</th>\n",
       "      <th>PSD 0.0 Hz Y Accel Middle</th>\n",
       "      <th>PSD 0.0 Hz X Accel Middle</th>\n",
       "    </tr>\n",
       "  </thead>\n",
       "  <tbody>\n",
       "    <tr>\n",
       "      <th>8012</th>\n",
       "      <td>5</td>\n",
       "      <td>-0.048488</td>\n",
       "      <td>-0.146781</td>\n",
       "      <td>-0.224684</td>\n",
       "      <td>-0.293490</td>\n",
       "      <td>-0.369834</td>\n",
       "      <td>0.803903</td>\n",
       "      <td>-0.224684</td>\n",
       "      <td>0.410072</td>\n",
       "      <td>-0.295411</td>\n",
       "      <td>...</td>\n",
       "      <td>-3.199153</td>\n",
       "      <td>-2.119317</td>\n",
       "      <td>-1.360919</td>\n",
       "      <td>-1.726940</td>\n",
       "      <td>-1.125372</td>\n",
       "      <td>-2.414256</td>\n",
       "      <td>-3.104088</td>\n",
       "      <td>-1.992795</td>\n",
       "      <td>-0.906233</td>\n",
       "      <td>-0.163503</td>\n",
       "    </tr>\n",
       "    <tr>\n",
       "      <th>8013</th>\n",
       "      <td>5</td>\n",
       "      <td>-0.838211</td>\n",
       "      <td>-0.549810</td>\n",
       "      <td>-0.679571</td>\n",
       "      <td>-0.697007</td>\n",
       "      <td>-0.727631</td>\n",
       "      <td>0.649344</td>\n",
       "      <td>-0.679571</td>\n",
       "      <td>-1.279923</td>\n",
       "      <td>0.891646</td>\n",
       "      <td>...</td>\n",
       "      <td>-2.854475</td>\n",
       "      <td>-1.476822</td>\n",
       "      <td>-1.801745</td>\n",
       "      <td>-0.448959</td>\n",
       "      <td>-1.699782</td>\n",
       "      <td>-2.961492</td>\n",
       "      <td>-2.498364</td>\n",
       "      <td>-1.379586</td>\n",
       "      <td>-1.488251</td>\n",
       "      <td>0.043019</td>\n",
       "    </tr>\n",
       "    <tr>\n",
       "      <th>8014</th>\n",
       "      <td>5</td>\n",
       "      <td>-0.058510</td>\n",
       "      <td>-1.523523</td>\n",
       "      <td>-1.527153</td>\n",
       "      <td>-1.358674</td>\n",
       "      <td>-0.612425</td>\n",
       "      <td>0.753509</td>\n",
       "      <td>-1.527153</td>\n",
       "      <td>1.255070</td>\n",
       "      <td>0.353343</td>\n",
       "      <td>...</td>\n",
       "      <td>-2.651156</td>\n",
       "      <td>-2.436379</td>\n",
       "      <td>-1.318068</td>\n",
       "      <td>-1.271694</td>\n",
       "      <td>-1.236619</td>\n",
       "      <td>-2.188757</td>\n",
       "      <td>-2.502940</td>\n",
       "      <td>-1.908180</td>\n",
       "      <td>-1.126076</td>\n",
       "      <td>-0.427966</td>\n",
       "    </tr>\n",
       "    <tr>\n",
       "      <th>8015</th>\n",
       "      <td>5</td>\n",
       "      <td>0.068267</td>\n",
       "      <td>1.145593</td>\n",
       "      <td>1.019167</td>\n",
       "      <td>0.982532</td>\n",
       "      <td>2.396203</td>\n",
       "      <td>-0.863990</td>\n",
       "      <td>1.019167</td>\n",
       "      <td>-0.434925</td>\n",
       "      <td>1.624021</td>\n",
       "      <td>...</td>\n",
       "      <td>-3.348061</td>\n",
       "      <td>-2.113860</td>\n",
       "      <td>-2.132868</td>\n",
       "      <td>-0.466117</td>\n",
       "      <td>-1.621375</td>\n",
       "      <td>-2.014946</td>\n",
       "      <td>-3.373160</td>\n",
       "      <td>-2.914507</td>\n",
       "      <td>-1.887899</td>\n",
       "      <td>0.042225</td>\n",
       "    </tr>\n",
       "    <tr>\n",
       "      <th>8016</th>\n",
       "      <td>5</td>\n",
       "      <td>-0.180351</td>\n",
       "      <td>-1.198178</td>\n",
       "      <td>-1.241871</td>\n",
       "      <td>-1.149074</td>\n",
       "      <td>-0.756011</td>\n",
       "      <td>1.430402</td>\n",
       "      <td>-1.241871</td>\n",
       "      <td>-0.857424</td>\n",
       "      <td>-0.327254</td>\n",
       "      <td>...</td>\n",
       "      <td>-3.855377</td>\n",
       "      <td>-2.770625</td>\n",
       "      <td>-2.242923</td>\n",
       "      <td>-1.473848</td>\n",
       "      <td>-1.418449</td>\n",
       "      <td>-2.783864</td>\n",
       "      <td>-2.749813</td>\n",
       "      <td>-2.456584</td>\n",
       "      <td>-0.994285</td>\n",
       "      <td>-0.041851</td>\n",
       "    </tr>\n",
       "  </tbody>\n",
       "</table>\n",
       "<p>5 rows × 811 columns</p>\n",
       "</div>"
      ],
      "text/plain": [
       "      Label  Mean X Accel Middle  Std Dev X Accel Middle  \\\n",
       "8012      5            -0.048488               -0.146781   \n",
       "8013      5            -0.838211               -0.549810   \n",
       "8014      5            -0.058510               -1.523523   \n",
       "8015      5             0.068267                1.145593   \n",
       "8016      5            -0.180351               -1.198178   \n",
       "\n",
       "      L2 Norm X Accel Middle  Autocorrelation X Accel Middle  \\\n",
       "8012               -0.224684                       -0.293490   \n",
       "8013               -0.679571                       -0.697007   \n",
       "8014               -1.527153                       -1.358674   \n",
       "8015                1.019167                        0.982532   \n",
       "8016               -1.241871                       -1.149074   \n",
       "\n",
       "      Max X Accel Middle  Min X Accel Middle  \\\n",
       "8012           -0.369834            0.803903   \n",
       "8013           -0.727631            0.649344   \n",
       "8014           -0.612425            0.753509   \n",
       "8015            2.396203           -0.863990   \n",
       "8016           -0.756011            1.430402   \n",
       "\n",
       "      Root Mean Squared X Accel Middle  Zero Crossing Rate X Accel Middle  \\\n",
       "8012                         -0.224684                           0.410072   \n",
       "8013                         -0.679571                          -1.279923   \n",
       "8014                         -1.527153                           1.255070   \n",
       "8015                          1.019167                          -0.434925   \n",
       "8016                         -1.241871                          -0.857424   \n",
       "\n",
       "      Skew X Accel Middle  ...  PSD 1.0 Hz X Gyro Middle  \\\n",
       "8012            -0.295411  ...                 -3.199153   \n",
       "8013             0.891646  ...                 -2.854475   \n",
       "8014             0.353343  ...                 -2.651156   \n",
       "8015             1.624021  ...                 -3.348061   \n",
       "8016            -0.327254  ...                 -3.855377   \n",
       "\n",
       "      PSD 1.0 Hz Z Accel Middle  PSD 1.0 Hz Y Accel Middle  \\\n",
       "8012                  -2.119317                  -1.360919   \n",
       "8013                  -1.476822                  -1.801745   \n",
       "8014                  -2.436379                  -1.318068   \n",
       "8015                  -2.113860                  -2.132868   \n",
       "8016                  -2.770625                  -2.242923   \n",
       "\n",
       "      PSD 1.0 Hz X Accel Middle  PSD 0.0 Hz Z Gyro Middle  \\\n",
       "8012                  -1.726940                 -1.125372   \n",
       "8013                  -0.448959                 -1.699782   \n",
       "8014                  -1.271694                 -1.236619   \n",
       "8015                  -0.466117                 -1.621375   \n",
       "8016                  -1.473848                 -1.418449   \n",
       "\n",
       "      PSD 0.0 Hz Y Gyro Middle  PSD 0.0 Hz X Gyro Middle  \\\n",
       "8012                 -2.414256                 -3.104088   \n",
       "8013                 -2.961492                 -2.498364   \n",
       "8014                 -2.188757                 -2.502940   \n",
       "8015                 -2.014946                 -3.373160   \n",
       "8016                 -2.783864                 -2.749813   \n",
       "\n",
       "      PSD 0.0 Hz Z Accel Middle  PSD 0.0 Hz Y Accel Middle  \\\n",
       "8012                  -1.992795                  -0.906233   \n",
       "8013                  -1.379586                  -1.488251   \n",
       "8014                  -1.908180                  -1.126076   \n",
       "8015                  -2.914507                  -1.887899   \n",
       "8016                  -2.456584                  -0.994285   \n",
       "\n",
       "      PSD 0.0 Hz X Accel Middle  \n",
       "8012                  -0.163503  \n",
       "8013                   0.043019  \n",
       "8014                  -0.427966  \n",
       "8015                   0.042225  \n",
       "8016                  -0.041851  \n",
       "\n",
       "[5 rows x 811 columns]"
      ]
     },
     "execution_count": 7,
     "metadata": {},
     "output_type": "execute_result"
    }
   ],
   "source": [
    "# Check some data\n",
    "power_dict['Manual']['Middle']['Combined']['All'].tail()"
   ]
  },
  {
   "cell_type": "markdown",
   "metadata": {},
   "source": [
    "## Part 2 -  mRMR (minimum Redunancy Maximum Relevance)\n",
    "\n",
    "mRMR tries to find which features have the highest information shared with classified state and lowest information shared with other features."
   ]
  },
  {
   "cell_type": "markdown",
   "metadata": {},
   "source": [
    "### Part (a) - Middle Frame Placement"
   ]
  },
  {
   "cell_type": "markdown",
   "metadata": {},
   "source": [
    "#### Part (i) - Manual Wheelchair"
   ]
  },
  {
   "cell_type": "code",
   "execution_count": 8,
   "metadata": {
    "scrolled": true
   },
   "outputs": [
    {
     "data": {
      "text/plain": [
       "['Variance Frequency X Accel Middle',\n",
       " 'Excess Kurtosis Z Accel Middle',\n",
       " 'Variance Frequency Y Gyro Middle',\n",
       " 'Zero Crossing Rate Z Gyro Middle',\n",
       " 'Variance Frequency X Gyro Middle']"
      ]
     },
     "execution_count": 8,
     "metadata": {},
     "output_type": "execute_result"
    }
   ],
   "source": [
    "pymrmr.mRMR(data=power_dict['Manual']['Middle']['Features']['All'], method='MID', nfeats=5)"
   ]
  },
  {
   "cell_type": "code",
   "execution_count": 9,
   "metadata": {},
   "outputs": [
    {
     "data": {
      "text/plain": [
       "['FFT 0.0 Hz Y Accel Middle',\n",
       " 'FFT 32.0 Hz Z Accel Middle',\n",
       " 'FFT 31.0 Hz Z Accel Middle',\n",
       " 'FFT 29.0 Hz Z Accel Middle',\n",
       " 'FFT 0.0 Hz Z Gyro Middle']"
      ]
     },
     "execution_count": 9,
     "metadata": {},
     "output_type": "execute_result"
    }
   ],
   "source": [
    "pymrmr.mRMR(data=power_dict['Manual']['Middle']['FFTs']['All'], method='MID', nfeats=5)"
   ]
  },
  {
   "cell_type": "code",
   "execution_count": 10,
   "metadata": {},
   "outputs": [
    {
     "data": {
      "text/plain": [
       "['PSD 55.0 Hz Y Accel Middle',\n",
       " 'PSD 0.0 Hz Y Gyro Middle',\n",
       " 'PSD 37.0 Hz Y Gyro Middle',\n",
       " 'PSD 3.0 Hz Y Gyro Middle',\n",
       " 'PSD 56.0 Hz Y Accel Middle']"
      ]
     },
     "execution_count": 10,
     "metadata": {},
     "output_type": "execute_result"
    }
   ],
   "source": [
    "pymrmr.mRMR(data=power_dict['Manual']['Middle']['PSDLogs']['All'], method='MID', nfeats=5)"
   ]
  },
  {
   "cell_type": "code",
   "execution_count": 11,
   "metadata": {},
   "outputs": [
    {
     "data": {
      "text/plain": [
       "['PSD 55.0 Hz Y Accel Middle',\n",
       " 'PSD 0.0 Hz Y Gyro Middle',\n",
       " 'PSD 37.0 Hz Y Gyro Middle',\n",
       " 'PSD 3.0 Hz Y Gyro Middle',\n",
       " 'PSD 56.0 Hz Y Accel Middle']"
      ]
     },
     "execution_count": 11,
     "metadata": {},
     "output_type": "execute_result"
    }
   ],
   "source": [
    "pymrmr.mRMR(data=power_dict['Manual']['Middle']['Combined']['All'], method='MID', nfeats=5)"
   ]
  },
  {
   "cell_type": "markdown",
   "metadata": {},
   "source": [
    "#### Part (i) - Power Assist Wheelchair"
   ]
  },
  {
   "cell_type": "code",
   "execution_count": 12,
   "metadata": {
    "scrolled": true
   },
   "outputs": [],
   "source": [
    "#pymrmr.mRMR(data=power_dict['Power']['Middle']['Features']['All'], method='MID', nfeats=5)"
   ]
  },
  {
   "cell_type": "code",
   "execution_count": 13,
   "metadata": {},
   "outputs": [],
   "source": [
    "#pymrmr.mRMR(data=power_dict['Power']['Middle']['FFTs']['All'], method='MID', nfeats=5)"
   ]
  },
  {
   "cell_type": "code",
   "execution_count": 14,
   "metadata": {},
   "outputs": [],
   "source": [
    "#pymrmr.mRMR(data=power_dict['Power']['Middle']['PSDLogs']['All'], method='MID', nfeats=5)"
   ]
  },
  {
   "cell_type": "code",
   "execution_count": 15,
   "metadata": {},
   "outputs": [],
   "source": [
    "#pymrmr.mRMR(data=power_dict['Power']['Middle']['Combined']['All'], method='MID', nfeats=5)"
   ]
  },
  {
   "cell_type": "markdown",
   "metadata": {},
   "source": [
    "### Part (b) - Left Wheel Placement"
   ]
  },
  {
   "cell_type": "code",
   "execution_count": 16,
   "metadata": {
    "scrolled": false
   },
   "outputs": [
    {
     "data": {
      "text/plain": [
       "['Min Y Accel Left',\n",
       " 'Zero Crossing Rate Y Gyro Left',\n",
       " 'Min X Accel Left',\n",
       " 'Max X Accel Left',\n",
       " 'Max Y Accel Left']"
      ]
     },
     "execution_count": 16,
     "metadata": {},
     "output_type": "execute_result"
    }
   ],
   "source": [
    "pymrmr.mRMR(data=power_dict['Manual']['Left']['Features']['All'], method='MID', nfeats=5)"
   ]
  },
  {
   "cell_type": "code",
   "execution_count": 17,
   "metadata": {},
   "outputs": [
    {
     "data": {
      "text/plain": [
       "['FFT 0.0 Hz Z Gyro Left',\n",
       " 'FFT 33.0 Hz X Accel Left',\n",
       " 'FFT 4.0 Hz Y Accel Left',\n",
       " 'FFT 52.0 Hz Z Accel Left',\n",
       " 'FFT 4.0 Hz X Accel Left']"
      ]
     },
     "execution_count": 17,
     "metadata": {},
     "output_type": "execute_result"
    }
   ],
   "source": [
    "pymrmr.mRMR(data=power_dict['Manual']['Left']['FFTs']['All'], method='MID', nfeats=5)"
   ]
  },
  {
   "cell_type": "code",
   "execution_count": 18,
   "metadata": {},
   "outputs": [
    {
     "data": {
      "text/plain": [
       "['PSD 63.0 Hz Z Accel Left',\n",
       " 'PSD 16.0 Hz Z Accel Left',\n",
       " 'PSD 36.0 Hz Z Accel Left',\n",
       " 'PSD 47.0 Hz X Accel Left',\n",
       " 'PSD 53.0 Hz Y Accel Left']"
      ]
     },
     "execution_count": 18,
     "metadata": {},
     "output_type": "execute_result"
    }
   ],
   "source": [
    "pymrmr.mRMR(data=power_dict['Manual']['Left']['PSDLogs']['All'], method='MID', nfeats=5)"
   ]
  },
  {
   "cell_type": "code",
   "execution_count": 19,
   "metadata": {},
   "outputs": [
    {
     "data": {
      "text/plain": [
       "['PSD 63.0 Hz Z Accel Left',\n",
       " 'PSD 16.0 Hz Z Accel Left',\n",
       " 'PSD 36.0 Hz Z Accel Left',\n",
       " 'FFT 0.0 Hz Z Gyro Left',\n",
       " 'PSD 27.0 Hz Z Accel Left']"
      ]
     },
     "execution_count": 19,
     "metadata": {},
     "output_type": "execute_result"
    }
   ],
   "source": [
    "pymrmr.mRMR(data=power_dict['Manual']['Left']['Combined']['All'], method='MID', nfeats=5)"
   ]
  },
  {
   "cell_type": "markdown",
   "metadata": {},
   "source": [
    "### Part (c) - Right Wheel Placement"
   ]
  },
  {
   "cell_type": "code",
   "execution_count": 20,
   "metadata": {
    "scrolled": false
   },
   "outputs": [
    {
     "data": {
      "text/plain": [
       "['Min X Accel Right',\n",
       " 'Min Y Accel Right',\n",
       " 'Variance Frequency Z Accel Right',\n",
       " 'Max X Accel Right',\n",
       " 'Max Y Accel Right']"
      ]
     },
     "execution_count": 20,
     "metadata": {},
     "output_type": "execute_result"
    }
   ],
   "source": [
    "pymrmr.mRMR(data=power_dict['Manual']['Right']['Features']['All'], method='MID', nfeats=5)"
   ]
  },
  {
   "cell_type": "code",
   "execution_count": 21,
   "metadata": {},
   "outputs": [
    {
     "data": {
      "text/plain": [
       "['FFT 0.0 Hz Z Gyro Right',\n",
       " 'FFT 53.0 Hz Z Accel Right',\n",
       " 'FFT 52.0 Hz Z Accel Right',\n",
       " 'FFT 55.0 Hz Z Accel Right',\n",
       " 'FFT 54.0 Hz Z Accel Right']"
      ]
     },
     "execution_count": 21,
     "metadata": {},
     "output_type": "execute_result"
    }
   ],
   "source": [
    "pymrmr.mRMR(data=power_dict['Manual']['Right']['FFTs']['All'], method='MID', nfeats=5)"
   ]
  },
  {
   "cell_type": "code",
   "execution_count": 22,
   "metadata": {},
   "outputs": [
    {
     "data": {
      "text/plain": [
       "['PSD 62.0 Hz Z Accel Right',\n",
       " 'PSD 16.0 Hz Z Accel Right',\n",
       " 'PSD 56.0 Hz Z Accel Right',\n",
       " 'PSD 46.0 Hz X Accel Right',\n",
       " 'PSD 20.0 Hz Z Accel Right']"
      ]
     },
     "execution_count": 22,
     "metadata": {},
     "output_type": "execute_result"
    }
   ],
   "source": [
    "pymrmr.mRMR(data=power_dict['Manual']['Right']['PSDLogs']['All'], method='MID', nfeats=5)"
   ]
  },
  {
   "cell_type": "code",
   "execution_count": 23,
   "metadata": {},
   "outputs": [
    {
     "data": {
      "text/plain": [
       "['PSD 62.0 Hz Z Accel Right',\n",
       " 'PSD 16.0 Hz Z Accel Right',\n",
       " 'PSD 56.0 Hz Z Accel Right',\n",
       " 'FFT 0.0 Hz Z Gyro Right',\n",
       " 'PSD 63.0 Hz Z Accel Right']"
      ]
     },
     "execution_count": 23,
     "metadata": {},
     "output_type": "execute_result"
    }
   ],
   "source": [
    "pymrmr.mRMR(data=power_dict['Manual']['Right']['Combined']['All'], method='MID', nfeats=5)"
   ]
  },
  {
   "cell_type": "markdown",
   "metadata": {},
   "source": [
    "### Part (d) - Synthesis \"Placement\""
   ]
  },
  {
   "cell_type": "code",
   "execution_count": 24,
   "metadata": {
    "scrolled": false
   },
   "outputs": [
    {
     "data": {
      "text/plain": [
       "['Min Left Y Accel Synthesis',\n",
       " 'Min Right X Accel Synthesis',\n",
       " 'Zero Crossing Rate Left Y Gyro Synthesis',\n",
       " 'Min Left X Accel Synthesis',\n",
       " 'Min Right Y Accel Synthesis']"
      ]
     },
     "execution_count": 24,
     "metadata": {},
     "output_type": "execute_result"
    }
   ],
   "source": [
    "pymrmr.mRMR(data=power_dict['Manual']['Synthesis']['Features']['All'], method='MID', nfeats=5)"
   ]
  },
  {
   "cell_type": "code",
   "execution_count": 25,
   "metadata": {},
   "outputs": [
    {
     "data": {
      "text/plain": [
       "['FFT 0.0 Hz Right Z Gyro Synthesis',\n",
       " 'FFT 0.0 Hz Left XY Accel Synthesis',\n",
       " 'FFT 0.0 Hz Calc Z Gyro Synthesis',\n",
       " 'FFT 0.0 Hz Right XY Accel Synthesis',\n",
       " 'FFT 0.0 Hz Left Z Gyro Synthesis']"
      ]
     },
     "execution_count": 25,
     "metadata": {},
     "output_type": "execute_result"
    }
   ],
   "source": [
    "pymrmr.mRMR(data=power_dict['Manual']['Synthesis']['FFTs']['All'], method='MID', nfeats=5)"
   ]
  },
  {
   "cell_type": "code",
   "execution_count": 26,
   "metadata": {},
   "outputs": [
    {
     "data": {
      "text/plain": [
       "['PSD 39.0 Hz Left XY Accel Synthesis',\n",
       " 'PSD 15.0 Hz Right Z Accel Synthesis',\n",
       " 'PSD 63.0 Hz Right Z Accel Synthesis',\n",
       " 'PSD 51.0 Hz Left XY Accel Synthesis',\n",
       " 'PSD 13.0 Hz Left XY Accel Synthesis']"
      ]
     },
     "execution_count": 26,
     "metadata": {},
     "output_type": "execute_result"
    }
   ],
   "source": [
    "pymrmr.mRMR(data=power_dict['Manual']['Synthesis']['PSDLogs']['All'], method='MID', nfeats=5)"
   ]
  },
  {
   "cell_type": "code",
   "execution_count": 27,
   "metadata": {},
   "outputs": [
    {
     "data": {
      "text/plain": [
       "['PSD 39.0 Hz Left XY Accel Synthesis',\n",
       " 'PSD 15.0 Hz Right Z Accel Synthesis',\n",
       " 'PSD 63.0 Hz Right Z Accel Synthesis',\n",
       " 'PSD 51.0 Hz Left XY Accel Synthesis',\n",
       " 'PSD 13.0 Hz Left XY Accel Synthesis']"
      ]
     },
     "execution_count": 27,
     "metadata": {},
     "output_type": "execute_result"
    }
   ],
   "source": [
    "pymrmr.mRMR(data=power_dict['Manual']['Synthesis']['Combined']['All'], method='MID', nfeats=5)"
   ]
  },
  {
   "cell_type": "markdown",
   "metadata": {},
   "source": [
    "### Part (e) - Nested Dictionary of Top Features"
   ]
  },
  {
   "cell_type": "code",
   "execution_count": null,
   "metadata": {},
   "outputs": [],
   "source": [
    "# Create dictionary of top mRMR features to speed up calculations, up to to 20\n",
    "power_dict_features = {}\n",
    "\n",
    "for power in powers:\n",
    "    placement_dict_features = {}\n",
    "    \n",
    "    for placement in placements:\n",
    "        vector_dict_features = {}\n",
    "        \n",
    "        for vector in vectors:\n",
    "            user_dict_features = {}\n",
    "\n",
    "            # Only calculate for all users for now\n",
    "            for user in ['All']:\n",
    "                top_features = pymrmr.mRMR(data=power_dict[power][placement][vector][user],\n",
    "                                           method='MID', nfeats=20)\n",
    "                user_dict_features.update({user: top_features})\n",
    "\n",
    "            vector_dict_features.update({vector: user_dict_features})\n",
    "            \n",
    "        placement_dict_features.update({placement: vector_dict_features})\n",
    "    \n",
    "    power_dict_features.update({power: placement_dict_features})"
   ]
  },
  {
   "cell_type": "code",
   "execution_count": null,
   "metadata": {},
   "outputs": [],
   "source": [
    "# Pickle the dictionary\n",
    "import pickle\n",
    "\n",
    "mRMR_dict_filename = '/dicts/mRMR_Dictionary.pkl'\n",
    "outfile = open(mRMR_dict_filename, 'wb')\n",
    "pickle.dump(power_dict_features, outfile)\n",
    "outfile.close()"
   ]
  },
  {
   "cell_type": "code",
   "execution_count": null,
   "metadata": {},
   "outputs": [],
   "source": [
    "# Unpickle the dictionary\n",
    "#infile = open(mRMR_dict_filename, 'rb')\n",
    "#power_dict_features = pickle.load(infile)\n",
    "#infile.close()"
   ]
  },
  {
   "cell_type": "markdown",
   "metadata": {},
   "source": [
    "## Part 3 - PCA (Principal Component Analysis)"
   ]
  },
  {
   "cell_type": "code",
   "execution_count": null,
   "metadata": {},
   "outputs": [],
   "source": [
    "from sklearn.decomposition import PCA\n",
    "\n",
    "def get_pca_df(combined_data, n_components=2):\n",
    "    # Setup PCA parameters\n",
    "    pca = PCA(n_components=n_components)\n",
    "    \n",
    "    # Copy data to avoid modification\n",
    "    data = combined_data.copy()\n",
    "    \n",
    "    # Extract terrain labels\n",
    "    labels = data.pop('Label')\n",
    "    \n",
    "    # Get specified number of principal components and convert to dataframe\n",
    "    pc = pca.fit_transform(data)\n",
    "    pc_df = pd.DataFrame(data=pc, columns=['PC {}'.format(i + 1) for i in range(n_components)])\n",
    "    \n",
    "    print('Explained Variance of Each PC: {}'.format(pca.explained_variance_ratio_))\n",
    "    print('Total Explained Variance: {}'.format(np.sum(pca.explained_variance_ratio_)))\n",
    "    \n",
    "    return pd.concat([labels, pc_df], axis='columns')"
   ]
  },
  {
   "cell_type": "code",
   "execution_count": null,
   "metadata": {},
   "outputs": [],
   "source": [
    "get_pca_df(power_dict['Manual']['Synthesis']['Combined']['All']).tail()"
   ]
  },
  {
   "cell_type": "code",
   "execution_count": null,
   "metadata": {},
   "outputs": [],
   "source": [
    "get_pca_df(power_dict['Manual']['Synthesis']['Combined']['All'], n_components=0.85).tail()"
   ]
  },
  {
   "cell_type": "code",
   "execution_count": null,
   "metadata": {},
   "outputs": [],
   "source": [
    "def visualize_2d_pca(pca_2d_df, figsize=(8, 8)):\n",
    "    # Plot parameters\n",
    "    plt.clf()\n",
    "    plt.figure(figsize=figsize)\n",
    "    plt.xlabel('Principal Component 1')\n",
    "    plt.ylabel('Principal Component 2')\n",
    "    \n",
    "    # Scatter plot of each terrain\n",
    "    for terrain in terrains:\n",
    "        terrain_indices = pca_2d_df['Label'] == get_terrain_num(terrain)\n",
    "        plt.scatter(pca_2d_df.loc[terrain_indices, 'PC 1'], pca_2d_df.loc[terrain_indices, 'PC 2'])\n",
    "    \n",
    "    plt.legend(terrains)\n",
    "    plt.show()"
   ]
  },
  {
   "cell_type": "code",
   "execution_count": null,
   "metadata": {},
   "outputs": [],
   "source": [
    "visualize_2d_pca(get_pca_df(power_dict['Manual']['Right']['Features']['All']))"
   ]
  },
  {
   "cell_type": "markdown",
   "metadata": {},
   "source": [
    "## Part 4 - Training Classifiers"
   ]
  },
  {
   "cell_type": "code",
   "execution_count": null,
   "metadata": {},
   "outputs": [],
   "source": [
    "from sklearn.model_selection import KFold\n",
    "\n",
    "'''Run train test k-fold times\n",
    "   Returns an tuple of arrays, where arrays elements are actual/predicted labels for each k-fold test'''\n",
    "def train_test_k_fold(combined_data, n_splits, model):\n",
    "    # Shuffle ensures we get a mix of terrains\n",
    "    kf = KFold(n_splits=n_splits, shuffle=True)\n",
    "\n",
    "    # Copy data to avoid modification\n",
    "    data = combined_data.copy()\n",
    "    \n",
    "    # Extract terrain labels\n",
    "    labels = data.pop('Label')\n",
    "\n",
    "    # Array of predicted labels for each k fold\n",
    "    test_k_fold = []\n",
    "    predict_k_fold = []\n",
    "\n",
    "    # Split into n splits\n",
    "    for train_index, test_index in kf.split(data):\n",
    "        train, test = data.loc[train_index], data.loc[test_index]\n",
    "        train_labels, test_labels = labels.loc[train_index], labels.loc[test_index]\n",
    "        \n",
    "        # Actual labels\n",
    "        test_k_fold.append(test_labels)\n",
    "        \n",
    "        # Train and test model\n",
    "        model.fit(train, train_labels)\n",
    "        predict_k_fold.append(model.predict(test))\n",
    "\n",
    "    return (test_k_fold, predict_k_fold)"
   ]
  },
  {
   "cell_type": "markdown",
   "metadata": {},
   "source": [
    "### Part (a) - Create Accuracy Table"
   ]
  },
  {
   "cell_type": "code",
   "execution_count": null,
   "metadata": {},
   "outputs": [],
   "source": [
    "from sklearn.naive_bayes import GaussianNB\n",
    "from sklearn.neighbors import KNeighborsClassifier\n",
    "from sklearn.tree import DecisionTreeClassifier\n",
    "from sklearn.ensemble import RandomForestClassifier\n",
    "from sklearn.ensemble import AdaBoostClassifier\n",
    "from sklearn.svm import SVC\n",
    "from sklearn.metrics import accuracy_score\n",
    "\n",
    "# Dictionary of classifiers\n",
    "classifiers = {'Naive Bayes': GaussianNB(),\n",
    "               'k Nearest': KNeighborsClassifier(),\n",
    "               'Decision Tree': DecisionTreeClassifier(), \n",
    "               'Random Forest': RandomForestClassifier(n_estimators=100),\n",
    "               'AdaBoost': AdaBoostClassifier(),\n",
    "               'Support Vector Machine': SVC(gamma='scale')}"
   ]
  },
  {
   "cell_type": "code",
   "execution_count": null,
   "metadata": {},
   "outputs": [],
   "source": [
    "def create_accuracy_table(n_splits, power_type='Manual', user_name='All', separate_axes=False\n",
    "                          feat_selection='None', n_feats=None):\n",
    "    \n",
    "    # Power type affects which placements are available\n",
    "    if power_type == 'Manual':\n",
    "        placements = placements_manual\n",
    "    else:\n",
    "        placements = placements_power\n",
    "    \n",
    "    vector_indices = [p + ' ' + v for p in placements for v in vectors]\n",
    "    accuracy_table = pd.DataFrame({'Vector': vector_indices})\n",
    "\n",
    "    # Calculate accuracy for each placement for each feature vector and classifier\n",
    "    for classifier_name, classifier in classifiers.items():\n",
    "        model = classifier\n",
    "\n",
    "        # Row dictionary for given model\n",
    "        rows = {}\n",
    "\n",
    "        # Add current classifier to row dictionary\n",
    "        for placement in placements:\n",
    "            for vector in vectors:\n",
    "                # Extract data for above parameters\n",
    "                index_name = placement + ' ' + vector\n",
    "                data = power_dict[power_type][placement][vector][user_name]\n",
    "                \n",
    "                # Use only the top features using mRMR feature selection\n",
    "                if feat_selection == 'mRMR':\n",
    "                    top_feats = power_dict_features[power_type][placement][vector][user_name]\n",
    "                    top_feats.insert(0, 'Label')\n",
    "                    data = data[top_feats[:n_feats+1]]\n",
    "                \n",
    "                # Run PCA on the data\n",
    "                elif feat_selection == 'PCA':\n",
    "                    data = get_pca_df(data, n_components=n_feats)\n",
    "                \n",
    "                # Extract predicted and actual labels for requested user\n",
    "                actual, predict = train_test_k_fold(data, n_splits, model)\n",
    "\n",
    "                # Take mean accuracy of k fold testing\n",
    "                accuracies = []\n",
    "                for i in range(len(predict)):\n",
    "                    accuracies.append(accuracy_score(actual[i], predict[i]))\n",
    "                rows.update({index_name: np.mean(accuracies)})\n",
    "\n",
    "        # Update accuracy table with classifier column by mapping row names to indices\n",
    "        accuracy_table[classifier_name] = accuracy_table['Vector'].map(rows)\n",
    "    \n",
    "    return accuracy_table"
   ]
  },
  {
   "cell_type": "code",
   "execution_count": null,
   "metadata": {},
   "outputs": [],
   "source": [
    "def create_accuracy_table(n_splits, power_type='Manual', user_name='All', separate_axes=False\n",
    "                          feat_selection='None', n_feats=None):\n",
    "    \n",
    "    # Power type affects which placements are available\n",
    "    if power_type == 'Manual':\n",
    "        placements = placements_manual\n",
    "    else:\n",
    "        placements = placements_power\n",
    "    \n",
    "    # Dataframe table of accuracies for each classifier for each placement\n",
    "    if separate_axes:\n",
    "        vector_indices = [p + ' ' + v + ' ' + a for p in placements for v in vectors for a in axes]\n",
    "    else:\n",
    "        vector_indices = [p + ' ' + v for p in placements for v in vectors]\n",
    "    accuracy_table = pd.DataFrame({'Vector': vector_indices})\n",
    "\n",
    "    # Calculate accuracy for each placement for each feature vector and classifier\n",
    "    for classifier_name, classifier in classifiers.items():\n",
    "        model = classifier\n",
    "\n",
    "        # Row dictionary for given model\n",
    "        rows = {}\n",
    "\n",
    "        # Add current classifier to row dictionary\n",
    "        for placement in placements:\n",
    "            for vector in vectors:\n",
    "                # Extract data for above parameters\n",
    "                data = power_dict[power_type][placement][vector][user_name]\n",
    "                \n",
    "                # Iterate through axes if we want them separate, else just put in empty string\n",
    "                if separate_axes:\n",
    "                    itr_axes = axes\n",
    "                else:\n",
    "                    itr_axes = ['']\n",
    "                \n",
    "                for axis in itr_axes:\n",
    "                    index_name = placement + ' ' + vector\n",
    "                    \n",
    "                    if axis != ''\n",
    "                        index_name += axis\n",
    "                        matching_columns = [column for column in data.columns if axis in column]\n",
    "                        matching_columns.insert(0, 'Label')\n",
    "                        data = data[matching_columns]\n",
    "                    \n",
    "                    # Use only the top features using mRMR feature selection\n",
    "                    if feat_selection == 'mRMR':\n",
    "                        top_feats = pymrmr.mRMR(data=data, method='MID', nfeats=n_feats)\n",
    "                        top_feats.insert(0, 'Label')\n",
    "                        data = data[top_feats]\n",
    "\n",
    "                    # Run PCA on the data\n",
    "                    elif feat_selection == 'PCA':\n",
    "                        data = get_pca_df(data, n_components=n_feats)\n",
    "\n",
    "                    # Extract predicted and actual labels for requested user\n",
    "                    actual, predict = train_test_k_fold(data, n_splits, model)\n",
    "\n",
    "                    # Take mean accuracy of k fold testing\n",
    "                    accuracies = []\n",
    "                    for i in range(len(predict)):\n",
    "                        accuracies.append(accuracy_score(actual[i], predict[i]))\n",
    "                    \n",
    "                    rows.update({index_name: np.mean(accuracies)})\n",
    "\n",
    "        # Update accuracy table with classifier column by mapping row names to indices\n",
    "        accuracy_table[classifier_name] = accuracy_table['Vector'].map(rows)\n",
    "    \n",
    "    return accuracy_table"
   ]
  },
  {
   "cell_type": "code",
   "execution_count": null,
   "metadata": {},
   "outputs": [],
   "source": [
    "# Create accuracy table for 5 k-fold splits without any feature selection\n",
    "accuracy_table = create_accuracy_table(n_splits=5, power_type='Manual', user_name='All')"
   ]
  },
  {
   "cell_type": "code",
   "execution_count": null,
   "metadata": {},
   "outputs": [],
   "source": [
    "accuracy_table"
   ]
  },
  {
   "cell_type": "code",
   "execution_count": null,
   "metadata": {},
   "outputs": [],
   "source": [
    "# Create accuracy table for 5 k-fold splits with mRMR feature selection\n",
    "accuracy_table_mRMR = create_accuracy_table(n_splits=5, power_type='Manual', user_name='All',\n",
    "                                            feat_selection='mRMR', n_feats=20)"
   ]
  },
  {
   "cell_type": "code",
   "execution_count": null,
   "metadata": {},
   "outputs": [],
   "source": [
    "accuracy_table_mRMR"
   ]
  },
  {
   "cell_type": "code",
   "execution_count": null,
   "metadata": {},
   "outputs": [],
   "source": [
    "# Create accuracy table for 5 k-fold splits with mRMR feature selection\n",
    "accuracy_table_PCA = create_accuracy_table(n_splits=5, power_type='Manual', user_name='All',\n",
    "                                            feat_selection='PCA', n_feats=20)"
   ]
  },
  {
   "cell_type": "code",
   "execution_count": null,
   "metadata": {},
   "outputs": [],
   "source": [
    "accuracy_table_PCA"
   ]
  },
  {
   "cell_type": "markdown",
   "metadata": {},
   "source": [
    "### Glossary\n",
    "\n",
    "`Dataset` - Batch of data recorded on one terrain type\n",
    "\n",
    "`Data Window` - Split up portion of a `Dataset`\n",
    "\n",
    "`Direction / Axes` - Linear acceleration or gyroscope in $x,y$ or $z$\n",
    "\n",
    "`Feature Vector` - Any feature of the data that can be used to classify terrain, e.g. Z Accel Mean, Y Accel FFT, etc\n",
    "\n",
    "`Extracted Feature Vector` - Features that aren't from transforms, e.g. Z Accel Min, Y Accel Autocorrelation, etc\n",
    "\n",
    "`Placement` - One of three IMU placements on the wheelchair, i.e. Middle, Left, or Right"
   ]
  },
  {
   "cell_type": "code",
   "execution_count": null,
   "metadata": {},
   "outputs": [],
   "source": []
  }
 ],
 "metadata": {
  "kernelspec": {
   "display_name": "Python 3",
   "language": "python",
   "name": "python3"
  },
  "language_info": {
   "codemirror_mode": {
    "name": "ipython",
    "version": 3
   },
   "file_extension": ".py",
   "mimetype": "text/x-python",
   "name": "python",
   "nbconvert_exporter": "python",
   "pygments_lexer": "ipython3",
   "version": "3.6.8"
  }
 },
 "nbformat": 4,
 "nbformat_minor": 2
}
