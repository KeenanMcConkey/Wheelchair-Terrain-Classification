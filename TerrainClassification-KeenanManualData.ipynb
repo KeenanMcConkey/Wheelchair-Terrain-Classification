{
 "cells": [
  {
   "cell_type": "markdown",
   "metadata": {},
   "source": [
    "# Terrain Classification - Keenan's Manual Data\n",
    "### Created by Keenan McConkey 2019.5.17"
   ]
  },
  {
   "cell_type": "code",
   "execution_count": 1,
   "metadata": {},
   "outputs": [],
   "source": [
    "from __future__ import absolute_import, division, print_function\n",
    "\n",
    "import pandas as pd\n",
    "\n",
    "import glob\n",
    "import numpy as np\n",
    "import matplotlib.pyplot as plt\n",
    "from matplotlib import gridspec\n",
    "from mpl_toolkits.mplot3d import Axes3D\n",
    "from scipy import signal\n",
    "from scipy import stats\n",
    "\n",
    "from datetime import datetime\n",
    "from decimal import Decimal\n",
    "\n",
    "import pymrmr\n",
    "import sklearn"
   ]
  },
  {
   "cell_type": "markdown",
   "metadata": {},
   "source": [
    "## Part 1 - Importing Datasets"
   ]
  },
  {
   "cell_type": "markdown",
   "metadata": {},
   "source": [
    "### Part (0) - Functions for Data Import"
   ]
  },
  {
   "cell_type": "code",
   "execution_count": 2,
   "metadata": {},
   "outputs": [],
   "source": [
    "# Easier to read column names\n",
    "std_columns = ['X Accel', 'Y Accel', 'Z Accel', 'X Gyro', 'Y Gyro', 'Z Gyro', 'Run Time', 'Epoch Time']\n",
    "data_columns =  ['X Accel', 'Y Accel', 'Z Accel', 'X Gyro', 'Y Gyro', 'Z Gyro']\n",
    "synthesis_columns = ['Calc X Accel', 'Calc X Vel', 'Calc Z Gyro', 'Run Time', 'Epoch Time']\n",
    "\n",
    "# Columns not currently used\n",
    "unused_columns = ['Time Received', 'Timestamp', 'Pitch (Deg)', 'Roll (Deg)', 'Heading (Deg)',\n",
    "                  'L ACCELEROMETER X (m/s²)', 'L ACCELEROMETER Y (m/s²)', 'L ACCELEROMETER Z (m/s²)',\n",
    "                  'L GYROSCOPE X (rad/s)', 'L GYROSCOPE Y (rad/s)', 'L GYROSCOPE Z (rad/s)',\n",
    "                  'R ACCELEROMETER X (m/s²)', 'R ACCELEROMETER Y (m/s²)', 'R ACCELEROMETER Z (m/s²)',\n",
    "                  'R GYROSCOPE X (rad/s)', 'R GYROSCOPE Y (rad/s)', 'R GYROSCOPE Z (rad/s)',\n",
    "                  'L ACCELEROMETER XY (m/s²)', 'R ACCELEROMETER XY (m/s²)', 'ACCELEROMETER XY (m/s²)',\n",
    "                  'MagX', 'MagY', 'MagZ']\n",
    "\n",
    "'''Get columns for given label'''\n",
    "def get_columns(_label):\n",
    "    \n",
    "    # Columns are different for synthesis data\n",
    "    if 'Middle' in _label or 'Left' in _label or 'Right' in _label:\n",
    "        columns = std_columns.copy()\n",
    "    elif 'Synthesis' in _label:\n",
    "        columns = synthesis_columns.copy()\n",
    "    else:\n",
    "        raise Exception('Unknown label')\n",
    "    \n",
    "    # For transformed datasets replace time columns with frequency\n",
    "    if 'FFT' in _label or 'PSD' in _label:\n",
    "        columns.remove('Epoch Time')\n",
    "        \n",
    "        if 'Run Time' in columns:\n",
    "            columns.remove('Run Time')\n",
    "        \n",
    "        columns.append('Frequency')\n",
    "        \n",
    "    return columns"
   ]
  },
  {
   "cell_type": "code",
   "execution_count": 3,
   "metadata": {},
   "outputs": [],
   "source": [
    "# Types of terrains, placements, and transforms used\n",
    "terrains = ['Concrete', 'Carpet', 'Linoleum', 'Asphalt', 'Sidewalk', 'Grass', 'Gravel']\n",
    "placements = ['Left', 'Right', 'Middle', 'Synthesis']\n",
    "transforms = ['FFT', 'PSD', 'PSDLog']\n",
    "movements = ['F8', 'Donut', 'Straight']\n",
    "\n",
    "'''Get the integer terrain value of a given label'''\n",
    "def get_terrain_num(_label):\n",
    "    for i, terrain in enumerate(terrains):\n",
    "        if terrain in _label:\n",
    "            return i\n",
    "        \n",
    "    raise Exception('Unknown terrain')\n",
    "\n",
    "'''Get the name associated with a terrain integer'''\n",
    "def get_terrain_name(terrain_num):\n",
    "    return terrains[terrain_num]\n",
    "    return terrains[terrain_num]\n",
    "\n",
    "'''Get the placement location name for given label'''\n",
    "def get_placement(_label):\n",
    "    for placement in placements:\n",
    "        if placement in _label:\n",
    "            return placement\n",
    "    \n",
    "    raise Exception('Unknown placement')\n",
    "\n",
    "'''Get the transform used for given label'''\n",
    "def get_transform(_label):\n",
    "    for transform in transforms:\n",
    "        if transform in _label:\n",
    "            return transform\n",
    "    \n",
    "    raise Exception('Unkown transform')"
   ]
  },
  {
   "cell_type": "markdown",
   "metadata": {},
   "source": [
    "### Part (a) - Parsing Data into Pandas"
   ]
  },
  {
   "cell_type": "code",
   "execution_count": 4,
   "metadata": {},
   "outputs": [],
   "source": [
    "# Find .csv files\n",
    "raw_datasets = {}\n",
    "dataset_labels = []\n",
    "dataset_paths = glob.glob('imu_data/set_upgraded_manual/*.csv')\n",
    "\n",
    "# Remove synthesis and 9250 IMU data (for now)\n",
    "for path in dataset_paths.copy():\n",
    "    if 'Kevin' in path or 'Mahsa' in path or '9250' in path:\n",
    "        dataset_paths.remove(path)"
   ]
  },
  {
   "cell_type": "code",
   "execution_count": 5,
   "metadata": {
    "scrolled": false
   },
   "outputs": [],
   "source": [
    "# Import datasets as a dictionary of Pandas DataFrames\n",
    "for dataset_path in dataset_paths:\n",
    "    \n",
    "    # Parse labels from filenames\n",
    "    dataset_label = dataset_path.split('/')[-1].split('.')[0]    \n",
    "    dataset_labels.append(dataset_label)\n",
    "\n",
    "    # Read from CSV to Pandas\n",
    "    dataset = pd.read_csv(dataset_path)\n",
    "\n",
    "    # Drop unused columns\n",
    "    unused = [unused_column for unused_column in unused_columns if unused_column in dataset.columns]\n",
    "    dataset = dataset.drop(unused, axis='columns')\n",
    "    \n",
    "    # Rename columns to something easier to work with\n",
    "    dataset.columns = get_columns(dataset_label)\n",
    "\n",
    "    # Convert timestamps to epoch time in s\n",
    "    dataset['Epoch Time'] = dataset['Epoch Time'].apply(datetime.strptime, args=(\"%Y-%m-%d %H:%M:%S:%f\", ))\n",
    "    dataset['Epoch Time'] = dataset['Epoch Time'].apply(datetime.timestamp)\n",
    "    \n",
    "    # Remove gravitational acceleration from Middle data\n",
    "    ## Can't remove from wheel-mounted Left and Right data because they rotate over time\n",
    "    if 'Middle' in dataset_label:\n",
    "        # Remove gravity from z component of acceleration, \n",
    "        g_z = 9.81\n",
    "        dataset['Z Accel'] = dataset['Z Accel'].apply(lambda x: x - g_z)\n",
    "\n",
    "    # Remove dropped bytes - i.e. run times below zero\n",
    "    #dataset = dataset.drop(dataset.loc[dataset['Run Time'] < 0].index.values.tolist())\n",
    "\n",
    "    # Trim edges to account for start and end time\n",
    "    STARTUP_THRESH = 2.0\n",
    "    \n",
    "    # Different axes to check threshold for synthesis data\n",
    "    if 'Synthesis' in dataset_label:\n",
    "        thresh_axes = 'Calc X Accel'\n",
    "    else:\n",
    "        thresh_axes = 'Z Accel'\n",
    "        \n",
    "    # First instance above threshold\n",
    "    start_index = dataset[dataset[thresh_axes] > STARTUP_THRESH].index[0]\n",
    "    # Last instance above threshold\n",
    "    stop_index = dataset[dataset[thresh_axes] > STARTUP_THRESH].index[-1]\n",
    "    \n",
    "    dataset = dataset[start_index:stop_index]\n",
    "    \n",
    "    # Datasets are stored in a dictionary\n",
    "    raw_datasets.update({dataset_label: dataset})"
   ]
  },
  {
   "cell_type": "code",
   "execution_count": 6,
   "metadata": {
    "scrolled": false
   },
   "outputs": [
    {
     "data": {
      "text/plain": [
       "['Synthesis_ConcreteF8_Module',\n",
       " 'Right_AsphaltDonut_Module',\n",
       " 'Middle_LinoleumDonut_Module6050',\n",
       " 'Right_GravelStraight_Module',\n",
       " 'Middle_ConcreteF8_Module6050',\n",
       " 'Left_GravelStraight_Module',\n",
       " 'Left_CarpetStraight_Module',\n",
       " 'Right_CarpetF8_Module',\n",
       " 'Right_AsphaltF8_Module',\n",
       " 'Middle_LinoleumF8_Module6050',\n",
       " 'Middle_AsphaltStraight_Module6050',\n",
       " 'Left_AsphaltF8_Module',\n",
       " 'Synthesis_GrassStraight_Module',\n",
       " 'Middle_SidewalkDonut_Module6050',\n",
       " 'Synthesis_CarpetStraight_Module',\n",
       " 'Left_GravelDonut_Module',\n",
       " 'Right_GrassStraight_Module',\n",
       " 'Right_LinoleumStraight_Module',\n",
       " 'Left_SidewalkF8_Module',\n",
       " 'Middle_GravelStraight_Module6050',\n",
       " 'Middle_CarpetStraight2_Module6050',\n",
       " 'Left_AsphaltStraight_Module',\n",
       " 'Right_SidewalkDonut_Module',\n",
       " 'Right_GravelDonut_Module',\n",
       " 'Synthesis_AsphaltDonut_Module',\n",
       " 'Synthesis_ConcreteDonut_Module',\n",
       " 'Synthesis_GravelF8_Module',\n",
       " 'Left_SidewalkStraight_Module',\n",
       " 'Right_LinoleumF8_Module',\n",
       " 'Synthesis_LinoleumF8_Module',\n",
       " 'Left_CarpetF8_Module',\n",
       " 'Left_ConcreteF8_Module',\n",
       " 'Synthesis_LinoleumStraight_Module',\n",
       " 'Middle_GravelDonut_Module6050',\n",
       " 'Left_LinoleumStraight_Module',\n",
       " 'Synthesis_LinoleumDonut_Module',\n",
       " 'Middle_LinoleumStraight_Module6050',\n",
       " 'Synthesis_SidewalkStraight_Module',\n",
       " 'Left_LinoleumF8_Module',\n",
       " 'Synthesis_AsphaltStraight_Module',\n",
       " 'Right_ConcreteF8_Module',\n",
       " 'Middle_CarpetStraight_Module6050',\n",
       " 'Left_LinoleumDonut_Module',\n",
       " 'Right_GravelF8_Module',\n",
       " 'Left_AsphaltDonut_Module',\n",
       " 'Right_LinoleumDonut_Module',\n",
       " 'Right_CarpetDonut_Module',\n",
       " 'Middle_GravelF8_Module6050',\n",
       " 'Synthesis_GravelDonut_Module',\n",
       " 'Synthesis_GrassF8_Module',\n",
       " 'Left_GrassDonut_Module',\n",
       " 'Synthesis_SidewalkF8_Module',\n",
       " 'Middle_GrassF8_Module6050',\n",
       " 'Synthesis_GrassDonut_Module',\n",
       " 'Middle_CarpetF8_Module6050',\n",
       " 'Synthesis_ConcreteStraight_Module',\n",
       " 'Middle_GrassDonut_Module6050',\n",
       " 'Middle_GrassStraight_Module6050',\n",
       " 'Right_CarpetStraight_Module',\n",
       " 'Left_GravelF8_Module',\n",
       " 'Right_GrassDonut_Module',\n",
       " 'Left_SidewalkDonut_Module',\n",
       " 'Synthesis_GravelStraight_Module',\n",
       " 'Right_SidewalkStraight_Module',\n",
       " 'Left_CarpetDonut_Module',\n",
       " 'Right_ConcreteStraight_Module',\n",
       " 'Right_GrassF8_Module',\n",
       " 'Middle_AsphaltF8_Module6050',\n",
       " 'Middle_AsphaltDonut_Module6050',\n",
       " 'Right_AsphaltStraight_Module',\n",
       " 'Middle_CarpetDonut_Module6050',\n",
       " 'Right_CarpetStraight2_Module',\n",
       " 'Left_CarpetStraight2_Module',\n",
       " 'Synthesis_CarpetDonut_Module',\n",
       " 'Synthesis_SidewalkDonut_Module',\n",
       " 'Middle_SidewalkStraight_Module6050',\n",
       " 'Left_GrassF8_Module',\n",
       " 'Left_GrassStraight_Module',\n",
       " 'Right_SidewalkF8_Module',\n",
       " 'Right_ConcreteDonut_Module',\n",
       " 'Left_ConcreteDonut_Module',\n",
       " 'Synthesis_AsphaltF8_Module',\n",
       " 'Middle_SidewalkF8_Module6050',\n",
       " 'Middle_ConcreteStraight_Module6050',\n",
       " 'Synthesis_CarpetF8_Module',\n",
       " 'Left_ConcreteStraight_Module',\n",
       " 'Synthesis_CarpetStraight2_Module',\n",
       " 'Middle_ConcreteDonut_Module6050']"
      ]
     },
     "execution_count": 6,
     "metadata": {},
     "output_type": "execute_result"
    }
   ],
   "source": [
    "# List all datasets\n",
    "dataset_labels"
   ]
  },
  {
   "cell_type": "code",
   "execution_count": 7,
   "metadata": {},
   "outputs": [
    {
     "data": {
      "text/html": [
       "<div>\n",
       "<style scoped>\n",
       "    .dataframe tbody tr th:only-of-type {\n",
       "        vertical-align: middle;\n",
       "    }\n",
       "\n",
       "    .dataframe tbody tr th {\n",
       "        vertical-align: top;\n",
       "    }\n",
       "\n",
       "    .dataframe thead th {\n",
       "        text-align: right;\n",
       "    }\n",
       "</style>\n",
       "<table border=\"1\" class=\"dataframe\">\n",
       "  <thead>\n",
       "    <tr style=\"text-align: right;\">\n",
       "      <th></th>\n",
       "      <th>Calc X Accel</th>\n",
       "      <th>Calc X Vel</th>\n",
       "      <th>Calc Z Gyro</th>\n",
       "      <th>Run Time</th>\n",
       "      <th>Epoch Time</th>\n",
       "    </tr>\n",
       "  </thead>\n",
       "  <tbody>\n",
       "    <tr>\n",
       "      <th>2352</th>\n",
       "      <td>2.697319</td>\n",
       "      <td>0.069380</td>\n",
       "      <td>0.180961</td>\n",
       "      <td>7.057</td>\n",
       "      <td>1.564507e+09</td>\n",
       "    </tr>\n",
       "    <tr>\n",
       "      <th>2353</th>\n",
       "      <td>0.615408</td>\n",
       "      <td>0.071226</td>\n",
       "      <td>0.183530</td>\n",
       "      <td>7.060</td>\n",
       "      <td>1.564507e+09</td>\n",
       "    </tr>\n",
       "    <tr>\n",
       "      <th>2354</th>\n",
       "      <td>0.301157</td>\n",
       "      <td>0.072130</td>\n",
       "      <td>0.184889</td>\n",
       "      <td>7.063</td>\n",
       "      <td>1.564507e+09</td>\n",
       "    </tr>\n",
       "    <tr>\n",
       "      <th>2355</th>\n",
       "      <td>0.471376</td>\n",
       "      <td>0.073544</td>\n",
       "      <td>0.186702</td>\n",
       "      <td>7.066</td>\n",
       "      <td>1.564507e+09</td>\n",
       "    </tr>\n",
       "    <tr>\n",
       "      <th>2356</th>\n",
       "      <td>0.549939</td>\n",
       "      <td>0.075194</td>\n",
       "      <td>0.189120</td>\n",
       "      <td>7.069</td>\n",
       "      <td>1.564507e+09</td>\n",
       "    </tr>\n",
       "  </tbody>\n",
       "</table>\n",
       "</div>"
      ],
      "text/plain": [
       "      Calc X Accel  Calc X Vel  Calc Z Gyro  Run Time    Epoch Time\n",
       "2352      2.697319    0.069380     0.180961     7.057  1.564507e+09\n",
       "2353      0.615408    0.071226     0.183530     7.060  1.564507e+09\n",
       "2354      0.301157    0.072130     0.184889     7.063  1.564507e+09\n",
       "2355      0.471376    0.073544     0.186702     7.066  1.564507e+09\n",
       "2356      0.549939    0.075194     0.189120     7.069  1.564507e+09"
      ]
     },
     "execution_count": 7,
     "metadata": {},
     "output_type": "execute_result"
    }
   ],
   "source": [
    "# Check dataset formatting\n",
    "raw_datasets[dataset_labels[0]].head()"
   ]
  },
  {
   "cell_type": "markdown",
   "metadata": {},
   "source": [
    "### Part (b) - Visualizing Time Domain Data"
   ]
  },
  {
   "cell_type": "code",
   "execution_count": 8,
   "metadata": {},
   "outputs": [],
   "source": [
    "'''Plot a single dataset in one direction'''\n",
    "def plot_one(_datasets, dataset_name, x_axis, y_axis, xlim=None, ylim=None, save_fig=False):\n",
    "    plt.clf()\n",
    "    plt.figure(figsize=(10, 5))\n",
    "    \n",
    "    plt.plot(_datasets[dataset_name][x_axis], _datasets[dataset_name][y_axis])\n",
    "    plt.title(dataset_name)\n",
    "    plt.xlabel(x_axis + ' (s)')\n",
    "    \n",
    "    if 'Accel' in y_axis:\n",
    "        plt.ylabel(y_axis + ' ($m/s^2$)')\n",
    "    elif 'Gyro' in y_axis:\n",
    "        plt.ylabel(y_axis + ' ($rad/s$)')\n",
    "    elif 'Vel' in y_axis:\n",
    "        plt.ylabel(y_axis + ' ($m/s$)')\n",
    "    else:\n",
    "        plt.ylabel('Unknown')\n",
    "    \n",
    "    if xlim is not None:\n",
    "        plt.xlim(xlim[0], xlim[1])\n",
    "    \n",
    "    if ylim is not None:\n",
    "        plt.ylim(ylim[0], ylim[1])\n",
    "    \n",
    "    # Save figure to png file without plotting\n",
    "    if save_fig:\n",
    "        save_name = '/home/caris/Wheelchair-Terrain-Classification/imgs/'\n",
    "        save_name = save_name + y_axis.replace(' ', '_') + '_' + dataset_name + '.png'\n",
    "        plt.savefig(save_name)\n",
    "    \n",
    "    # Just plot without saving\n",
    "    else:    \n",
    "        plt.show()"
   ]
  },
  {
   "cell_type": "code",
   "execution_count": 9,
   "metadata": {
    "scrolled": false
   },
   "outputs": [
    {
     "data": {
      "text/plain": [
       "<Figure size 432x288 with 0 Axes>"
      ]
     },
     "metadata": {},
     "output_type": "display_data"
    },
    {
     "data": {
      "image/png": "[encoded data removed]",
      "text/plain": [
       "<Figure size 720x360 with 1 Axes>"
      ]
     },
     "metadata": {
      "needs_background": "light"
     },
     "output_type": "display_data"
    }
   ],
   "source": [
    "# Plot some raw data\n",
    "plot_one(raw_datasets, dataset_labels[0], 'Run Time', 'Calc X Vel', xlim=(20, 25))"
   ]
  },
  {
   "cell_type": "code",
   "execution_count": 10,
   "metadata": {},
   "outputs": [],
   "source": [
    "# Plot every dataset Z Accel and save images\n",
    "#for label in dataset_labels:\n",
    "#    plot_one(raw_datasets, label, 'Run Time', 'Z Accel', save_fig=True)"
   ]
  },
  {
   "cell_type": "code",
   "execution_count": 11,
   "metadata": {},
   "outputs": [],
   "source": [
    "'''Compare two Pandas DataFrames by Epoch Time'''\n",
    "def dataset_compare(dataset1, label1, dataset2, label2, dirn, t_offset=0, y_offset=0):\n",
    "    plt.clf()\n",
    "    fig, ax = plt.subplots(figsize=(20, 5))\n",
    "    \n",
    "    # Plot data with given y and t offsetson first dataset\n",
    "    ax.plot(dataset1[label1]['Epoch Time'].apply(lambda t: t + t_offset), \n",
    "            dataset1[label1][dirn].apply(lambda y: y + y_offset), label=label1)\n",
    "    ax.plot(dataset2[label2]['Epoch Time'], \n",
    "            dataset2[label2][dirn], label=label2)\n",
    "    \n",
    "    ax.set_xlabel('Epoch Time ($s$)')\n",
    "    if 'Gyro' in dirn:\n",
    "        ax.set_ylabel(dirn + ' ($rad/s$)')\n",
    "    elif 'Accel' in dirn:\n",
    "        ax.set_ylabel(dirn + ' ($m/s^2$)')\n",
    "    \n",
    "    ax.set_title(dirn + ' for ' + label1 + ' and ' + label2)\n",
    "    \n",
    "    # Plot offset info\n",
    "    offset_text = 'Offsets\\n'\n",
    "    offset_text += ': t={}'.format(t_offset) + ', ' + 'y={}'.format(y_offset)\n",
    "    ax.text(0.05, 0.05, s=offset_text, \n",
    "            horizontalalignment='left', verticalalignment='bottom', transform=ax.transAxes)\n",
    "    \n",
    "    ax.legend()\n",
    "    plt.show()"
   ]
  },
  {
   "cell_type": "code",
   "execution_count": 12,
   "metadata": {
    "scrolled": false
   },
   "outputs": [
    {
     "data": {
      "text/plain": [
       "<Figure size 432x288 with 0 Axes>"
      ]
     },
     "metadata": {},
     "output_type": "display_data"
    },
    {
     "data": {
      "image/png": "[encoded data removed]",
      "text/plain": [
       "<Figure size 1440x360 with 1 Axes>"
      ]
     },
     "metadata": {
      "needs_background": "light"
     },
     "output_type": "display_data"
    }
   ],
   "source": [
    "# Compare Z Gyro data for each wheel in the same dataset\n",
    "dataset_compare(raw_datasets, 'Left_ConcreteStraight_Module',\n",
    "                raw_datasets, 'Right_ConcreteStraight_Module', \n",
    "                dirn='Z Gyro')"
   ]
  },
  {
   "cell_type": "code",
   "execution_count": 13,
   "metadata": {},
   "outputs": [],
   "source": [
    "'''Plot given x and y axes for every Pandas DataFrame in given array of datasets'''\n",
    "def plot_all(_datasets, x_axis, y_axis, windowed=False, win_num=0, take_row=False):\n",
    "    plt.clf()\n",
    "    \n",
    "    n_axes = len(_datasets)\n",
    "    odd_axes = n_axes % 2 == 1\n",
    "    \n",
    "    rows = int((n_axes + 1) / 2)\n",
    "    \n",
    "    # Scale approriately\n",
    "    if (odd_axes):\n",
    "        fig = plt.figure(figsize=(n_axes*5, n_axes*3))          \n",
    "    else:\n",
    "        fig = plt.figure(figsize=(n_axes*5, n_axes*2))\n",
    "    \n",
    "    # Grid of subplots\n",
    "    gs = gridspec.GridSpec(rows, 2)\n",
    "        \n",
    "    axes = []\n",
    "    row, col = 0, 0\n",
    "    \n",
    "    for i, (label, dataset) in enumerate(_datasets.items()):\n",
    "        # Take a whole row if odd num of axes\n",
    "        if (i == n_axes-1 and odd_axes and take_row): \n",
    "            axes.append(fig.add_subplot(gs[row, :]))\n",
    "        else:\n",
    "            axes.append(fig.add_subplot(gs[row, col]))\n",
    "        \n",
    "        # Plot on new subplot\n",
    "        if (windowed):\n",
    "            axes[i].plot(dataset[win_num][x_axis], dataset[win_num][y_axis])\n",
    "        else:\n",
    "            axes[i].plot(dataset[x_axis], dataset[y_axis])\n",
    "        \n",
    "        axes[i].set_title(label)\n",
    "        axes[i].set_xlabel(x_axis + ' (s)')\n",
    "        \n",
    "        if 'Gyro' in y_axis:\n",
    "            axes[i].set_ylabel(y_axis + ' ($rad/s$)')\n",
    "        elif 'Accel' in y_axis:\n",
    "            axes[i].set_ylabel(y_axis + ' ($m/s^2$)')\n",
    "        \n",
    "        # Only go two columns wide\n",
    "        col += 1\n",
    "        if (col == 2):\n",
    "            row += 1\n",
    "            col = 0\n",
    "        \n",
    "    plt.subplots_adjust(hspace=0.35, wspace=0.15)\n",
    "    plt.show()"
   ]
  },
  {
   "cell_type": "code",
   "execution_count": 14,
   "metadata": {
    "scrolled": false
   },
   "outputs": [
    {
     "data": {
      "text/plain": [
       "<Figure size 432x288 with 0 Axes>"
      ]
     },
     "metadata": {},
     "output_type": "display_data"
    },
    {
     "data": {
      "image/png": "[encoded data removed]",
      "text/plain": [
       "<Figure size 1080x648 with 3 Axes>"
      ]
     },
     "metadata": {
      "needs_background": "light"
     },
     "output_type": "display_data"
    }
   ],
   "source": [
    "# Plot Z Accel of same dataset for different modules\n",
    "datasets_to_plot = {label: dataset for label, dataset in raw_datasets.items() if 'Synthesis' in label and 'Concrete' in label}\n",
    "plot_all(datasets_to_plot, x_axis='Run Time', y_axis='Calc X Vel')"
   ]
  },
  {
   "cell_type": "markdown",
   "metadata": {},
   "source": [
    "### Part (c) - Converting Between Pandas and Numpy"
   ]
  },
  {
   "cell_type": "code",
   "execution_count": 15,
   "metadata": {},
   "outputs": [],
   "source": [
    "'''Convert array of Pandas DataFrames to array of 2D Numpy array'''\n",
    "def pd_to_np(pd_datasets, windowed=False):\n",
    "    np_datasets = {}\n",
    "    \n",
    "    for label, dataset in pd_datasets.items():\n",
    "        np_dataset = []\n",
    "        \n",
    "        # Return passed datasets if they are already NumPy ndarrays\n",
    "        if type(dataset) is np.ndarray:\n",
    "            print('Note: Already a NumPy array!')\n",
    "            return pd_datasets\n",
    "        \n",
    "        # If windowed, convert individual windows to Pandas\n",
    "        if (windowed):\n",
    "            for window in dataset:\n",
    "                np_dataset.append(window.as_matrix()) \n",
    "        else:\n",
    "            np_dataset = dataset.to_numpy()\n",
    "        \n",
    "        np_datasets.update({label: np_dataset})\n",
    "        \n",
    "    return np_datasets"
   ]
  },
  {
   "cell_type": "code",
   "execution_count": 16,
   "metadata": {},
   "outputs": [],
   "source": [
    "'''Convert array of 2D Numpy arrays to Pandas Data Frames'''\n",
    "def np_to_pd(np_datasets, windowed=False):\n",
    "    pd_datasets = {}\n",
    "    \n",
    "    for label, dataset in np_datasets.items():\n",
    "        pd_dataset = []\n",
    "        \n",
    "        # Return passed datasets if they are already Pandas dataframes\n",
    "        if type(dataset) is pd.DataFrame:\n",
    "            print('Note: Already a Pandas dataframe!')\n",
    "            return np_datasets\n",
    "        \n",
    "        # Use correct column names\n",
    "        new_columns = get_columns(label)\n",
    "            \n",
    "        # If windowed, convert individual windows to Pandas\n",
    "        if (windowed):\n",
    "            for window in dataset:\n",
    "                pd_dataset.append(pd.DataFrame(data=window, columns=new_columns))\n",
    "                \n",
    "        else:\n",
    "            pd_dataset = pd.DataFrame(data=dataset, columns=new_columns)\n",
    "            \n",
    "        pd_datasets.update({label: pd_dataset})\n",
    "    \n",
    "    return pd_datasets"
   ]
  },
  {
   "cell_type": "code",
   "execution_count": 17,
   "metadata": {},
   "outputs": [],
   "source": [
    "# Convert to NumPy\n",
    "raw_datasets = pd_to_np(raw_datasets)"
   ]
  },
  {
   "cell_type": "code",
   "execution_count": 18,
   "metadata": {},
   "outputs": [],
   "source": [
    "# Run to convert back to Pandas\n",
    "#raw_datasets = np_to_pd(raw_datasets)"
   ]
  },
  {
   "cell_type": "code",
   "execution_count": 19,
   "metadata": {},
   "outputs": [
    {
     "name": "stdout",
     "output_type": "stream",
     "text": [
      "Number of datasets: 88\n",
      "Shape of first dataset: (61239, 5)\n"
     ]
    }
   ],
   "source": [
    "# Check if its constructed correctly\n",
    "print('Number of datasets: {}'.format(len(raw_datasets)))\n",
    "print('Shape of first dataset: {}'.format(raw_datasets[dataset_labels[0]].shape))"
   ]
  },
  {
   "cell_type": "markdown",
   "metadata": {},
   "source": [
    "#### Data Structure:\n",
    "\n",
    "`Terrain Dataset Dictionary \n",
    "-> NP Array\n",
    "---> Row = Datapoint, \n",
    "---> Col = Direction | Time`"
   ]
  },
  {
   "cell_type": "markdown",
   "metadata": {},
   "source": [
    "## Part 2 - Preprocessing"
   ]
  },
  {
   "cell_type": "code",
   "execution_count": 20,
   "metadata": {},
   "outputs": [],
   "source": [
    "'''Get relevant frequencies for given label based on whether its a frame or wheel dataset'''\n",
    "def get_frequencies(label):\n",
    "    # Sampling frequency (and thus cutoff frequency) varies between frame and wheel modules\n",
    "    if 'Left' in label or 'Right' in label or 'Synthesis' in label:\n",
    "        f_samp = 333.3 # Sampling frequency\n",
    "        f_low = 60 # Low pass cutoff frequency\n",
    "        f_high = 1 # High pass cutoff frequency\n",
    "    elif 'Middle' in label:\n",
    "        f_samp = 300 # Sampling frequency\n",
    "        f_low = 55 # Low pass cutoff frequency\n",
    "        f_high = 1 # High pass cutoaff frequency\n",
    "    else:\n",
    "        raise Exception('Unknown label format')\n",
    "        \n",
    "    return f_samp, f_low, f_high"
   ]
  },
  {
   "cell_type": "code",
   "execution_count": 21,
   "metadata": {},
   "outputs": [],
   "source": [
    "'''Get window size based on whether label is for a frame or wheel dataset'''\n",
    "def get_window_size(label):\n",
    "    if 'Left' in label or 'Right' in label or 'Synthesis' in label:\n",
    "        window_size = 333\n",
    "    elif 'Middle' in label:\n",
    "        window_size = 300\n",
    "    else:\n",
    "        raise Exception('Unknown label format')\n",
    "    return window_size"
   ]
  },
  {
   "cell_type": "code",
   "execution_count": 22,
   "metadata": {},
   "outputs": [],
   "source": [
    "def get_n_data_col(label):\n",
    "    if 'Synthesis' in label:\n",
    "        n_col = 3\n",
    "    elif 'Left' in label or 'Right' in label or 'Middle' in label:\n",
    "        n_col = 6\n",
    "    else:\n",
    "        raise Exception('Unknown label format')\n",
    "    return n_col"
   ]
  },
  {
   "cell_type": "markdown",
   "metadata": {},
   "source": [
    "### Part (a) - Butterworth Filtering\n",
    "\n",
    "Butterworth filters can be high-pass/low-pass/bandpass, and attempt to have maximally flat frequency response in bandpass.\n",
    "\n",
    "Changing the *cutoff frequency* of the filter affects the smoothness of the graph and amount of ringing. \n",
    "\n",
    "Changing the *order* of the filter can have significant effects on smoothness depending on the cutoff frequency. "
   ]
  },
  {
   "cell_type": "markdown",
   "metadata": {},
   "source": [
    "**Nominally set to 30 % of Nyquist Freq**"
   ]
  },
  {
   "cell_type": "code",
   "execution_count": 23,
   "metadata": {
    "scrolled": false
   },
   "outputs": [],
   "source": [
    "# Filtered datasets dictionary\n",
    "datasets = {}\n",
    "\n",
    "for label, raw_dataset in raw_datasets.items():\n",
    "    \n",
    "    # Sampling rates are not consistent across all datasets\n",
    "    f_samp, f_low, f_high = get_frequencies(label)\n",
    "    \n",
    "    # Get normalized frequencies\n",
    "    w_low = f_low / (f_samp / 2) \n",
    "    w_high = f_high / (f_samp / 2)\n",
    "\n",
    "    # Get Butterworth filter parameters\n",
    "    b_butter, a_butter = signal.butter(N=4, Wn=w_low, btype='low')\n",
    "    \n",
    "    # Number of columns containing data\n",
    "    n_data_col = get_n_data_col(label)\n",
    "    \n",
    "    # Filter all the data columns\n",
    "    dataset = np.copy(raw_dataset)\n",
    "    for i in range(n_data_col):\n",
    "        dataset[:, i] = signal.filtfilt(b_butter, a_butter, raw_dataset[:, i])\n",
    "        \n",
    "    datasets.update({label: dataset})"
   ]
  },
  {
   "cell_type": "code",
   "execution_count": 24,
   "metadata": {},
   "outputs": [
    {
     "data": {
      "text/plain": [
       "<Figure size 432x288 with 0 Axes>"
      ]
     },
     "metadata": {},
     "output_type": "display_data"
    },
    {
     "data": {
      "image/png": "[encoded data removed]",
      "text/plain": [
       "<Figure size 720x360 with 1 Axes>"
      ]
     },
     "metadata": {
      "needs_background": "light"
     },
     "output_type": "display_data"
    }
   ],
   "source": [
    "# Compare filtered and unfiltered\n",
    "plt.clf()\n",
    "plt.figure(figsize=(10, 5))\n",
    "plt.plot(datasets[dataset_labels[0]][:, 0], label='Filtered')\n",
    "plt.plot(raw_datasets[dataset_labels[0]][:, 0], label='Unfiltered')\n",
    "plt.xlim(600, 900)\n",
    "plt.legend()\n",
    "plt.xlabel('Datapoint')\n",
    "plt.ylabel('X Accel ($m/s^2$)')\n",
    "plt.title(dataset_labels[0] + ' Filtered')\n",
    "plt.show()"
   ]
  },
  {
   "cell_type": "code",
   "execution_count": 25,
   "metadata": {},
   "outputs": [
    {
     "name": "stdout",
     "output_type": "stream",
     "text": [
      "Num filtered datasets: 88\n",
      "Shape of first filtered dataset: (61239, 5)\n"
     ]
    }
   ],
   "source": [
    "## Check construction\n",
    "print('Num filtered datasets: {}'.format(len(datasets)))\n",
    "print('Shape of first filtered dataset: {}'.format(datasets[dataset_labels[0]].shape))"
   ]
  },
  {
   "cell_type": "code",
   "execution_count": 26,
   "metadata": {},
   "outputs": [
    {
     "data": {
      "text/html": [
       "<div>\n",
       "<style scoped>\n",
       "    .dataframe tbody tr th:only-of-type {\n",
       "        vertical-align: middle;\n",
       "    }\n",
       "\n",
       "    .dataframe tbody tr th {\n",
       "        vertical-align: top;\n",
       "    }\n",
       "\n",
       "    .dataframe thead th {\n",
       "        text-align: right;\n",
       "    }\n",
       "</style>\n",
       "<table border=\"1\" class=\"dataframe\">\n",
       "  <thead>\n",
       "    <tr style=\"text-align: right;\">\n",
       "      <th></th>\n",
       "      <th>Calc X Accel</th>\n",
       "      <th>Calc X Vel</th>\n",
       "      <th>Calc Z Gyro</th>\n",
       "      <th>Run Time</th>\n",
       "      <th>Epoch Time</th>\n",
       "    </tr>\n",
       "  </thead>\n",
       "  <tbody>\n",
       "    <tr>\n",
       "      <th>0</th>\n",
       "      <td>2.697501</td>\n",
       "      <td>0.069381</td>\n",
       "      <td>0.180964</td>\n",
       "      <td>7.057</td>\n",
       "      <td>1.564507e+09</td>\n",
       "    </tr>\n",
       "    <tr>\n",
       "      <th>1</th>\n",
       "      <td>1.244522</td>\n",
       "      <td>0.070853</td>\n",
       "      <td>0.183068</td>\n",
       "      <td>7.060</td>\n",
       "      <td>1.564507e+09</td>\n",
       "    </tr>\n",
       "    <tr>\n",
       "      <th>2</th>\n",
       "      <td>0.362861</td>\n",
       "      <td>0.072292</td>\n",
       "      <td>0.185079</td>\n",
       "      <td>7.063</td>\n",
       "      <td>1.564507e+09</td>\n",
       "    </tr>\n",
       "    <tr>\n",
       "      <th>3</th>\n",
       "      <td>0.178290</td>\n",
       "      <td>0.073710</td>\n",
       "      <td>0.186977</td>\n",
       "      <td>7.066</td>\n",
       "      <td>1.564507e+09</td>\n",
       "    </tr>\n",
       "    <tr>\n",
       "      <th>4</th>\n",
       "      <td>0.374745</td>\n",
       "      <td>0.075140</td>\n",
       "      <td>0.188799</td>\n",
       "      <td>7.069</td>\n",
       "      <td>1.564507e+09</td>\n",
       "    </tr>\n",
       "  </tbody>\n",
       "</table>\n",
       "</div>"
      ],
      "text/plain": [
       "   Calc X Accel  Calc X Vel  Calc Z Gyro  Run Time    Epoch Time\n",
       "0      2.697501    0.069381     0.180964     7.057  1.564507e+09\n",
       "1      1.244522    0.070853     0.183068     7.060  1.564507e+09\n",
       "2      0.362861    0.072292     0.185079     7.063  1.564507e+09\n",
       "3      0.178290    0.073710     0.186977     7.066  1.564507e+09\n",
       "4      0.374745    0.075140     0.188799     7.069  1.564507e+09"
      ]
     },
     "execution_count": 26,
     "metadata": {},
     "output_type": "execute_result"
    }
   ],
   "source": [
    "# Verify we can convert back to Pandas\n",
    "np_to_pd(datasets, windowed=False)[dataset_labels[0]].head()"
   ]
  },
  {
   "cell_type": "code",
   "execution_count": 27,
   "metadata": {
    "scrolled": false
   },
   "outputs": [
    {
     "data": {
      "text/plain": [
       "<Figure size 432x288 with 0 Axes>"
      ]
     },
     "metadata": {},
     "output_type": "display_data"
    },
    {
     "data": {
      "image/png": "[encoded data removed]",
      "text/plain": [
       "<Figure size 1440x360 with 1 Axes>"
      ]
     },
     "metadata": {
      "needs_background": "light"
     },
     "output_type": "display_data"
    }
   ],
   "source": [
    "# Again compare filtered and unfiltered data\n",
    "dataset_compare(np_to_pd(raw_datasets), dataset_labels[0], \n",
    "                np_to_pd(datasets), dataset_labels[0], 'Calc X Accel')"
   ]
  },
  {
   "cell_type": "markdown",
   "metadata": {},
   "source": [
    "### Part (b) - Further Time Domain Visualization"
   ]
  },
  {
   "cell_type": "code",
   "execution_count": 28,
   "metadata": {},
   "outputs": [],
   "source": [
    "'''Compare Z Gyro of frame to calculated value off of two wheels'''\n",
    "def gyro_compare(dataset, label, xlim=None):\n",
    "    plt.clf()\n",
    "    fig, ax = plt.subplots(figsize=(10, 8))\n",
    "    \n",
    "    # Calculate Z Gyro off of wheels\n",
    "    r_wheel = 0.30\n",
    "    d_base = 0.54\n",
    "    calc = (r_wheel / d_base)*(-1 * dataset['Left_' + label]['Z Gyro'] - dataset['Right_' + label]['Z Gyro'])\n",
    "    calc = np.reshape(calc, dataset['Right_' + label]['Epoch Time'].shape)\n",
    "    \n",
    "    # Plot actual frame gyro, calculated frame gyro, and actual wheel gyro\n",
    "    ax.plot(dataset['Middle_' + label]['Epoch Time'], dataset['Middle_' + label]['Z Gyro'], \n",
    "            label='Actual Frame')\n",
    "    ax.plot(dataset['Right_' + label]['Epoch Time'], calc, label='Calculated Frame')\n",
    "    ax.plot(dataset['Left_' + label]['Epoch Time'], dataset['Left_' + label]['Z Gyro'], \n",
    "            label='Actual L Wheel')\n",
    "    ax.plot(dataset['Right_' + label]['Epoch Time'], dataset['Right_' + label]['Z Gyro'],\n",
    "            label='Actual R Wheel')\n",
    "    \n",
    "    # Other figure stuff\n",
    "    ax.set_xlabel('Epoch Time ($s$)')\n",
    "    ax.set_ylabel('Z Gyro ($m/s^2$)')\n",
    "    ax.set_title('Comparing Actual to Calculated Z Gyro Data')\n",
    "    \n",
    "    if xlim:\n",
    "        start_time = dataset['Middle_' + label]['Epoch Time'][0]\n",
    "        ax.set_xlim(xlim[0] + start_time, xlim[1] + start_time)\n",
    "    ax.legend()\n",
    "    plt.show()"
   ]
  },
  {
   "cell_type": "code",
   "execution_count": 29,
   "metadata": {},
   "outputs": [],
   "source": [
    "#gyro_compare(np_to_pd(datasets), 'ConcreteDonutKevin_Module', xlim=(20, 40))"
   ]
  },
  {
   "cell_type": "markdown",
   "metadata": {},
   "source": [
    "### Part (c) - Integrating Data from Three Modules"
   ]
  },
  {
   "cell_type": "code",
   "execution_count": 30,
   "metadata": {},
   "outputs": [],
   "source": [
    "datasets = np_to_pd(datasets)"
   ]
  },
  {
   "cell_type": "code",
   "execution_count": 32,
   "metadata": {},
   "outputs": [
    {
     "ename": "ValueError",
     "evalue": "Shape of passed values is (38896, 14), indices imply (38884, 14)",
     "output_type": "error",
     "traceback": [
      "\u001b[0;31m---------------------------------------------------------------------------\u001b[0m",
      "\u001b[0;31mValueError\u001b[0m                                Traceback (most recent call last)",
      "\u001b[0;32m<ipython-input-32-bdf16b49432e>\u001b[0m in \u001b[0;36m<module>\u001b[0;34m\u001b[0m\n\u001b[1;32m     12\u001b[0m \u001b[0;34m\u001b[0m\u001b[0m\n\u001b[1;32m     13\u001b[0m         \u001b[0;31m# Join the wheel data columns, only where they overlap in Epoch Time\u001b[0m\u001b[0;34m\u001b[0m\u001b[0;34m\u001b[0m\u001b[0;34m\u001b[0m\u001b[0m\n\u001b[0;32m---> 14\u001b[0;31m         \u001b[0mdataset_wheels\u001b[0m \u001b[0;34m=\u001b[0m \u001b[0mpd\u001b[0m\u001b[0;34m.\u001b[0m\u001b[0mconcat\u001b[0m\u001b[0;34m(\u001b[0m\u001b[0mmodule_datasets\u001b[0m\u001b[0;34m,\u001b[0m \u001b[0maxis\u001b[0m\u001b[0;34m=\u001b[0m\u001b[0;34m'columns'\u001b[0m\u001b[0;34m,\u001b[0m \u001b[0mjoin\u001b[0m\u001b[0;34m=\u001b[0m\u001b[0;34m'outer'\u001b[0m\u001b[0;34m)\u001b[0m\u001b[0;34m\u001b[0m\u001b[0;34m\u001b[0m\u001b[0m\n\u001b[0m\u001b[1;32m     15\u001b[0m         \u001b[0mdataset_wheels\u001b[0m \u001b[0;34m=\u001b[0m \u001b[0mdataset_wheels\u001b[0m\u001b[0;34m.\u001b[0m\u001b[0mreset_index\u001b[0m\u001b[0;34m(\u001b[0m\u001b[0;34m)\u001b[0m\u001b[0;34m\u001b[0m\u001b[0;34m\u001b[0m\u001b[0m\n\u001b[1;32m     16\u001b[0m \u001b[0;34m\u001b[0m\u001b[0m\n",
      "\u001b[0;32m~/anaconda2/envs/keenanm/lib/python3.6/site-packages/pandas/core/reshape/concat.py\u001b[0m in \u001b[0;36mconcat\u001b[0;34m(objs, axis, join, join_axes, ignore_index, keys, levels, names, verify_integrity, sort, copy)\u001b[0m\n\u001b[1;32m    227\u001b[0m                        \u001b[0mverify_integrity\u001b[0m\u001b[0;34m=\u001b[0m\u001b[0mverify_integrity\u001b[0m\u001b[0;34m,\u001b[0m\u001b[0;34m\u001b[0m\u001b[0;34m\u001b[0m\u001b[0m\n\u001b[1;32m    228\u001b[0m                        copy=copy, sort=sort)\n\u001b[0;32m--> 229\u001b[0;31m     \u001b[0;32mreturn\u001b[0m \u001b[0mop\u001b[0m\u001b[0;34m.\u001b[0m\u001b[0mget_result\u001b[0m\u001b[0;34m(\u001b[0m\u001b[0;34m)\u001b[0m\u001b[0;34m\u001b[0m\u001b[0;34m\u001b[0m\u001b[0m\n\u001b[0m\u001b[1;32m    230\u001b[0m \u001b[0;34m\u001b[0m\u001b[0m\n\u001b[1;32m    231\u001b[0m \u001b[0;34m\u001b[0m\u001b[0m\n",
      "\u001b[0;32m~/anaconda2/envs/keenanm/lib/python3.6/site-packages/pandas/core/reshape/concat.py\u001b[0m in \u001b[0;36mget_result\u001b[0;34m(self)\u001b[0m\n\u001b[1;32m    424\u001b[0m             new_data = concatenate_block_managers(\n\u001b[1;32m    425\u001b[0m                 \u001b[0mmgrs_indexers\u001b[0m\u001b[0;34m,\u001b[0m \u001b[0mself\u001b[0m\u001b[0;34m.\u001b[0m\u001b[0mnew_axes\u001b[0m\u001b[0;34m,\u001b[0m \u001b[0mconcat_axis\u001b[0m\u001b[0;34m=\u001b[0m\u001b[0mself\u001b[0m\u001b[0;34m.\u001b[0m\u001b[0maxis\u001b[0m\u001b[0;34m,\u001b[0m\u001b[0;34m\u001b[0m\u001b[0;34m\u001b[0m\u001b[0m\n\u001b[0;32m--> 426\u001b[0;31m                 copy=self.copy)\n\u001b[0m\u001b[1;32m    427\u001b[0m             \u001b[0;32mif\u001b[0m \u001b[0;32mnot\u001b[0m \u001b[0mself\u001b[0m\u001b[0;34m.\u001b[0m\u001b[0mcopy\u001b[0m\u001b[0;34m:\u001b[0m\u001b[0;34m\u001b[0m\u001b[0;34m\u001b[0m\u001b[0m\n\u001b[1;32m    428\u001b[0m                 \u001b[0mnew_data\u001b[0m\u001b[0;34m.\u001b[0m\u001b[0m_consolidate_inplace\u001b[0m\u001b[0;34m(\u001b[0m\u001b[0;34m)\u001b[0m\u001b[0;34m\u001b[0m\u001b[0;34m\u001b[0m\u001b[0m\n",
      "\u001b[0;32m~/anaconda2/envs/keenanm/lib/python3.6/site-packages/pandas/core/internals/managers.py\u001b[0m in \u001b[0;36mconcatenate_block_managers\u001b[0;34m(mgrs_indexers, axes, concat_axis, copy)\u001b[0m\n\u001b[1;32m   2063\u001b[0m         \u001b[0mblocks\u001b[0m\u001b[0;34m.\u001b[0m\u001b[0mappend\u001b[0m\u001b[0;34m(\u001b[0m\u001b[0mb\u001b[0m\u001b[0;34m)\u001b[0m\u001b[0;34m\u001b[0m\u001b[0;34m\u001b[0m\u001b[0m\n\u001b[1;32m   2064\u001b[0m \u001b[0;34m\u001b[0m\u001b[0m\n\u001b[0;32m-> 2065\u001b[0;31m     \u001b[0;32mreturn\u001b[0m \u001b[0mBlockManager\u001b[0m\u001b[0;34m(\u001b[0m\u001b[0mblocks\u001b[0m\u001b[0;34m,\u001b[0m \u001b[0maxes\u001b[0m\u001b[0;34m)\u001b[0m\u001b[0;34m\u001b[0m\u001b[0;34m\u001b[0m\u001b[0m\n\u001b[0m",
      "\u001b[0;32m~/anaconda2/envs/keenanm/lib/python3.6/site-packages/pandas/core/internals/managers.py\u001b[0m in \u001b[0;36m__init__\u001b[0;34m(self, blocks, axes, do_integrity_check)\u001b[0m\n\u001b[1;32m    112\u001b[0m \u001b[0;34m\u001b[0m\u001b[0m\n\u001b[1;32m    113\u001b[0m         \u001b[0;32mif\u001b[0m \u001b[0mdo_integrity_check\u001b[0m\u001b[0;34m:\u001b[0m\u001b[0;34m\u001b[0m\u001b[0;34m\u001b[0m\u001b[0m\n\u001b[0;32m--> 114\u001b[0;31m             \u001b[0mself\u001b[0m\u001b[0;34m.\u001b[0m\u001b[0m_verify_integrity\u001b[0m\u001b[0;34m(\u001b[0m\u001b[0;34m)\u001b[0m\u001b[0;34m\u001b[0m\u001b[0;34m\u001b[0m\u001b[0m\n\u001b[0m\u001b[1;32m    115\u001b[0m \u001b[0;34m\u001b[0m\u001b[0m\n\u001b[1;32m    116\u001b[0m         \u001b[0mself\u001b[0m\u001b[0;34m.\u001b[0m\u001b[0m_consolidate_check\u001b[0m\u001b[0;34m(\u001b[0m\u001b[0;34m)\u001b[0m\u001b[0;34m\u001b[0m\u001b[0;34m\u001b[0m\u001b[0m\n",
      "\u001b[0;32m~/anaconda2/envs/keenanm/lib/python3.6/site-packages/pandas/core/internals/managers.py\u001b[0m in \u001b[0;36m_verify_integrity\u001b[0;34m(self)\u001b[0m\n\u001b[1;32m    309\u001b[0m         \u001b[0;32mfor\u001b[0m \u001b[0mblock\u001b[0m \u001b[0;32min\u001b[0m \u001b[0mself\u001b[0m\u001b[0;34m.\u001b[0m\u001b[0mblocks\u001b[0m\u001b[0;34m:\u001b[0m\u001b[0;34m\u001b[0m\u001b[0;34m\u001b[0m\u001b[0m\n\u001b[1;32m    310\u001b[0m             \u001b[0;32mif\u001b[0m \u001b[0mblock\u001b[0m\u001b[0;34m.\u001b[0m\u001b[0m_verify_integrity\u001b[0m \u001b[0;32mand\u001b[0m \u001b[0mblock\u001b[0m\u001b[0;34m.\u001b[0m\u001b[0mshape\u001b[0m\u001b[0;34m[\u001b[0m\u001b[0;36m1\u001b[0m\u001b[0;34m:\u001b[0m\u001b[0;34m]\u001b[0m \u001b[0;34m!=\u001b[0m \u001b[0mmgr_shape\u001b[0m\u001b[0;34m[\u001b[0m\u001b[0;36m1\u001b[0m\u001b[0;34m:\u001b[0m\u001b[0;34m]\u001b[0m\u001b[0;34m:\u001b[0m\u001b[0;34m\u001b[0m\u001b[0;34m\u001b[0m\u001b[0m\n\u001b[0;32m--> 311\u001b[0;31m                 \u001b[0mconstruction_error\u001b[0m\u001b[0;34m(\u001b[0m\u001b[0mtot_items\u001b[0m\u001b[0;34m,\u001b[0m \u001b[0mblock\u001b[0m\u001b[0;34m.\u001b[0m\u001b[0mshape\u001b[0m\u001b[0;34m[\u001b[0m\u001b[0;36m1\u001b[0m\u001b[0;34m:\u001b[0m\u001b[0;34m]\u001b[0m\u001b[0;34m,\u001b[0m \u001b[0mself\u001b[0m\u001b[0;34m.\u001b[0m\u001b[0maxes\u001b[0m\u001b[0;34m)\u001b[0m\u001b[0;34m\u001b[0m\u001b[0;34m\u001b[0m\u001b[0m\n\u001b[0m\u001b[1;32m    312\u001b[0m         \u001b[0;32mif\u001b[0m \u001b[0mlen\u001b[0m\u001b[0;34m(\u001b[0m\u001b[0mself\u001b[0m\u001b[0;34m.\u001b[0m\u001b[0mitems\u001b[0m\u001b[0;34m)\u001b[0m \u001b[0;34m!=\u001b[0m \u001b[0mtot_items\u001b[0m\u001b[0;34m:\u001b[0m\u001b[0;34m\u001b[0m\u001b[0;34m\u001b[0m\u001b[0m\n\u001b[1;32m    313\u001b[0m             raise AssertionError('Number of manager items must equal union of '\n",
      "\u001b[0;32m~/anaconda2/envs/keenanm/lib/python3.6/site-packages/pandas/core/internals/managers.py\u001b[0m in \u001b[0;36mconstruction_error\u001b[0;34m(tot_items, block_shape, axes, e)\u001b[0m\n\u001b[1;32m   1689\u001b[0m         \u001b[0;32mraise\u001b[0m \u001b[0mValueError\u001b[0m\u001b[0;34m(\u001b[0m\u001b[0;34m\"Empty data passed with indices specified.\"\u001b[0m\u001b[0;34m)\u001b[0m\u001b[0;34m\u001b[0m\u001b[0;34m\u001b[0m\u001b[0m\n\u001b[1;32m   1690\u001b[0m     raise ValueError(\"Shape of passed values is {0}, indices imply {1}\".format(\n\u001b[0;32m-> 1691\u001b[0;31m         passed, implied))\n\u001b[0m\u001b[1;32m   1692\u001b[0m \u001b[0;34m\u001b[0m\u001b[0m\n\u001b[1;32m   1693\u001b[0m \u001b[0;34m\u001b[0m\u001b[0m\n",
      "\u001b[0;31mValueError\u001b[0m: Shape of passed values is (38896, 14), indices imply (38884, 14)"
     ]
    }
   ],
   "source": [
    "for terrain in terrains:\n",
    "    for movement in movements:\n",
    "        # Identifier at end of label\n",
    "        label_suffix = terrain + movement + '_Module'\n",
    "        \n",
    "        module_datasets = []\n",
    "        \n",
    "        # Start with wheel data only\n",
    "        for wheel in ['Left_', 'Right_']:\n",
    "            # Set index to epoch time for easier time alignment\n",
    "            module_datasets.append(datasets[wheel + label_suffix].set_index('Epoch Time'))\n",
    "        \n",
    "        # Join the wheel data columns, only where they overlap in Epoch Time\n",
    "        dataset_wheels = pd.concat(module_datasets, axis='columns', join='outer')\n",
    "        dataset_wheels = dataset_wheels.reset_index()\n",
    "        \n",
    "        # Save as a csv and add to dataset dictionary\n",
    "        wheels_label = 'Wheels_' + label_suffix\n",
    "        dataset_wheels.to_csv('imu_data/' + wheels_label + '.csv', index=False)\n",
    "        datasets.update({wheels_label: dataset_wheels})\n",
    "        \n",
    "        # Add the frame and synthesis data\n",
    "        module_datasets.append(datasets['Middle_' + label_suffix + '6050'].set_index('Epoch Time'))\n",
    "        module_datasets.append(datasets['Synthesis_' + label_suffix].set_index('Epoch Time'))\n",
    "        \n",
    "        # Join data from all the \"placements\", only where they overlap in Epoch Time\n",
    "        dataset_all = pd.concat(module_datasets, axis='columns', join='outer')\n",
    "        dataset_all = dataset_all.reset_index()\n",
    "        \n",
    "        # Save as csv and add to dictionary\n",
    "        all_label = 'All_' + label_suffix\n",
    "        dataset_all.to_csv('imu_data/' + all_label + '.csv')\n",
    "        datasets.update({all_label: dataset_all})"
   ]
  },
  {
   "cell_type": "code",
   "execution_count": null,
   "metadata": {},
   "outputs": [],
   "source": [
    "# Only process new integrated data for now\n",
    "datasets = {label: dataset for label, dataset in datasets.items() if 'All' in label or 'Wheels' in label}"
   ]
  },
  {
   "cell_type": "code",
   "execution_count": null,
   "metadata": {},
   "outputs": [],
   "source": [
    "datasets = pd_to_np(datasets)"
   ]
  },
  {
   "cell_type": "markdown",
   "metadata": {},
   "source": [
    "## Part 3 - Time Windows"
   ]
  },
  {
   "cell_type": "markdown",
   "metadata": {},
   "source": [
    "### Part (a) - Creating Time Windowed Data"
   ]
  },
  {
   "cell_type": "code",
   "execution_count": null,
   "metadata": {},
   "outputs": [],
   "source": [
    "datasets_windowed = {}\n",
    "\n",
    "# Trim excess datapoints, then split into windows\n",
    "for label, dataset in datasets.items():\n",
    "    window_size = get_window_size(label)\n",
    "    n_windows = int(len(dataset) / window_size) # Note: Integer floor\n",
    "    n_points = n_windows * window_size\n",
    "    \n",
    "    dataset_windowed = np.resize(dataset, (n_points, dataset.shape[1]))\n",
    "    dataset_windowed = np.split(dataset_windowed, n_windows, axis=0)\n",
    "    \n",
    "    datasets_windowed.update({label: dataset_windowed})"
   ]
  },
  {
   "cell_type": "code",
   "execution_count": null,
   "metadata": {},
   "outputs": [],
   "source": [
    "# Check if its constructed correctly\n",
    "print('Num windowed datasets: {}'.format(len(datasets_windowed)))\n",
    "print('Num of windows in first dataset: {}'.format(len(datasets_windowed[dataset_labels[0]])))\n",
    "print('Shape of individual window: {}'.format(datasets_windowed[dataset_labels[0]][0].shape))"
   ]
  },
  {
   "cell_type": "code",
   "execution_count": null,
   "metadata": {
    "scrolled": false
   },
   "outputs": [],
   "source": [
    "# Try out pandas conversion again\n",
    "np_to_pd(datasets_windowed, windowed=True)[dataset_labels[0]][0].tail()"
   ]
  },
  {
   "cell_type": "code",
   "execution_count": null,
   "metadata": {},
   "outputs": [],
   "source": [
    "# Plot the first time window\n",
    "datasets_to_plot = {label: dataset for label, dataset in datasets_windowed.items() if 'Concrete' in label}\n",
    "plot_all(np_to_pd(datasets_to_plot, windowed=True), \n",
    "         x_axis='Run Time', y_axis='Calc X Vel', windowed=True, win_num=3)"
   ]
  },
  {
   "cell_type": "markdown",
   "metadata": {},
   "source": [
    "#### Data Structure\n",
    "\n",
    "`Terrain Dataset Dictionary\n",
    "-> Data Window List\n",
    "---> NP Array\n",
    "-----> Row = Datapoint\n",
    "-----> Col = Direction | Time`"
   ]
  },
  {
   "cell_type": "markdown",
   "metadata": {},
   "source": [
    "## Part 4 - Transforms"
   ]
  },
  {
   "cell_type": "code",
   "execution_count": null,
   "metadata": {},
   "outputs": [],
   "source": [
    "'''Plot tranform of given direction and window of a windowed dataset dictionary'''\n",
    "def plot_set_transforms(datasets_transformed, dirn, win_num, transform_name):\n",
    "    plt.clf()\n",
    "    plt.figure(figsize=(12, 8))\n",
    "    \n",
    "    # Plot all the FFTs in one figure overlaid\n",
    "    for label, dataset in datasets_transformed.items():\n",
    "        plt.plot(dataset[win_num][:, -1], dataset[win_num][:, dirn], \n",
    "                 label=label)\n",
    "    plt.legend()\n",
    "\n",
    "    plt.xlabel('Frequency ($Hz$)')\n",
    "    if (transform_name == 'FFT'):\n",
    "        plt.ylabel('Amplitude (Normalized to Window Size)')\n",
    "    elif (transform_name == 'PSD'):\n",
    "        plt.ylabel('Amplitude (Log-Scaled)')\n",
    "\n",
    "    plt.title(transform_name +' of ' + get_columns(label)[dirn] + ', Window {}')\n",
    "    plt.show()"
   ]
  },
  {
   "cell_type": "markdown",
   "metadata": {},
   "source": [
    "### Part (a) - FFT"
   ]
  },
  {
   "cell_type": "code",
   "execution_count": null,
   "metadata": {
    "scrolled": true
   },
   "outputs": [],
   "source": [
    "datasets_fft = {}\n",
    "N_BINS_OVER_CUTOFF = 5 # Number of frequency bins past the cutoff frequency to include\n",
    "\n",
    "# Find the FFT of each column of each data window of each dataset\n",
    "for label, dataset in datasets_windowed.items():\n",
    "    dataset_fft = []\n",
    "    \n",
    "    for window in dataset:\n",
    "        # Sampling frequency dependent on device\n",
    "        f_samp, f_low, f_high = get_frequencies(label)\n",
    "        \n",
    "        # Number of columns of data different for synthesis data\n",
    "        n_data_col = get_n_data_col(label)\n",
    "        \n",
    "        # Only include frequency bins up to and a little bit past the cutoff frequency\n",
    "        # Everything past that is useless because its the same on all terrains\n",
    "        window_size = get_window_size(label)\n",
    "        n_bins = int(window_size / f_samp * f_low) + N_BINS_OVER_CUTOFF\n",
    "        window_fft = np.zeros((n_bins, n_data_col))\n",
    "        \n",
    "        for i in range(n_data_col):\n",
    "            # FFT is normalized to window size, to ensure consistency between different size choices\n",
    "            window_fft[:, i] = np.resize(np.abs(np.divide(np.fft.fft(window[:, i]), window_size)), n_bins)\n",
    "            \n",
    "        # Get positive frequency bins for given FFT parameters\n",
    "        freq_col = np.transpose([np.resize(np.fft.fftfreq(window_size, 1 / f_samp), n_bins)])\n",
    "        \n",
    "        # Append the frequency column\n",
    "        window_fft = np.append(window_fft, freq_col, axis=1)\n",
    "        dataset_fft.append(window_fft)\n",
    "        \n",
    "    datasets_fft.update({label + 'FFT': dataset_fft})"
   ]
  },
  {
   "cell_type": "code",
   "execution_count": null,
   "metadata": {},
   "outputs": [],
   "source": [
    "# Check again if its constructed correctly\n",
    "print('Num of FFT\\'d windowed datasets: {}'.format(len(datasets_fft)))\n",
    "print('Num of FFT\\'d windows in first dataset: {}'.format(len(datasets_fft[dataset_labels[4]+'FFT'])))\n",
    "print('Shape of FFT\\'d individual window: {}'.format(datasets_fft[dataset_labels[4]+'FFT'][0].shape))\n",
    "\n",
    "# Pandas conversion\n",
    "np_to_pd(datasets_fft, windowed=True)[dataset_labels[0]+'FFT'][0].head()"
   ]
  },
  {
   "cell_type": "code",
   "execution_count": null,
   "metadata": {
    "scrolled": false
   },
   "outputs": [],
   "source": [
    "# Plot Middle Z Accel of 10th window\n",
    "ffts_to_plot = {label: dataset for label, dataset in datasets_fft.items() if 'Synthesis' in label and 'Straight' not in label and 'Donut' not in label}\n",
    "plot_set_transforms(ffts_to_plot, win_num=3, dirn=0, transform_name='FFT')"
   ]
  },
  {
   "cell_type": "markdown",
   "metadata": {},
   "source": [
    "**The number of frequency bins is dependent on window size, and it seems to affect amplitude too.**"
   ]
  },
  {
   "cell_type": "code",
   "execution_count": null,
   "metadata": {},
   "outputs": [],
   "source": [
    "# Plot all the Frame FFTs for 0th window\n",
    "plot_all(np_to_pd(ffts_to_plot, windowed=True), x_axis='Frequency', y_axis='Calc X Vel', windowed=True)"
   ]
  },
  {
   "cell_type": "markdown",
   "metadata": {},
   "source": [
    "### Part (b) - PSD"
   ]
  },
  {
   "cell_type": "code",
   "execution_count": null,
   "metadata": {},
   "outputs": [],
   "source": [
    "datasets_psd = {}\n",
    "datasets_psd_log = {}\n",
    "\n",
    "# Find the PSD and log(PSD) of each column of each data window of each dataset\n",
    "for label, dataset in datasets_windowed.items():\n",
    "    dataset_psd = []\n",
    "    dataset_psd_log = []\n",
    "    \n",
    "    for window in dataset:\n",
    "        # Frequencies depedent on dataset and device used\n",
    "        f_samp, f_low, f_high = get_frequencies(label)\n",
    "        \n",
    "        # Number of columns of data different for synthesis data\n",
    "        n_data_col = get_n_data_col(label)\n",
    "        \n",
    "        # Only include frequency bins up to and a little bit past the cutoff frequency\n",
    "        # Everything past that is useless because its the same on all terrains\n",
    "        window_size = get_window_size(label)\n",
    "        n_bins = int(window_size / f_samp * f_low) + N_BINS_OVER_CUTOFF\n",
    "        window_psd = np.zeros((n_bins, n_data_col))\n",
    "        window_psd_log = np.zeros((n_bins, n_data_col))\n",
    "        \n",
    "        # Calculate PSD for each axes\n",
    "        for i in range(n_data_col):\n",
    "            # Normalized PSD - Returns frequencies and power density\n",
    "            freq, Pxx = signal.periodogram(window[:, i], f_samp)\n",
    "            window_psd[:, i] = np.resize(Pxx[1:], n_bins)\n",
    "            \n",
    "            # Calculate log10 of PSD, replacing points where PSD = 0 with 0 to avoid division by 0\n",
    "            for j in range(len(window_psd[:, i])):\n",
    "                if (window_psd[j, i] == 0):\n",
    "                    window_psd_log[j, i] = 0\n",
    "                else:\n",
    "                    window_psd_log[j, i] = np.log10(window_psd[j, i])\n",
    "            \n",
    "        # Append freq column\n",
    "        freq_col = np.transpose([np.resize(freq[:-1], n_bins)])\n",
    "        window_psd = np.append(window_psd, freq_col, axis=1)\n",
    "        window_psd_log = np.append(window_psd_log, freq_col, axis=1)\n",
    "        \n",
    "        dataset_psd.append(window_psd)\n",
    "        dataset_psd_log.append(window_psd_log)\n",
    "        \n",
    "    datasets_psd.update({label + 'PSD': dataset_psd})\n",
    "    datasets_psd_log.update({label +'PSDLog': dataset_psd_log})"
   ]
  },
  {
   "cell_type": "code",
   "execution_count": null,
   "metadata": {},
   "outputs": [],
   "source": [
    "# Check again if its constructed correctly\n",
    "print('Num PSD\\'d windowed datasets: {}'.format(len(datasets_psd)))\n",
    "print('Num of PSD\\'d windows in first dataset: {}'.format(len(datasets_psd[dataset_labels[0]+'PSD'])))\n",
    "print('Shape of PSD\\'d individual window: {}'.format(datasets_psd[dataset_labels[0]+'PSD'][0].shape))"
   ]
  },
  {
   "cell_type": "code",
   "execution_count": null,
   "metadata": {},
   "outputs": [],
   "source": [
    "# Plot Z Accel of 0th window\n",
    "psds_to_plot = {label: dataset for label, dataset in datasets_psd_log.items() if 'Synthesis' in label and 'Power' not in label and 'Straight' not in label and 'Donut' not in label}\n",
    "plot_set_transforms(psds_to_plot, win_num=0, dirn=2, transform_name='PSD')"
   ]
  },
  {
   "cell_type": "code",
   "execution_count": null,
   "metadata": {},
   "outputs": [],
   "source": [
    "# Plot all PSDs of Z Accel for 0th window\n",
    "plot_all(np_to_pd(psds_to_plot, windowed=True), x_axis='Frequency', y_axis='Calc X Accel', windowed=True)"
   ]
  },
  {
   "cell_type": "markdown",
   "metadata": {},
   "source": [
    "#### Data Structure:\n",
    "\n",
    "`Labelled Terrain Dataset\n",
    "-> Time Window\n",
    "---> 2D NumPy Array\n",
    "-----> Row = Transform Value for Frequency\n",
    "-----> Col = Dirn | Frequency`"
   ]
  },
  {
   "cell_type": "markdown",
   "metadata": {},
   "source": [
    "### Part (c) - 3D Visualization"
   ]
  },
  {
   "cell_type": "code",
   "execution_count": null,
   "metadata": {},
   "outputs": [],
   "source": [
    "'''Plot the set transforms in 3d'''\n",
    "def plot_transforms_3d(datasets_transformed, win_num, dirn, transform_name):\n",
    "    plt.clf()\n",
    "    fig = plt.figure(figsize=(10, 8))\n",
    "    ax = fig.gca(projection='3d')\n",
    "    \n",
    "    # Specific to FFT or PSD\n",
    "    if transform_name == 'FFT':\n",
    "        z_lim = (0, 1.6)\n",
    "        ax.set_zlim(z_lim[0], z_lim[1])\n",
    "        ax.set_zlabel('Amplitude (Normalized to Window Size)')\n",
    "        \n",
    "    elif transform_name == 'PSD':\n",
    "        z_lim = (-10, -30)\n",
    "        ax.set_zlim(z_lim[0], z_lim[1])\n",
    "        ax.set_zlabel('Amplitude (Log-Scaled)')\n",
    "    \n",
    "    n_datasets = len(datasets_transformed)\n",
    "    \n",
    "    # Change y axis to corespond with terrain labels\n",
    "    ax.set_ylim(0.5, n_datasets+0.5)\n",
    "    subset = np.arange(0, n_datasets, dtype=int)\n",
    "    ax.set_yticks(np.add(subset, 1.5))\n",
    "    y_labels = [get_terrain_name(get_terrain_num(key)) for key in datasets_transformed.keys()]\n",
    "    ax.set_yticklabels(y_labels)\n",
    "    \n",
    "    ax.set_xlabel('Frequency ($Hz$)')\n",
    "    \n",
    "    # Bar graph paremeters\n",
    "    width = depth = 0.75\n",
    "    \n",
    "    # TODO: Sort by max amplitude\n",
    "    # Plot each dataset FFT\n",
    "    for i, (label, dataset) in enumerate(datasets_transformed.items()):\n",
    "        # To plot\n",
    "        x = dataset[win_num][:, -1]\n",
    "        y = [i+1]\n",
    "        top = dataset[win_num][:, dirn]\n",
    "        \n",
    "        # Specific to transform\n",
    "        bot = np.full(top.shape, z_lim[0])\n",
    "        ax.bar3d(x, y, bot, width, depth, top, alpha=0.8)\n",
    "        \n",
    "        # TODO: Make this nicer\n",
    "        ax.set_title(transform_name + ' of ' + get_columns(label)[dirn] + ', Window {}')\n",
    "    \n",
    "    plt.show()"
   ]
  },
  {
   "cell_type": "code",
   "execution_count": null,
   "metadata": {},
   "outputs": [],
   "source": [
    "# Plot 3D Z Accel FFT of 0th window\n",
    "ffts_to_plot = {label: dataset for label, dataset in datasets_fft.items() if 'Synthesis' in label and 'Straight' not in label and 'Donut' not in label}\n",
    "plot_transforms_3d(ffts_to_plot, win_num=4, dirn=2, transform_name='FFT')"
   ]
  },
  {
   "cell_type": "code",
   "execution_count": null,
   "metadata": {},
   "outputs": [],
   "source": [
    "# Plot 3D Z Accel PSD of 0th window\n",
    "psds_to_plot = {label: dataset for label, dataset in datasets_psd_log.items() if 'Synthesis' in label and 'Straight' not in label and 'Donut' not in label }\n",
    "plot_transforms_3d(psds_to_plot, win_num=4, dirn=2, transform_name='PSD')"
   ]
  },
  {
   "cell_type": "markdown",
   "metadata": {},
   "source": [
    "### Part (d) - Spectograms"
   ]
  },
  {
   "cell_type": "code",
   "execution_count": null,
   "metadata": {},
   "outputs": [],
   "source": [
    "'''Plot a spectogram of data'''\n",
    "def plot_spectogram(set_label, dirn, size):\n",
    "    # Get sampling frequency for label\n",
    "    f_samp, f_low, f_high = get_frequencies(set_label)\n",
    "    \n",
    "    plt.clf()\n",
    "    plt.figure(figsize=(12, 8))\n",
    "    \n",
    "    # Compute spectogram directly using time series data\n",
    "    plt.specgram(datasets[set_label][:, dirn], NFFT=size, Fs=f_samp)\n",
    "    plt.title('Spectrogram of {} for {}'.format(data_columns[dirn], set_label))\n",
    "    plt.xlabel('Data Window')\n",
    "    plt.xticks(label=np.arange(0, len(datasets_windowed[set_label])))\n",
    "    plt.ylabel('Frequency ($Hz$)')\n",
    "    \n",
    "    plt.show()"
   ]
  },
  {
   "cell_type": "code",
   "execution_count": null,
   "metadata": {},
   "outputs": [],
   "source": [
    "plot_spectogram(dataset_labels[0], dirn=3, size=get_window_size(dataset_labels[0]))"
   ]
  },
  {
   "cell_type": "markdown",
   "metadata": {},
   "source": [
    "## Part 5 - Feature Extraction"
   ]
  },
  {
   "cell_type": "markdown",
   "metadata": {},
   "source": [
    "#### Extract possibly relevant features (e.g. Mean, Min, Skew) from each data window"
   ]
  },
  {
   "cell_type": "code",
   "execution_count": null,
   "metadata": {},
   "outputs": [],
   "source": [
    "# Feature extraction functions\n",
    "\n",
    "# For small float values\n",
    "EPSILON = 0.00001\n",
    "\n",
    "'''L2 norm of an array'''\n",
    "def l2norm(array):\n",
    "    return np.linalg.norm(array, ord=2)\n",
    "\n",
    "'''Correlation of an array with itself'''\n",
    "def autocorr(array):\n",
    "    return np.correlate(array, array)[0]\n",
    "\n",
    "'''Root mean squared of an array'''\n",
    "def rms(array):\n",
    "    return np.sqrt(np.mean(array ** 2))\n",
    "\n",
    "'''Zero crossing rate of an array as a fraction of total size of array'''\n",
    "def zcr(array):\n",
    "    # Locations where array > 0, put -1 and 1 for rising/falling,\n",
    "    # divide by total datapoints\n",
    "    return len(np.nonzero(np.diff(array > 0))[0]) / len(array)\n",
    "\n",
    "'''Mean square frequency'''\n",
    "def msf(freqs, psd_amps):\n",
    "    num = np.sum(np.multiply(np.resize(freq, len(psd_amps)), np.power(psd_amps, 2)))\n",
    "    denom = np.sum(psd_amps)\n",
    "    \n",
    "    # In case zero amplitude transform is ecountered\n",
    "    if denom <= EPSILON:\n",
    "        return EPSILON\n",
    "    \n",
    "    return np.divide(num, denom)\n",
    "\n",
    "'''Root mean square frequency'''\n",
    "def rmsf(freqs, psd_amps):\n",
    "    return np.sqrt(msf(freqs, psd_amps))\n",
    "\n",
    "'''Frequency center'''\n",
    "def fc(freqs, psd_amps):\n",
    "    num = np.sum(np.multiply(np.resize(freq, len(psd_amps)), psd_amps))\n",
    "    denom = np.sum(psd_amps)\n",
    "    \n",
    "    # In case zero amplitude transform is ecountered\n",
    "    if denom <= EPSILON:\n",
    "        return EPSILON\n",
    "    \n",
    "    return np.divide(num, denom)\n",
    "\n",
    "'''Variance frequency'''\n",
    "def vf(freqs, psd_amps):\n",
    "    return msf(freqs, psd_amps) - fc(freqs, psd_amps) ** 2\n",
    "\n",
    "'''Root variance frequency'''\n",
    "def rvf(freqs, psd_amps):\n",
    "    return np.sqrt(msf(freqs, psd_amps))"
   ]
  },
  {
   "cell_type": "code",
   "execution_count": null,
   "metadata": {},
   "outputs": [],
   "source": [
    "'''Extract given features from everything in dataset'''\n",
    "def feature_all(features, datasets, regular=True):\n",
    "    datasets_feat = {}\n",
    "    \n",
    "    # Calculate features for each window of each column of each dataset\n",
    "    for label, dataset in datasets.items():\n",
    "        directions = {}\n",
    "        n_data_col = get_n_data_col(label)\n",
    "        \n",
    "        # Loop over data columns\n",
    "        for i, direction in enumerate(get_columns(label)[:n_data_col]):\n",
    "            feats = {}\n",
    "            \n",
    "            if (regular):\n",
    "                '''Execute a function over all windows'''\n",
    "                def function_all_windows(function):\n",
    "                    feat_in_window = []\n",
    "                    \n",
    "                    for window in dataset:\n",
    "                        feat_in_window.append(function(window[:, i]))\n",
    "                    \n",
    "                    return feat_in_window\n",
    "                    \n",
    "            else:\n",
    "                '''Alternate defintion for frequency functions'''\n",
    "                def function_all_windows(function):\n",
    "                    feat_in_window = []\n",
    "                    \n",
    "                    for window in dataset:\n",
    "                        feat_in_window.append(function(window[:, -1], window[:, i]))\n",
    "                    \n",
    "                    return feat_in_window\n",
    "                    \n",
    "                    \n",
    "            # Execute every function over all windows    \n",
    "            for feat_name, feat_func in features.items():\n",
    "                feats.update({feat_name: function_all_windows(feat_func)})\n",
    "            \n",
    "            directions.update({direction: pd.DataFrame.from_dict(feats)})\n",
    "\n",
    "        datasets_feat.update({label.replace('PSD', ''): directions})\n",
    "    \n",
    "    return datasets_feat"
   ]
  },
  {
   "cell_type": "code",
   "execution_count": null,
   "metadata": {},
   "outputs": [],
   "source": [
    "'''Plot a feature on all terrains for each time window'''\n",
    "def plot_set_features(datasets_feat, dirn, feat_name, placement_name, ylim=None, xlim=None):\n",
    "    plt.clf()\n",
    "    plt.figure(figsize=(10,8))\n",
    "    \n",
    "    for label, dataset in datasets_feat.items():\n",
    "        plt.plot(dataset[dirn][feat_name], label=label)\n",
    "        \n",
    "    if ylim is not None:\n",
    "        plt.ylim(ylim[0], ylim[1])\n",
    "    if xlim is not None:\n",
    "        plt.xlim(xlim[0], xlim[1])\n",
    "    \n",
    "    plt.ylabel(feat_name)\n",
    "    plt.xlabel('Window #')\n",
    "    plt.title(placement_name + ' ' + dirn)\n",
    "    plt.legend()\n",
    "    plt.show()"
   ]
  },
  {
   "cell_type": "markdown",
   "metadata": {},
   "source": [
    "### Part (a) - Time Domain Features"
   ]
  },
  {
   "cell_type": "code",
   "execution_count": null,
   "metadata": {},
   "outputs": [],
   "source": [
    "# Time domain feature functions and names\n",
    "time_features = {'Mean': np.mean, 'Std Dev': np.std,  'L2 Norm': l2norm, 'Autocorrelation': autocorr, \n",
    "                 'Max': np.amax, 'Min' : np.amin, 'Root Mean Squared': rms, 'Zero Crossing Rate': zcr, \n",
    "                 'Skew': stats.skew, 'Excess Kurtosis': stats.kurtosis} \n",
    "\n",
    "# Create array of features of each window for each dataset and direction\n",
    "datasets_feat_time = feature_all(time_features, datasets_windowed)"
   ]
  },
  {
   "cell_type": "code",
   "execution_count": null,
   "metadata": {
    "scrolled": true
   },
   "outputs": [],
   "source": [
    "# Check if its constructed correctly and print some info\n",
    "print('Num datasets: {}'.format(len(datasets_feat_time)))\n",
    "print('Num directions: {}'.format(len(datasets_feat_time[dataset_labels[0]])))\n",
    "print('Shape of first dataset first direction: {}'.format(datasets_feat_time[dataset_labels[0]]['Calc X Accel'].shape))"
   ]
  },
  {
   "cell_type": "code",
   "execution_count": null,
   "metadata": {},
   "outputs": [],
   "source": [
    "# Plot Min of frame Z Accel\n",
    "feat_datasets_to_plot = {label: dataset for label, dataset in datasets_feat_time.items() if 'Synthesis' in label in label and 'Straight' not in label and 'Donut' not in label}\n",
    "plot_set_features(feat_datasets_to_plot, dirn='Calc X Accel', feat_name='Min', placement_name='Middle')"
   ]
  },
  {
   "cell_type": "markdown",
   "metadata": {},
   "source": [
    "### Part (b) - Frequency Domain Features"
   ]
  },
  {
   "cell_type": "code",
   "execution_count": null,
   "metadata": {},
   "outputs": [],
   "source": [
    "# Frequency domain feature functions and names\n",
    "freq_features = {'Mean Square Frequency': msf, 'Root Mean Square Frequency': rmsf, 'Frequency Center': fc, \n",
    "                 'Variance Frequency': vf, 'Root Variance Frequency': rvf}\n",
    "\n",
    "# Create array of features of each window for each dataset and direction\n",
    "datasets_feat_freq = feature_all(freq_features, datasets_psd, regular=False)"
   ]
  },
  {
   "cell_type": "code",
   "execution_count": null,
   "metadata": {},
   "outputs": [],
   "source": [
    "# Check if its constructed correctly and print some info\n",
    "print('Num datasets: {}'.format(len(datasets_feat_freq)))\n",
    "print('Num directions: {}'.format(len(datasets_feat_freq[dataset_labels[0]])))\n",
    "print('Shape of one direction: {}'.format(datasets_feat_freq[dataset_labels[0]]['Calc X Vel'].shape))"
   ]
  },
  {
   "cell_type": "code",
   "execution_count": null,
   "metadata": {},
   "outputs": [],
   "source": [
    "# Plot RMSF of Y Accel\n",
    "feat_datasets_to_plot = {label: feature for label, feature in datasets_feat_freq.items() if 'Synthesis' in label and 'Straight' not in label and 'Donut' not in label}\n",
    "plot_set_features(feat_datasets_to_plot, dirn='Calc X Vel', feat_name='Root Mean Square Frequency', placement_name='Middle')"
   ]
  },
  {
   "cell_type": "markdown",
   "metadata": {},
   "source": [
    "#### Data Structure\n",
    "\n",
    "`Terrain Dataset Dictionary\n",
    "-> Direction Dictionary \n",
    "---> Pandas Array\n",
    "-----> Row = Window #\n",
    "-----> Col = Extracted Feature`"
   ]
  },
  {
   "cell_type": "markdown",
   "metadata": {},
   "source": [
    "## Part 6 - Standardization, Columning, and Combining Datasets"
   ]
  },
  {
   "cell_type": "markdown",
   "metadata": {},
   "source": [
    "**Since Z Gyro data is often cutoff out of range on old datasets, possible to get PSD of zero which results in NaN values**\n",
    "\n",
    "This is likely the cause of some of the errors below"
   ]
  },
  {
   "cell_type": "code",
   "execution_count": null,
   "metadata": {},
   "outputs": [],
   "source": [
    "# Convert transformed data to Pandas\n",
    "datasets_fft = np_to_pd(datasets_fft, windowed=True)\n",
    "datasets_psd_log = np_to_pd(datasets_psd_log, windowed=True)"
   ]
  },
  {
   "cell_type": "code",
   "execution_count": null,
   "metadata": {},
   "outputs": [],
   "source": [
    "# Run to convert transformed data back to Numpy\n",
    "#datasets_fft = pd_to_np(datasets_fft, windowed=True)\n",
    "#datasets_psd_log = pd_to_np(datasets_psd_log, windowed=True)"
   ]
  },
  {
   "cell_type": "code",
   "execution_count": null,
   "metadata": {},
   "outputs": [],
   "source": [
    "# Add time and frequency features together\n",
    "datasets_feat = {}\n",
    "\n",
    "for label, dataset in datasets_feat_time.items():\n",
    "    dataset_feat = {}\n",
    "    \n",
    "    for dirn_label, dirn_df in dataset.items():\n",
    "        new_df = dirn_df.join(datasets_feat_freq[label][dirn_label], how='outer')\n",
    "        dataset_feat.update({dirn_label: new_df})\n",
    "    \n",
    "    datasets_feat.update({label: dataset_feat})"
   ]
  },
  {
   "cell_type": "code",
   "execution_count": null,
   "metadata": {},
   "outputs": [],
   "source": [
    "# Confirm formatting\n",
    "datasets_feat[dataset_labels[0]]['Calc X Accel'].head()"
   ]
  },
  {
   "cell_type": "markdown",
   "metadata": {},
   "source": [
    "### Part (a) - Standardization\n",
    "\n",
    "#### Standardize each feature to mean 0 and standard deviation 1. This makes feature selection and classification easier."
   ]
  },
  {
   "cell_type": "code",
   "execution_count": null,
   "metadata": {},
   "outputs": [],
   "source": [
    "'''Normalize already featured datasets'''\n",
    "def normalize_datasets(datasets, windowed=False):\n",
    "    # Normalization function\n",
    "    from sklearn.preprocessing import scale\n",
    "    \n",
    "    datasets_norm = {}\n",
    "    \n",
    "    # Go through windowed data (transforms) or dictionary data (features)\n",
    "    for label, dataset in datasets.items():\n",
    "        if windowed:\n",
    "            dataset_norm = []\n",
    "            for window_df in dataset:\n",
    "                window_df = window_df.dropna()\n",
    "                dataset_norm.append(window_df.apply(scale))\n",
    "        else:\n",
    "            dataset_norm = {}\n",
    "            for dirn_label, dirn_df in dataset.items():\n",
    "                dirn_df = dirn_df.dropna()\n",
    "                dataset_norm.update({dirn_label: dirn_df.apply(sklearn.preprocessing.scale)})\n",
    "        \n",
    "        datasets_norm.update({label: dataset_norm})\n",
    "    \n",
    "    return datasets_norm"
   ]
  },
  {
   "cell_type": "code",
   "execution_count": null,
   "metadata": {
    "scrolled": true
   },
   "outputs": [],
   "source": [
    "# So we can remove infinites\n",
    "pd.set_option('use_inf_as_na', True)\n",
    "\n",
    "datasets_feat_norm = normalize_datasets(datasets_feat)\n",
    "datasets_fft_norm = normalize_datasets(datasets_fft, windowed=True)\n",
    "datasets_psd_norm = normalize_datasets(datasets_psd_log, windowed=True)"
   ]
  },
  {
   "cell_type": "code",
   "execution_count": null,
   "metadata": {},
   "outputs": [],
   "source": [
    "datasets_feat_norm[dataset_labels[0]]['Calc X Accel'].head()"
   ]
  },
  {
   "cell_type": "code",
   "execution_count": null,
   "metadata": {},
   "outputs": [],
   "source": [
    "# Plot normalized features\n",
    "feat_datasets_to_plot = {label: dataset for label, dataset in datasets_feat_norm.items() if 'Synthesis' in label in label and 'Power' not in label and 'Straight' not in label and 'Donut' not in label}\n",
    "plot_set_features(feat_datasets_to_plot, dirn='Calc X Vel', feat_name='Min', placement_name='Middle')"
   ]
  },
  {
   "cell_type": "code",
   "execution_count": null,
   "metadata": {
    "scrolled": false
   },
   "outputs": [],
   "source": [
    "# Plot normalized fft\n",
    "ffts_to_plot = {label: dataset for label, dataset in datasets_fft_norm.items() if 'Synthesis' in label and 'Straight' not in label and 'Donut' not in label}\n",
    "plot_set_transforms(pd_to_np(ffts_to_plot, windowed=True), dirn=1, win_num=0, transform_name='FFT')"
   ]
  },
  {
   "cell_type": "markdown",
   "metadata": {},
   "source": [
    "### Part (b) - Columning Data\n",
    "\n",
    "#### Combine IMU data from each direction into single dataframes with columns for each feature in each direction"
   ]
  },
  {
   "cell_type": "markdown",
   "metadata": {},
   "source": [
    "#### Part (i) - Extracted Featured Data"
   ]
  },
  {
   "cell_type": "code",
   "execution_count": null,
   "metadata": {},
   "outputs": [],
   "source": [
    "'''Append a tag to the end of every column name of a dataframe'''\n",
    "def append_all_columns(columns, append_tag):\n",
    "    new_columns = []\n",
    "    \n",
    "    for column in columns:\n",
    "        new_columns.append(column + ' ' + append_tag)\n",
    "    \n",
    "    return new_columns"
   ]
  },
  {
   "cell_type": "code",
   "execution_count": null,
   "metadata": {},
   "outputs": [],
   "source": [
    "'''Combined directions of a featured dataset'''\n",
    "def combine_columns(datasets):\n",
    "    datasets_combined = {}\n",
    "    \n",
    "    for label, dataset in datasets.items():\n",
    "        # Get labels array of first column\n",
    "        df_combined = pd.DataFrame()\n",
    "        \n",
    "        # Append direction name to feature name and combine everything in one frame\n",
    "        for dirn_label, dirn_df in dataset.items():\n",
    "            df_copy = pd.DataFrame(dirn_df)\n",
    "            \n",
    "            # Add direction and placement tags\n",
    "            df_copy.columns = append_all_columns(dirn_df.columns, dirn_label)\n",
    "            df_copy.columns = append_all_columns(dirn_df.columns, get_placement(label))\n",
    "            \n",
    "            df_combined = df_combined.join(dirn_df, how='outer')\n",
    "        \n",
    "        datasets_combined.update({label: df_combined})\n",
    "    \n",
    "    return datasets_combined"
   ]
  },
  {
   "cell_type": "code",
   "execution_count": null,
   "metadata": {},
   "outputs": [],
   "source": [
    "# Take frame data and combine directions\n",
    "datasets_feat_columned = combine_columns(datasets_feat_norm)\n",
    "\n",
    "# Confirm formatting\n",
    "datasets_feat_columned[dataset_labels[0]].head()"
   ]
  },
  {
   "cell_type": "markdown",
   "metadata": {},
   "source": [
    "#### Part (ii) - Transformed Data"
   ]
  },
  {
   "cell_type": "code",
   "execution_count": null,
   "metadata": {},
   "outputs": [],
   "source": [
    "'''Combined direction columns for transformed data'''\n",
    "def combine_transform_columns(datasets):\n",
    "    combined_datasets = {}\n",
    "    \n",
    "    for label, dataset in datasets.items():\n",
    "        combined_windows = []\n",
    "        \n",
    "        for window in dataset:\n",
    "            window_as_row = pd.DataFrame()\n",
    "            \n",
    "            # Turn each window 2D dataframe into a single row dataframe\n",
    "            for row in window.iterrows():\n",
    "                for data_column in get_columns(label)[:get_n_data_col(label)]:\n",
    "                    combined_column_name = get_transform(label) + ' {} Hz '.format(round(row[1]['Frequency']))\n",
    "                    combined_column_name +=  data_column + ' ' + get_placement(label)\n",
    "                    window_as_row.insert(0, combined_column_name, [row[1][data_column]])\n",
    "            \n",
    "            combined_windows.append(window_as_row)\n",
    "        \n",
    "        # Combine all the single row dataframes into one dataframe\n",
    "        combined_datasets.update({label: pd.concat(combined_windows, ignore_index=True)})\n",
    "    \n",
    "    return combined_datasets"
   ]
  },
  {
   "cell_type": "code",
   "execution_count": null,
   "metadata": {},
   "outputs": [],
   "source": [
    "datasets_fft_columned = combine_transform_columns(datasets_fft)"
   ]
  },
  {
   "cell_type": "code",
   "execution_count": null,
   "metadata": {},
   "outputs": [],
   "source": [
    "datasets_psd_log_columned = combine_transform_columns(datasets_psd_log)"
   ]
  },
  {
   "cell_type": "code",
   "execution_count": null,
   "metadata": {
    "scrolled": true
   },
   "outputs": [],
   "source": [
    "# Check FFT data\n",
    "datasets_fft_columned[dataset_labels[0] + 'FFT']"
   ]
  },
  {
   "cell_type": "code",
   "execution_count": null,
   "metadata": {},
   "outputs": [],
   "source": [
    "# Check PSD data\n",
    "datasets_psd_log_columned[dataset_labels[0] + 'PSDLog']"
   ]
  },
  {
   "cell_type": "markdown",
   "metadata": {},
   "source": [
    "### Part (c) - Adding Labels"
   ]
  },
  {
   "cell_type": "markdown",
   "metadata": {},
   "source": [
    "Create a new column containg the an integer label for each terrain."
   ]
  },
  {
   "cell_type": "code",
   "execution_count": null,
   "metadata": {},
   "outputs": [],
   "source": [
    "'Add labels to a dataset'\n",
    "def insert_labels(datasets):\n",
    "    # Returns new datasets\n",
    "    datasets_copy = {}\n",
    "    \n",
    "    # Add to each dataframe of a dataset\n",
    "    for label, dataset in datasets.items():\n",
    "        terrain_num = get_terrain_num(label)\n",
    "        labels = [terrain_num for _ in range(len(dataset))]\n",
    "        \n",
    "        dataset_copy = dataset.copy()\n",
    "        dataset_copy.insert(0, 'Label', labels)\n",
    "        \n",
    "        datasets_copy.update({label: dataset_copy})\n",
    "    \n",
    "    return datasets_copy"
   ]
  },
  {
   "cell_type": "code",
   "execution_count": null,
   "metadata": {},
   "outputs": [],
   "source": [
    "# Add labels\n",
    "datasets_feat_columned = insert_labels(datasets_feat_columned)\n",
    "datasets_fft_columned = insert_labels(datasets_fft_columned)\n",
    "datasets_psd_log_columned = insert_labels(datasets_psd_log_columned)"
   ]
  },
  {
   "cell_type": "code",
   "execution_count": null,
   "metadata": {},
   "outputs": [],
   "source": [
    "# Check labelled feature data\n",
    "datasets_feat_columned[dataset_labels[0]].head()"
   ]
  },
  {
   "cell_type": "code",
   "execution_count": null,
   "metadata": {},
   "outputs": [],
   "source": [
    "# Check labelled FFT data\n",
    "datasets_fft_columned[dataset_labels[0] + 'FFT'].head()"
   ]
  },
  {
   "cell_type": "markdown",
   "metadata": {},
   "source": [
    "### Part (d) - Combining Datasets"
   ]
  },
  {
   "cell_type": "markdown",
   "metadata": {},
   "source": [
    "Combine data from every dataset into rows in a single dataframe"
   ]
  },
  {
   "cell_type": "code",
   "execution_count": null,
   "metadata": {},
   "outputs": [],
   "source": [
    "'''Combine data from labelled datasets into a single dataframe'''\n",
    "def combine_datasets(datasets):\n",
    "    return pd.concat(list(datasets.values()), ignore_index=True)"
   ]
  },
  {
   "cell_type": "code",
   "execution_count": null,
   "metadata": {},
   "outputs": [],
   "source": [
    "# Combine all data individually\n",
    "# TODO: Combine each mounting source of a single dataset into a single dataframe so we can select across all\n",
    "def separate_and_combine(datasets_columned, csv_tag):\n",
    "    datasets_separated = {}\n",
    "    \n",
    "    # Separate according to mounting location\n",
    "    for placement in placements:\n",
    "        datasets = {label: dataset for label, dataset in datasets_columned.items() if placement in label}\n",
    "        \n",
    "        # Update if not empty\n",
    "        if bool(datasets): \n",
    "            datasets_separated.update({placement: datasets})\n",
    "    \n",
    "    # Combine each mounting into a single combined dataframe and drop NaN values, export to csv\n",
    "    for placement, datasets in datasets_separated.items():\n",
    "        # NaN values usually come from cutoff range of Z gyro, so drop the column\n",
    "        datasets_separated.update({placement: combine_datasets(datasets).dropna(axis='columns')})\n",
    "        \n",
    "        # Export to a csv file\n",
    "        csv_filename = 'processed_data/' + placement + '_' + csv_tag + '.csv'\n",
    "        datasets_separated[placement].to_csv(csv_filename, index=False)\n",
    "                        \n",
    "    # Return dictionary of each mounting location\n",
    "    return datasets_separated"
   ]
  },
  {
   "cell_type": "code",
   "execution_count": null,
   "metadata": {},
   "outputs": [],
   "source": [
    "# Convert features\n",
    "feat_combined = separate_and_combine(datasets_feat_columned, csv_tag='Features_Filt_Keenan')\n",
    "\n",
    "feat_combined['Synthesis'].tail()"
   ]
  },
  {
   "cell_type": "code",
   "execution_count": null,
   "metadata": {},
   "outputs": [],
   "source": [
    "# Convert features\n",
    "fft_combined = separate_and_combine(datasets_fft_columned, csv_tag='FFTs_Filt_Keenan')\n",
    "\n",
    "fft_combined['Synthesis'].tail()"
   ]
  },
  {
   "cell_type": "code",
   "execution_count": null,
   "metadata": {},
   "outputs": [],
   "source": [
    "# Convert features\n",
    "psd_log_combined = separate_and_combine(datasets_psd_log_columned, csv_tag='PSDLogs_Filt_Keenan')\n",
    "\n",
    "psd_log_combined['Synthesis'].tail()"
   ]
  },
  {
   "cell_type": "markdown",
   "metadata": {},
   "source": [
    "### Glossary\n",
    "\n",
    "`Dataset` - Batch of data recorded on one terrain type\n",
    "\n",
    "`Data Window` - Split up portion of a `Dataset`\n",
    "\n",
    "`Direction / Axes` - Linear acceleration or gyroscope in $x,y$ or $z$\n",
    "\n",
    "`Feature Vector` - Any feature of the data that can be used to classify terrain, e.g. Z Accel Mean, Y Accel FFT, etc\n",
    "\n",
    "`Extracted Feature Vector` - Features that aren't from transforms, e.g. Z Accel Min, Y Accel Autocorrelation, etc\n",
    "\n",
    "`Placement` - One of three IMU placements on the wheelchair, i.e. Middle, Left, or Right"
   ]
  }
 ],
 "metadata": {
  "kernelspec": {
   "display_name": "Python 3",
   "language": "python",
   "name": "python3"
  },
  "language_info": {
   "codemirror_mode": {
    "name": "ipython",
    "version": 3
   },
   "file_extension": ".py",
   "mimetype": "text/x-python",
   "name": "python",
   "nbconvert_exporter": "python",
   "pygments_lexer": "ipython3",
   "version": "3.6.8"
  }
 },
 "nbformat": 4,
 "nbformat_minor": 2
}
