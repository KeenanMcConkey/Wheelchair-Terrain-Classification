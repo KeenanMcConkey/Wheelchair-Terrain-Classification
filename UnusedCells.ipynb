{
 "cells": [
  {
   "cell_type": "code",
   "execution_count": null,
   "metadata": {
    "collapsed": true
   },
   "outputs": [],
   "source": [
    "'''Join acc and gyro data then export to csv'''\n",
    "def join_export(acc_frame, gyro_frame, export_name):\n",
    "    # Extract only the gyroscope data from the gyro dataframe\n",
    "    # This assumes the time components of each are aligned\n",
    "    join_frame = acc_frame.join(gyro_frame[['GYROSCOPE X (rad/s)', 'GYROSCOPE Y (rad/s)', 'GYROSCOPE Z (rad/s)']])\n",
    "    path = 'imu_data/' + export_name\n",
    "    join_frame.to_csv(path, index=False)"
   ]
  },
  {
   "cell_type": "code",
   "execution_count": null,
   "metadata": {
    "collapsed": true
   },
   "outputs": [],
   "source": [
    "# Run on everything\n",
    "\n",
    "terrains = ['Concrete', 'Carpet', 'Linoleum']\n",
    "locations = ['left', 'right', 'Frame9250']\n",
    "\n",
    "for terrain in terrains:\n",
    "    for location in locations:\n",
    "        if (location == 'Frame9250'):\n",
    "            filename = 'FrameMiddle' + terrain + '.csv'\n",
    "        else:\n",
    "            filename = 'Wheel' + location.capitalize() + terrain + '.csv'\n",
    "        gyro = raw_datasets[location + 'Gyro' + terrain]\n",
    "        acc = raw_datasets[location + 'Acc' + terrain]\n",
    "        join_export(acc, gyro, filename)"
   ]
  },
  {
   "cell_type": "code",
   "execution_count": null,
   "metadata": {
    "collapsed": true
   },
   "outputs": [],
   "source": [
    "# Attempting to calculate the angular velocity of the wheelchair using the rotational velocity of each wheel\n",
    "\n",
    "wheel_radius = 0.60 #m\n",
    "wheel_sep = 0.502 #m\n",
    "\n",
    "raw_datasets['CalculatedLinoleum'] = pd.DataFrame()\n",
    "\n",
    "raw_datasets['calculatedLinoleum']['YYYY-MO-DD HH-MI-SS_SSS'] = raw_datasets['leftGyroLinoleum']['YYYY-MO-DD HH-MI-SS_SSS']\n",
    "raw_datasets['calculatedLinoleum']['GYROSCOPE Z (rad/s)'] = raw_datasets['leftGyroLinoleum']['GYROSCOPE Z (rad/s)'] - raw_datasets['rightGyroLinoleum']['GYROSCOPE Z (rad/s)'] \n",
    "raw_datasets['calculatedLinoleum']['GYROSCOPE Z (rad/s)'] = raw_datasets['calculatedLinoleum']['GYROSCOPE Z (rad/s)'].apply(lambda x: x*(wheel_radius/wheel_sep))\n",
    "\n",
    "label_compare('calculatedLinoleum', 'Frame9250GyroLinoleum', 'GYROSCOPE Z (rad/s)')"
   ]
  }
 ],
 "metadata": {
  "kernelspec": {
   "display_name": "Python 3",
   "language": "python",
   "name": "python3"
  },
  "language_info": {
   "codemirror_mode": {
    "name": "ipython",
    "version": 3
   },
   "file_extension": ".py",
   "mimetype": "text/x-python",
   "name": "python",
   "nbconvert_exporter": "python",
   "pygments_lexer": "ipython3",
   "version": "3.4.5"
  }
 },
 "nbformat": 4,
 "nbformat_minor": 2
}
