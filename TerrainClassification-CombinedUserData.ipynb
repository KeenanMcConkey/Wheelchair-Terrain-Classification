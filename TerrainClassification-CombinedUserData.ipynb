{
 "cells": [
  {
   "cell_type": "markdown",
   "metadata": {},
   "source": [
    "# Terrain Classification - Combined User Data\n",
    "### Created by Keenan McConkey 2019.08.01"
   ]
  },
  {
   "cell_type": "code",
   "execution_count": 1,
   "metadata": {},
   "outputs": [],
   "source": [
    "from __future__ import absolute_import, division, print_function\n",
    "\n",
    "import pandas as pd\n",
    "import numpy as np\n",
    "import matplotlib.pyplot as plt\n",
    "\n",
    "import pymrmr\n",
    "import sklearn"
   ]
  },
  {
   "cell_type": "markdown",
   "metadata": {},
   "source": [
    "## Part 1 - Importing Preprocessed Data"
   ]
  },
  {
   "cell_type": "markdown",
   "metadata": {},
   "source": [
    "### Part (a) - Functions for Data Import"
   ]
  },
  {
   "cell_type": "code",
   "execution_count": 28,
   "metadata": {},
   "outputs": [],
   "source": [
    "# All the terrains, placements, vectors, power-assistance, users in the study\n",
    "terrains = ['Concrete', 'Carpet', 'Linoleum', 'Asphalt', 'Sidewalk', 'Grass', 'Gravel']\n",
    "powers = ['Manual'] # TODO: Fix power PSD data and add back in\n",
    "placements_manual = ['Middle', 'Left', 'Right', 'Synthesis']\n",
    "placements_power = ['Middle']\n",
    "vectors = ['TimeFeats', 'FreqFeats', 'FFTs', 'PSDLogs']\n",
    "users = ['All']\n",
    "axes = ['X Accel', 'Y Accel', 'Z Accel', 'X Gyro', 'Y Gyro', 'Z Gyro']"
   ]
  },
  {
   "cell_type": "code",
   "execution_count": 3,
   "metadata": {},
   "outputs": [],
   "source": [
    "'''Get the integer terrain value of a given label'''\n",
    "def get_terrain_num(_label):\n",
    "    for i, terrain in enumerate(terrains):\n",
    "        if terrain in _label:\n",
    "            return i\n",
    "        \n",
    "    raise Exception('Unknown terrain')\n",
    "\n",
    "'''Get the name associated with a terrain integer'''\n",
    "def get_terrain_name(terrain_num):\n",
    "    return terrains[terrain_num]\n",
    "    return terrains[terrain_num]\n",
    "\n",
    "'''Get the placement location name for given label'''\n",
    "def get_placement(_label):\n",
    "    for placement in placements:\n",
    "        if placement in _label:\n",
    "            return placement\n",
    "    \n",
    "    raise Exception('Unknown placement')\n",
    "\n",
    "'''Get the transform used for given label'''\n",
    "def get_transform(_label):\n",
    "    for transform in transforms:\n",
    "        if transform in _label:\n",
    "            return transform\n",
    "    \n",
    "    raise Exception('Unknown transform')"
   ]
  },
  {
   "cell_type": "markdown",
   "metadata": {},
   "source": [
    "### Part (b) - Import Processed Data from Each User"
   ]
  },
  {
   "cell_type": "code",
   "execution_count": 4,
   "metadata": {},
   "outputs": [],
   "source": [
    "'''Combine data from labelled datasets into a single dataframe'''\n",
    "def combine_datasets(datasets):\n",
    "    return pd.concat(list(datasets.values()), ignore_index=True, sort=False)"
   ]
  },
  {
   "cell_type": "code",
   "execution_count": 5,
   "metadata": {},
   "outputs": [],
   "source": [
    "path = 'processed_data/new_setup/new_columning/' \n",
    "\n",
    "# Nested dictionary of processed data:\n",
    "# - Power assistance type\n",
    "# -- Placement\n",
    "# --- Feature Vector\n",
    "# ---- User\n",
    "power_dict = {}\n",
    "\n",
    "# Create each nesting of the dictionary\n",
    "for power in powers:\n",
    "    placement_dict = {}\n",
    "    \n",
    "    # Power datasets only have middle placement (for now)\n",
    "    if power == 'Power':\n",
    "        placements = placements_power.copy()\n",
    "    else:\n",
    "        placements = placements_manual.copy()\n",
    "    \n",
    "    for placement in placements:\n",
    "        vector_dict = {}\n",
    "\n",
    "        for vector in vectors:\n",
    "            user_dict = {}\n",
    "\n",
    "            for user in users:\n",
    "                # File name based on above parameters\n",
    "                filename = power.lower() + '/' + placement + '_' + vector + '_' + user \n",
    "                if power == 'Power':\n",
    "                    filename += '_Power'\n",
    "                filename += '.csv'\n",
    "                \n",
    "                # Read data and update current user dictionary\n",
    "                data = pd.read_csv(path + filename)\n",
    "                user_dict.update({user: data})\n",
    "\n",
    "            # Combine users to form a new entry of user dictionary, save to .csv\n",
    "            # NaNs arise when you combine Synthesis feature vectors\n",
    "            #combined_data = combine_datasets(user_dict).dropna(axis='columns')\n",
    "            #user_dict.update({'All': combined_data})\n",
    "\n",
    "            vector_dict.update({vector: user_dict})\n",
    "        \n",
    "        # Create a dictionary of the combined feature vector for each user\n",
    "        combined_vector_user_dict = {}\n",
    "        \n",
    "        for user in user_dict.keys():\n",
    "            # Get all vectors for current user and pop label column\n",
    "            user_all_vectors = []\n",
    "            \n",
    "            for vector in vector_dict.values():\n",
    "                user_vector = vector[user].copy()\n",
    "                labels = user_vector.pop('Label') # All label columns should be the same\n",
    "                user_all_vectors.append(user_vector)\n",
    "            \n",
    "            # Combine vectors and add back label column\n",
    "            combined_vector = pd.concat(user_all_vectors, axis='columns')\n",
    "            combined_vector.insert(loc=0, column='Label', value=labels)\n",
    "            combined_vector_user_dict.update({user: combined_vector})\n",
    "        \n",
    "        # Add the combined feature vector to the vector dictionary\n",
    "        vector_dict.update({'Combined': combined_vector_user_dict})\n",
    "        \n",
    "        placement_dict.update({placement: vector_dict})\n",
    "    \n",
    "    power_dict.update({power: placement_dict})"
   ]
  },
  {
   "cell_type": "code",
   "execution_count": 29,
   "metadata": {},
   "outputs": [],
   "source": [
    "# Update vectors to reflect new combined vector\n",
    "vectors.append('Combined')"
   ]
  },
  {
   "cell_type": "code",
   "execution_count": 7,
   "metadata": {},
   "outputs": [
    {
     "data": {
      "text/html": [
       "<div>\n",
       "<style scoped>\n",
       "    .dataframe tbody tr th:only-of-type {\n",
       "        vertical-align: middle;\n",
       "    }\n",
       "\n",
       "    .dataframe tbody tr th {\n",
       "        vertical-align: top;\n",
       "    }\n",
       "\n",
       "    .dataframe thead th {\n",
       "        text-align: right;\n",
       "    }\n",
       "</style>\n",
       "<table border=\"1\" class=\"dataframe\">\n",
       "  <thead>\n",
       "    <tr style=\"text-align: right;\">\n",
       "      <th></th>\n",
       "      <th>Label</th>\n",
       "      <th>Mean X Accel Middle</th>\n",
       "      <th>Std X Accel Middle</th>\n",
       "      <th>Norm X Accel Middle</th>\n",
       "      <th>AC X Accel Middle</th>\n",
       "      <th>Max X Accel Middle</th>\n",
       "      <th>Min X Accel Middle</th>\n",
       "      <th>RMS X Accel Middle</th>\n",
       "      <th>ZCR X Accel Middle</th>\n",
       "      <th>Skew X Accel Middle</th>\n",
       "      <th>...</th>\n",
       "      <th>PSDLog 50 Hz Z Gyro Middle</th>\n",
       "      <th>PSDLog 51 Hz Z Gyro Middle</th>\n",
       "      <th>PSDLog 52 Hz Z Gyro Middle</th>\n",
       "      <th>PSDLog 53 Hz Z Gyro Middle</th>\n",
       "      <th>PSDLog 54 Hz Z Gyro Middle</th>\n",
       "      <th>PSDLog 55 Hz Z Gyro Middle</th>\n",
       "      <th>PSDLog 56 Hz Z Gyro Middle</th>\n",
       "      <th>PSDLog 57 Hz Z Gyro Middle</th>\n",
       "      <th>PSDLog 58 Hz Z Gyro Middle</th>\n",
       "      <th>PSDLog 59 Hz Z Gyro Middle</th>\n",
       "    </tr>\n",
       "  </thead>\n",
       "  <tbody>\n",
       "    <tr>\n",
       "      <th>16065</th>\n",
       "      <td>4</td>\n",
       "      <td>-2.993490</td>\n",
       "      <td>0.058487</td>\n",
       "      <td>0.409874</td>\n",
       "      <td>0.094989</td>\n",
       "      <td>-0.334863</td>\n",
       "      <td>-0.373391</td>\n",
       "      <td>0.409337</td>\n",
       "      <td>0.086221</td>\n",
       "      <td>0.142740</td>\n",
       "      <td>...</td>\n",
       "      <td>0.675446</td>\n",
       "      <td>0.980595</td>\n",
       "      <td>1.012408</td>\n",
       "      <td>0.896429</td>\n",
       "      <td>1.043201</td>\n",
       "      <td>0.868404</td>\n",
       "      <td>1.153671</td>\n",
       "      <td>1.019332</td>\n",
       "      <td>1.010432</td>\n",
       "      <td>0.885506</td>\n",
       "    </tr>\n",
       "    <tr>\n",
       "      <th>16066</th>\n",
       "      <td>4</td>\n",
       "      <td>-5.150751</td>\n",
       "      <td>-0.420820</td>\n",
       "      <td>0.824175</td>\n",
       "      <td>0.433643</td>\n",
       "      <td>-0.860113</td>\n",
       "      <td>-0.373391</td>\n",
       "      <td>0.823611</td>\n",
       "      <td>-1.417281</td>\n",
       "      <td>-0.250344</td>\n",
       "      <td>...</td>\n",
       "      <td>1.898609</td>\n",
       "      <td>1.801497</td>\n",
       "      <td>1.839670</td>\n",
       "      <td>1.786389</td>\n",
       "      <td>1.775234</td>\n",
       "      <td>1.902943</td>\n",
       "      <td>1.784176</td>\n",
       "      <td>1.816177</td>\n",
       "      <td>1.817222</td>\n",
       "      <td>1.786705</td>\n",
       "    </tr>\n",
       "    <tr>\n",
       "      <th>16067</th>\n",
       "      <td>4</td>\n",
       "      <td>-2.704405</td>\n",
       "      <td>-0.045126</td>\n",
       "      <td>0.249784</td>\n",
       "      <td>-0.019371</td>\n",
       "      <td>-0.793978</td>\n",
       "      <td>-0.047606</td>\n",
       "      <td>0.249256</td>\n",
       "      <td>-0.414946</td>\n",
       "      <td>-0.222345</td>\n",
       "      <td>...</td>\n",
       "      <td>0.912860</td>\n",
       "      <td>0.935080</td>\n",
       "      <td>1.081082</td>\n",
       "      <td>1.002101</td>\n",
       "      <td>0.969530</td>\n",
       "      <td>1.040619</td>\n",
       "      <td>1.045307</td>\n",
       "      <td>1.018618</td>\n",
       "      <td>0.919208</td>\n",
       "      <td>0.989472</td>\n",
       "    </tr>\n",
       "    <tr>\n",
       "      <th>16068</th>\n",
       "      <td>4</td>\n",
       "      <td>2.020397</td>\n",
       "      <td>-0.459843</td>\n",
       "      <td>-0.191738</td>\n",
       "      <td>-0.287109</td>\n",
       "      <td>-0.497873</td>\n",
       "      <td>0.697808</td>\n",
       "      <td>-0.192238</td>\n",
       "      <td>-0.359261</td>\n",
       "      <td>-0.638358</td>\n",
       "      <td>...</td>\n",
       "      <td>1.552285</td>\n",
       "      <td>1.499390</td>\n",
       "      <td>1.544513</td>\n",
       "      <td>1.482069</td>\n",
       "      <td>1.469938</td>\n",
       "      <td>1.493814</td>\n",
       "      <td>1.545534</td>\n",
       "      <td>1.521183</td>\n",
       "      <td>1.503133</td>\n",
       "      <td>1.538029</td>\n",
       "    </tr>\n",
       "    <tr>\n",
       "      <th>16069</th>\n",
       "      <td>4</td>\n",
       "      <td>2.414125</td>\n",
       "      <td>0.033483</td>\n",
       "      <td>0.312220</td>\n",
       "      <td>0.024136</td>\n",
       "      <td>-0.173717</td>\n",
       "      <td>0.378144</td>\n",
       "      <td>0.311688</td>\n",
       "      <td>-0.971799</td>\n",
       "      <td>-0.985338</td>\n",
       "      <td>...</td>\n",
       "      <td>1.394192</td>\n",
       "      <td>1.466845</td>\n",
       "      <td>1.494007</td>\n",
       "      <td>1.416393</td>\n",
       "      <td>1.453440</td>\n",
       "      <td>1.400857</td>\n",
       "      <td>1.398331</td>\n",
       "      <td>1.511435</td>\n",
       "      <td>1.459463</td>\n",
       "      <td>1.516934</td>\n",
       "    </tr>\n",
       "  </tbody>\n",
       "</table>\n",
       "<p>5 rows × 811 columns</p>\n",
       "</div>"
      ],
      "text/plain": [
       "       Label  Mean X Accel Middle  Std X Accel Middle  Norm X Accel Middle  \\\n",
       "16065      4            -2.993490            0.058487             0.409874   \n",
       "16066      4            -5.150751           -0.420820             0.824175   \n",
       "16067      4            -2.704405           -0.045126             0.249784   \n",
       "16068      4             2.020397           -0.459843            -0.191738   \n",
       "16069      4             2.414125            0.033483             0.312220   \n",
       "\n",
       "       AC X Accel Middle  Max X Accel Middle  Min X Accel Middle  \\\n",
       "16065           0.094989           -0.334863           -0.373391   \n",
       "16066           0.433643           -0.860113           -0.373391   \n",
       "16067          -0.019371           -0.793978           -0.047606   \n",
       "16068          -0.287109           -0.497873            0.697808   \n",
       "16069           0.024136           -0.173717            0.378144   \n",
       "\n",
       "       RMS X Accel Middle  ZCR X Accel Middle  Skew X Accel Middle  ...  \\\n",
       "16065            0.409337            0.086221             0.142740  ...   \n",
       "16066            0.823611           -1.417281            -0.250344  ...   \n",
       "16067            0.249256           -0.414946            -0.222345  ...   \n",
       "16068           -0.192238           -0.359261            -0.638358  ...   \n",
       "16069            0.311688           -0.971799            -0.985338  ...   \n",
       "\n",
       "       PSDLog 50 Hz Z Gyro Middle  PSDLog 51 Hz Z Gyro Middle  \\\n",
       "16065                    0.675446                    0.980595   \n",
       "16066                    1.898609                    1.801497   \n",
       "16067                    0.912860                    0.935080   \n",
       "16068                    1.552285                    1.499390   \n",
       "16069                    1.394192                    1.466845   \n",
       "\n",
       "       PSDLog 52 Hz Z Gyro Middle  PSDLog 53 Hz Z Gyro Middle  \\\n",
       "16065                    1.012408                    0.896429   \n",
       "16066                    1.839670                    1.786389   \n",
       "16067                    1.081082                    1.002101   \n",
       "16068                    1.544513                    1.482069   \n",
       "16069                    1.494007                    1.416393   \n",
       "\n",
       "       PSDLog 54 Hz Z Gyro Middle  PSDLog 55 Hz Z Gyro Middle  \\\n",
       "16065                    1.043201                    0.868404   \n",
       "16066                    1.775234                    1.902943   \n",
       "16067                    0.969530                    1.040619   \n",
       "16068                    1.469938                    1.493814   \n",
       "16069                    1.453440                    1.400857   \n",
       "\n",
       "       PSDLog 56 Hz Z Gyro Middle  PSDLog 57 Hz Z Gyro Middle  \\\n",
       "16065                    1.153671                    1.019332   \n",
       "16066                    1.784176                    1.816177   \n",
       "16067                    1.045307                    1.018618   \n",
       "16068                    1.545534                    1.521183   \n",
       "16069                    1.398331                    1.511435   \n",
       "\n",
       "       PSDLog 58 Hz Z Gyro Middle  PSDLog 59 Hz Z Gyro Middle  \n",
       "16065                    1.010432                    0.885506  \n",
       "16066                    1.817222                    1.786705  \n",
       "16067                    0.919208                    0.989472  \n",
       "16068                    1.503133                    1.538029  \n",
       "16069                    1.459463                    1.516934  \n",
       "\n",
       "[5 rows x 811 columns]"
      ]
     },
     "execution_count": 7,
     "metadata": {},
     "output_type": "execute_result"
    }
   ],
   "source": [
    "# Check some data\n",
    "power_dict['Manual']['Middle']['Combined']['All'].tail()"
   ]
  },
  {
   "cell_type": "markdown",
   "metadata": {},
   "source": [
    "## Part 2 -  mRMR (minimum Redunancy Maximum Relevance)\n",
    "\n",
    "mRMR tries to find which features have the highest information shared with classified state and lowest information shared with other features."
   ]
  },
  {
   "cell_type": "markdown",
   "metadata": {},
   "source": [
    "### Part (a) - Middle Frame Placement"
   ]
  },
  {
   "cell_type": "markdown",
   "metadata": {},
   "source": [
    "#### Part (i) - Manual Wheelchair"
   ]
  },
  {
   "cell_type": "code",
   "execution_count": 8,
   "metadata": {
    "scrolled": true
   },
   "outputs": [
    {
     "data": {
      "text/plain": [
       "['ZCR Y Gyro Middle',\n",
       " 'ZCR Y Accel Middle',\n",
       " 'ZCR Z Accel Middle',\n",
       " 'ZCR X Accel Middle',\n",
       " 'Std Y Accel Middle']"
      ]
     },
     "execution_count": 8,
     "metadata": {},
     "output_type": "execute_result"
    }
   ],
   "source": [
    "pymrmr.mRMR(data=power_dict['Manual']['Middle']['TimeFeats']['All'], method='MID', nfeats=5)"
   ]
  },
  {
   "cell_type": "code",
   "execution_count": 9,
   "metadata": {
    "scrolled": true
   },
   "outputs": [
    {
     "data": {
      "text/plain": [
       "['FC Y Gyro Middle',\n",
       " 'FC Y Accel Middle',\n",
       " 'VF Z Accel Middle',\n",
       " 'FC X Gyro Middle',\n",
       " 'VF Y Gyro Middle']"
      ]
     },
     "execution_count": 9,
     "metadata": {},
     "output_type": "execute_result"
    }
   ],
   "source": [
    "pymrmr.mRMR(data=power_dict['Manual']['Middle']['FreqFeats']['All'], method='MID', nfeats=5)"
   ]
  },
  {
   "cell_type": "code",
   "execution_count": 10,
   "metadata": {},
   "outputs": [
    {
     "data": {
      "text/plain": [
       "['FFT 14 Hz Y Accel Middle',\n",
       " 'FFT 1 Hz Y Gyro Middle',\n",
       " 'FFT 2 Hz X Gyro Middle',\n",
       " 'FFT 17 Hz Z Accel Middle',\n",
       " 'FFT 21 Hz Y Accel Middle']"
      ]
     },
     "execution_count": 10,
     "metadata": {},
     "output_type": "execute_result"
    }
   ],
   "source": [
    "pymrmr.mRMR(data=power_dict['Manual']['Middle']['FFTs']['All'], method='MID', nfeats=5)"
   ]
  },
  {
   "cell_type": "code",
   "execution_count": 11,
   "metadata": {},
   "outputs": [
    {
     "data": {
      "text/plain": [
       "['PSDLog 33 Hz Y Gyro Middle',\n",
       " 'PSDLog 0 Hz Y Gyro Middle',\n",
       " 'PSDLog 56 Hz Y Accel Middle',\n",
       " 'PSDLog 1 Hz X Gyro Middle',\n",
       " 'PSDLog 59 Hz Y Accel Middle']"
      ]
     },
     "execution_count": 11,
     "metadata": {},
     "output_type": "execute_result"
    }
   ],
   "source": [
    "pymrmr.mRMR(data=power_dict['Manual']['Middle']['PSDLogs']['All'], method='MID', nfeats=5)"
   ]
  },
  {
   "cell_type": "code",
   "execution_count": 12,
   "metadata": {},
   "outputs": [
    {
     "data": {
      "text/plain": [
       "['FC Y Gyro Middle',\n",
       " 'PSDLog 12 Hz Z Accel Middle',\n",
       " 'VF X Gyro Middle',\n",
       " 'ZCR Z Accel Middle',\n",
       " 'ZCR Y Accel Middle']"
      ]
     },
     "execution_count": 12,
     "metadata": {},
     "output_type": "execute_result"
    }
   ],
   "source": [
    "pymrmr.mRMR(data=power_dict['Manual']['Middle']['Combined']['All'], method='MID', nfeats=5)"
   ]
  },
  {
   "cell_type": "markdown",
   "metadata": {},
   "source": [
    "#### Part (i) - Power Assist Wheelchair"
   ]
  },
  {
   "cell_type": "code",
   "execution_count": 13,
   "metadata": {
    "scrolled": true
   },
   "outputs": [],
   "source": [
    "#pymrmr.mRMR(data=power_dict['Power']['Middle']['Features']['All'], method='MID', nfeats=5)"
   ]
  },
  {
   "cell_type": "code",
   "execution_count": 14,
   "metadata": {},
   "outputs": [],
   "source": [
    "#pymrmr.mRMR(data=power_dict['Power']['Middle']['FFTs']['All'], method='MID', nfeats=5)"
   ]
  },
  {
   "cell_type": "code",
   "execution_count": 15,
   "metadata": {},
   "outputs": [],
   "source": [
    "#pymrmr.mRMR(data=power_dict['Power']['Middle']['PSDLogs']['All'], method='MID', nfeats=5)"
   ]
  },
  {
   "cell_type": "code",
   "execution_count": 16,
   "metadata": {},
   "outputs": [],
   "source": [
    "#pymrmr.mRMR(data=power_dict['Power']['Middle']['Combined']['All'], method='MID', nfeats=5)"
   ]
  },
  {
   "cell_type": "markdown",
   "metadata": {},
   "source": [
    "### Part (b) - Left Wheel Placement"
   ]
  },
  {
   "cell_type": "code",
   "execution_count": 17,
   "metadata": {
    "scrolled": false
   },
   "outputs": [
    {
     "data": {
      "text/plain": [
       "['Std Z Accel Left',\n",
       " 'ZCR Z Accel Left',\n",
       " 'Min Z Gyro Left',\n",
       " 'ZCR Y Accel Left',\n",
       " 'ZCR Y Gyro Left']"
      ]
     },
     "execution_count": 17,
     "metadata": {},
     "output_type": "execute_result"
    }
   ],
   "source": [
    "pymrmr.mRMR(data=power_dict['Manual']['Left']['TimeFeats']['All'], method='MID', nfeats=5)"
   ]
  },
  {
   "cell_type": "code",
   "execution_count": 18,
   "metadata": {
    "scrolled": false
   },
   "outputs": [
    {
     "data": {
      "text/plain": [
       "['FC Z Accel Left',\n",
       " 'RVF Y Accel Left',\n",
       " 'FC X Accel Left',\n",
       " 'FC Y Accel Left',\n",
       " 'RVF Z Accel Left']"
      ]
     },
     "execution_count": 18,
     "metadata": {},
     "output_type": "execute_result"
    }
   ],
   "source": [
    "pymrmr.mRMR(data=power_dict['Manual']['Left']['FreqFeats']['All'], method='MID', nfeats=5)"
   ]
  },
  {
   "cell_type": "code",
   "execution_count": 19,
   "metadata": {},
   "outputs": [
    {
     "data": {
      "text/plain": [
       "['FFT 20 Hz Z Accel Left',\n",
       " 'FFT 43 Hz Z Accel Left',\n",
       " 'FFT 14 Hz Z Accel Left',\n",
       " 'FFT 63 Hz Z Accel Left',\n",
       " 'FFT 38 Hz Z Accel Left']"
      ]
     },
     "execution_count": 19,
     "metadata": {},
     "output_type": "execute_result"
    }
   ],
   "source": [
    "pymrmr.mRMR(data=power_dict['Manual']['Left']['FFTs']['All'], method='MID', nfeats=5)"
   ]
  },
  {
   "cell_type": "code",
   "execution_count": 20,
   "metadata": {},
   "outputs": [
    {
     "data": {
      "text/plain": [
       "['PSDLog 27 Hz Z Accel Left',\n",
       " 'PSDLog 62 Hz Z Accel Left',\n",
       " 'PSDLog 17 Hz Z Accel Left',\n",
       " 'PSDLog 40 Hz Z Accel Left',\n",
       " 'PSDLog 48 Hz X Accel Left']"
      ]
     },
     "execution_count": 20,
     "metadata": {},
     "output_type": "execute_result"
    }
   ],
   "source": [
    "pymrmr.mRMR(data=power_dict['Manual']['Left']['PSDLogs']['All'], method='MID', nfeats=5)"
   ]
  },
  {
   "cell_type": "code",
   "execution_count": 21,
   "metadata": {},
   "outputs": [
    {
     "data": {
      "text/plain": [
       "['PSDLog 27 Hz Z Accel Left',\n",
       " 'FC Z Accel Left',\n",
       " 'PSDLog 17 Hz Z Accel Left',\n",
       " 'PSDLog 63 Hz Z Accel Left',\n",
       " 'PSDLog 48 Hz X Accel Left']"
      ]
     },
     "execution_count": 21,
     "metadata": {},
     "output_type": "execute_result"
    }
   ],
   "source": [
    "pymrmr.mRMR(data=power_dict['Manual']['Left']['Combined']['All'], method='MID', nfeats=5)"
   ]
  },
  {
   "cell_type": "markdown",
   "metadata": {},
   "source": [
    "### Part (c) - Right Wheel Placement"
   ]
  },
  {
   "cell_type": "code",
   "execution_count": 22,
   "metadata": {
    "scrolled": false
   },
   "outputs": [
    {
     "data": {
      "text/plain": [
       "['ZCR Z Accel Right',\n",
       " 'RMS Z Accel Right',\n",
       " 'Max Z Gyro Right',\n",
       " 'ZCR Y Gyro Right',\n",
       " 'Max Z Accel Right']"
      ]
     },
     "execution_count": 22,
     "metadata": {},
     "output_type": "execute_result"
    }
   ],
   "source": [
    "pymrmr.mRMR(data=power_dict['Manual']['Right']['TimeFeats']['All'], method='MID', nfeats=5)"
   ]
  },
  {
   "cell_type": "code",
   "execution_count": 23,
   "metadata": {
    "scrolled": false
   },
   "outputs": [
    {
     "data": {
      "text/plain": [
       "['VF Z Accel Right',\n",
       " 'RVF X Accel Right',\n",
       " 'FC Y Accel Right',\n",
       " 'RVF Z Accel Right',\n",
       " 'FC X Accel Right']"
      ]
     },
     "execution_count": 23,
     "metadata": {},
     "output_type": "execute_result"
    }
   ],
   "source": [
    "pymrmr.mRMR(data=power_dict['Manual']['Right']['FreqFeats']['All'], method='MID', nfeats=5)"
   ]
  },
  {
   "cell_type": "code",
   "execution_count": 24,
   "metadata": {},
   "outputs": [
    {
     "data": {
      "text/plain": [
       "['FFT 24 Hz Z Accel Right',\n",
       " 'FFT 63 Hz Z Accel Right',\n",
       " 'FFT 18 Hz Z Accel Right',\n",
       " 'FFT 14 Hz Z Accel Right',\n",
       " 'FFT 53 Hz Z Accel Right']"
      ]
     },
     "execution_count": 24,
     "metadata": {},
     "output_type": "execute_result"
    }
   ],
   "source": [
    "pymrmr.mRMR(data=power_dict['Manual']['Right']['FFTs']['All'], method='MID', nfeats=5)"
   ]
  },
  {
   "cell_type": "code",
   "execution_count": 25,
   "metadata": {},
   "outputs": [
    {
     "data": {
      "text/plain": [
       "['PSDLog 62 Hz Z Accel Right',\n",
       " 'PSDLog 15 Hz Z Accel Right',\n",
       " 'PSDLog 55 Hz Z Accel Right',\n",
       " 'PSDLog 25 Hz Z Accel Right',\n",
       " 'PSDLog 63 Hz Z Accel Right']"
      ]
     },
     "execution_count": 25,
     "metadata": {},
     "output_type": "execute_result"
    }
   ],
   "source": [
    "pymrmr.mRMR(data=power_dict['Manual']['Right']['PSDLogs']['All'], method='MID', nfeats=5)"
   ]
  },
  {
   "cell_type": "code",
   "execution_count": 30,
   "metadata": {},
   "outputs": [
    {
     "data": {
      "text/plain": [
       "['ZCR Z Accel Right',\n",
       " 'PSDLog 16 Hz Z Accel Right',\n",
       " 'VF Z Accel Right',\n",
       " 'PSDLog 26 Hz Z Accel Right',\n",
       " 'PSDLog 62 Hz Z Accel Right']"
      ]
     },
     "execution_count": 30,
     "metadata": {},
     "output_type": "execute_result"
    }
   ],
   "source": [
    "pymrmr.mRMR(data=power_dict['Manual']['Right']['Combined']['All'], method='MID', nfeats=5)"
   ]
  },
  {
   "cell_type": "markdown",
   "metadata": {},
   "source": [
    "### Part (d) - Synthesis \"Placement\""
   ]
  },
  {
   "cell_type": "code",
   "execution_count": 31,
   "metadata": {
    "scrolled": false
   },
   "outputs": [],
   "source": [
    "#pymrmr.mRMR(data=power_dict['Manual']['Synthesis']['TimeFeats']['All'], method='MID', nfeats=5)"
   ]
  },
  {
   "cell_type": "code",
   "execution_count": 32,
   "metadata": {
    "scrolled": false
   },
   "outputs": [],
   "source": [
    "#pymrmr.mRMR(data=power_dict['Manual']['Synthesis']['FreqFeats']['All'], method='MID', nfeats=5)"
   ]
  },
  {
   "cell_type": "code",
   "execution_count": 33,
   "metadata": {},
   "outputs": [],
   "source": [
    "#pymrmr.mRMR(data=power_dict['Manual']['Synthesis']['FFTs']['All'], method='MID', nfeats=5)"
   ]
  },
  {
   "cell_type": "code",
   "execution_count": 34,
   "metadata": {},
   "outputs": [],
   "source": [
    "#pymrmr.mRMR(data=power_dict['Manual']['Synthesis']['PSDLogs']['All'], method='MID', nfeats=5)"
   ]
  },
  {
   "cell_type": "code",
   "execution_count": 35,
   "metadata": {},
   "outputs": [],
   "source": [
    "#pymrmr.mRMR(data=power_dict['Manual']['Synthesis']['Combined']['All'], method='MID', nfeats=5)"
   ]
  },
  {
   "cell_type": "markdown",
   "metadata": {},
   "source": [
    "### Part (e) - Nested Dictionary of Top Features"
   ]
  },
  {
   "cell_type": "code",
   "execution_count": 36,
   "metadata": {},
   "outputs": [
    {
     "ename": "ValueError",
     "evalue": "cannot convert float NaN to integer",
     "output_type": "error",
     "traceback": [
      "\u001b[0;31m---------------------------------------------------------------------------\u001b[0m",
      "\u001b[0;31mValueError\u001b[0m                                Traceback (most recent call last)",
      "\u001b[0;32m<ipython-input-36-3975b0821ec4>\u001b[0m in \u001b[0;36m<module>\u001b[0;34m\u001b[0m\n\u001b[1;32m     14\u001b[0m             \u001b[0;32mfor\u001b[0m \u001b[0muser\u001b[0m \u001b[0;32min\u001b[0m \u001b[0;34m[\u001b[0m\u001b[0;34m'All'\u001b[0m\u001b[0;34m]\u001b[0m\u001b[0;34m:\u001b[0m\u001b[0;34m\u001b[0m\u001b[0;34m\u001b[0m\u001b[0m\n\u001b[1;32m     15\u001b[0m                 top_features = pymrmr.mRMR(data=power_dict[power][placement][vector][user],\n\u001b[0;32m---> 16\u001b[0;31m                                            method='MID', nfeats=10)\n\u001b[0m\u001b[1;32m     17\u001b[0m                 \u001b[0muser_dict_features\u001b[0m\u001b[0;34m.\u001b[0m\u001b[0mupdate\u001b[0m\u001b[0;34m(\u001b[0m\u001b[0;34m{\u001b[0m\u001b[0muser\u001b[0m\u001b[0;34m:\u001b[0m \u001b[0mtop_features\u001b[0m\u001b[0;34m}\u001b[0m\u001b[0;34m)\u001b[0m\u001b[0;34m\u001b[0m\u001b[0;34m\u001b[0m\u001b[0m\n\u001b[1;32m     18\u001b[0m \u001b[0;34m\u001b[0m\u001b[0m\n",
      "\u001b[0;32m~/anaconda2/envs/keenanm/lib/python3.6/site-packages/pymrmr/pymrmr.pyx\u001b[0m in \u001b[0;36mpymrmr.mRMR (pymrmr/pymrmr.cpp:1666)\u001b[0;34m()\u001b[0m\n",
      "\u001b[0;32m~/anaconda2/envs/keenanm/lib/python3.6/site-packages/pymrmr.cpython-36m-x86_64-linux-gnu.so\u001b[0m in \u001b[0;36mvector.from_py.__pyx_convert_vector_from_py_std_3a__3a_vector_3c_int_3e___ (pymrmr/pymrmr.cpp:4546)\u001b[0;34m()\u001b[0m\n",
      "\u001b[0;32m~/anaconda2/envs/keenanm/lib/python3.6/site-packages/pymrmr.cpython-36m-x86_64-linux-gnu.so\u001b[0m in \u001b[0;36mvector.from_py.__pyx_convert_vector_from_py_int (pymrmr/pymrmr.cpp:4428)\u001b[0;34m()\u001b[0m\n",
      "\u001b[0;31mValueError\u001b[0m: cannot convert float NaN to integer"
     ]
    }
   ],
   "source": [
    "# Create dictionary of top mRMR features to speed up calculations, up to to 10\n",
    "power_dict_features = {}\n",
    "\n",
    "for power in powers:\n",
    "    placement_dict_features = {}\n",
    "    \n",
    "    for placement in placements:\n",
    "        vector_dict_features = {}\n",
    "        \n",
    "        for vector in vectors:\n",
    "            user_dict_features = {}\n",
    "\n",
    "            # Only calculate for all users for now\n",
    "            for user in ['All']:\n",
    "                top_features = pymrmr.mRMR(data=power_dict[power][placement][vector][user],\n",
    "                                           method='MID', nfeats=10)\n",
    "                user_dict_features.update({user: top_features})\n",
    "\n",
    "            vector_dict_features.update({vector: user_dict_features})\n",
    "            \n",
    "        placement_dict_features.update({placement: vector_dict_features})\n",
    "    \n",
    "    power_dict_features.update({power: placement_dict_features})"
   ]
  },
  {
   "cell_type": "code",
   "execution_count": 37,
   "metadata": {},
   "outputs": [],
   "source": [
    "# Pickle the dictionary\n",
    "import pickle\n",
    "\n",
    "mRMR_dict_filename = '/home/caris/Wheelchair-Terrain-Classification/dicts/mRMR_Top10_Dictionary.pkl'\n",
    "outfile = open(mRMR_dict_filename, 'wb')\n",
    "pickle.dump(power_dict_features, outfile)\n",
    "outfile.close()"
   ]
  },
  {
   "cell_type": "code",
   "execution_count": null,
   "metadata": {},
   "outputs": [],
   "source": [
    "# Unpickle the dictionary\n",
    "#infile = open(mRMR_dict_filename, 'rb')\n",
    "#power_dict_features = pickle.load(infile)\n",
    "#infile.close()"
   ]
  },
  {
   "cell_type": "markdown",
   "metadata": {},
   "source": [
    "## Part 3 - PCA (Principal Component Analysis)"
   ]
  },
  {
   "cell_type": "code",
   "execution_count": 38,
   "metadata": {},
   "outputs": [],
   "source": [
    "from sklearn.decomposition import PCA\n",
    "\n",
    "def get_pca_df(combined_data, n_components=2):\n",
    "    # Setup PCA parameters\n",
    "    pca = PCA(n_components=n_components)\n",
    "    \n",
    "    # Copy data to avoid modification\n",
    "    data = combined_data.copy()\n",
    "    \n",
    "    # Extract terrain labels\n",
    "    labels = data.pop('Label')\n",
    "    \n",
    "    # Get specified number of principal components and convert to dataframe\n",
    "    pc = pca.fit_transform(data)\n",
    "    pc_df = pd.DataFrame(data=pc, columns=['PC {}'.format(i + 1) for i in range(n_components)])\n",
    "    \n",
    "    #print('Explained Variance of Each PC: {}'.format(pca.explained_variance_ratio_))\n",
    "    #print('Total Explained Variance: {}'.format(np.sum(pca.explained_variance_ratio_)))\n",
    "    \n",
    "    return pd.concat([labels, pc_df], axis='columns')"
   ]
  },
  {
   "cell_type": "code",
   "execution_count": 39,
   "metadata": {},
   "outputs": [
    {
     "data": {
      "text/html": [
       "<div>\n",
       "<style scoped>\n",
       "    .dataframe tbody tr th:only-of-type {\n",
       "        vertical-align: middle;\n",
       "    }\n",
       "\n",
       "    .dataframe tbody tr th {\n",
       "        vertical-align: top;\n",
       "    }\n",
       "\n",
       "    .dataframe thead th {\n",
       "        text-align: right;\n",
       "    }\n",
       "</style>\n",
       "<table border=\"1\" class=\"dataframe\">\n",
       "  <thead>\n",
       "    <tr style=\"text-align: right;\">\n",
       "      <th></th>\n",
       "      <th>Label</th>\n",
       "      <th>PC 1</th>\n",
       "      <th>PC 2</th>\n",
       "    </tr>\n",
       "  </thead>\n",
       "  <tbody>\n",
       "    <tr>\n",
       "      <th>13270</th>\n",
       "      <td>2.0</td>\n",
       "      <td>7.962545</td>\n",
       "      <td>27.160344</td>\n",
       "    </tr>\n",
       "    <tr>\n",
       "      <th>13271</th>\n",
       "      <td>2.0</td>\n",
       "      <td>-14.349221</td>\n",
       "      <td>21.304082</td>\n",
       "    </tr>\n",
       "    <tr>\n",
       "      <th>13272</th>\n",
       "      <td>2.0</td>\n",
       "      <td>-27.441439</td>\n",
       "      <td>33.800137</td>\n",
       "    </tr>\n",
       "    <tr>\n",
       "      <th>13273</th>\n",
       "      <td>2.0</td>\n",
       "      <td>-57.477982</td>\n",
       "      <td>15.158918</td>\n",
       "    </tr>\n",
       "    <tr>\n",
       "      <th>13274</th>\n",
       "      <td>2.0</td>\n",
       "      <td>-66.795324</td>\n",
       "      <td>-0.429251</td>\n",
       "    </tr>\n",
       "  </tbody>\n",
       "</table>\n",
       "</div>"
      ],
      "text/plain": [
       "       Label       PC 1       PC 2\n",
       "13270    2.0   7.962545  27.160344\n",
       "13271    2.0 -14.349221  21.304082\n",
       "13272    2.0 -27.441439  33.800137\n",
       "13273    2.0 -57.477982  15.158918\n",
       "13274    2.0 -66.795324  -0.429251"
      ]
     },
     "execution_count": 39,
     "metadata": {},
     "output_type": "execute_result"
    }
   ],
   "source": [
    "get_pca_df(power_dict['Manual']['Synthesis']['Combined']['All']).tail()"
   ]
  },
  {
   "cell_type": "code",
   "execution_count": 40,
   "metadata": {},
   "outputs": [
    {
     "data": {
      "text/html": [
       "<div>\n",
       "<style scoped>\n",
       "    .dataframe tbody tr th:only-of-type {\n",
       "        vertical-align: middle;\n",
       "    }\n",
       "\n",
       "    .dataframe tbody tr th {\n",
       "        vertical-align: top;\n",
       "    }\n",
       "\n",
       "    .dataframe thead th {\n",
       "        text-align: right;\n",
       "    }\n",
       "</style>\n",
       "<table border=\"1\" class=\"dataframe\">\n",
       "  <thead>\n",
       "    <tr style=\"text-align: right;\">\n",
       "      <th></th>\n",
       "      <th>Label</th>\n",
       "      <th>PC 1</th>\n",
       "      <th>PC 2</th>\n",
       "      <th>PC 3</th>\n",
       "      <th>PC 4</th>\n",
       "      <th>PC 5</th>\n",
       "    </tr>\n",
       "  </thead>\n",
       "  <tbody>\n",
       "    <tr>\n",
       "      <th>13270</th>\n",
       "      <td>2.0</td>\n",
       "      <td>7.962545</td>\n",
       "      <td>27.160341</td>\n",
       "      <td>-1.746825</td>\n",
       "      <td>24.987244</td>\n",
       "      <td>10.147862</td>\n",
       "    </tr>\n",
       "    <tr>\n",
       "      <th>13271</th>\n",
       "      <td>2.0</td>\n",
       "      <td>-14.349221</td>\n",
       "      <td>21.304085</td>\n",
       "      <td>22.952698</td>\n",
       "      <td>5.220102</td>\n",
       "      <td>1.831698</td>\n",
       "    </tr>\n",
       "    <tr>\n",
       "      <th>13272</th>\n",
       "      <td>2.0</td>\n",
       "      <td>-27.441439</td>\n",
       "      <td>33.800137</td>\n",
       "      <td>32.664014</td>\n",
       "      <td>-12.381744</td>\n",
       "      <td>2.040796</td>\n",
       "    </tr>\n",
       "    <tr>\n",
       "      <th>13273</th>\n",
       "      <td>2.0</td>\n",
       "      <td>-57.477982</td>\n",
       "      <td>15.158918</td>\n",
       "      <td>37.925960</td>\n",
       "      <td>-6.076243</td>\n",
       "      <td>0.351659</td>\n",
       "    </tr>\n",
       "    <tr>\n",
       "      <th>13274</th>\n",
       "      <td>2.0</td>\n",
       "      <td>-66.795324</td>\n",
       "      <td>-0.429252</td>\n",
       "      <td>37.974747</td>\n",
       "      <td>-6.859912</td>\n",
       "      <td>2.290404</td>\n",
       "    </tr>\n",
       "  </tbody>\n",
       "</table>\n",
       "</div>"
      ],
      "text/plain": [
       "       Label       PC 1       PC 2       PC 3       PC 4       PC 5\n",
       "13270    2.0   7.962545  27.160341  -1.746825  24.987244  10.147862\n",
       "13271    2.0 -14.349221  21.304085  22.952698   5.220102   1.831698\n",
       "13272    2.0 -27.441439  33.800137  32.664014 -12.381744   2.040796\n",
       "13273    2.0 -57.477982  15.158918  37.925960  -6.076243   0.351659\n",
       "13274    2.0 -66.795324  -0.429252  37.974747  -6.859912   2.290404"
      ]
     },
     "execution_count": 40,
     "metadata": {},
     "output_type": "execute_result"
    }
   ],
   "source": [
    "get_pca_df(power_dict['Manual']['Synthesis']['Combined']['All'], n_components=5).tail()"
   ]
  },
  {
   "cell_type": "code",
   "execution_count": 41,
   "metadata": {},
   "outputs": [],
   "source": [
    "def visualize_2d_pca(pca_2d_df, figsize=(8, 8)):\n",
    "    # Plot parameters\n",
    "    plt.clf()\n",
    "    plt.figure(figsize=figsize)\n",
    "    plt.xlabel('Principal Component 1')\n",
    "    plt.ylabel('Principal Component 2')\n",
    "    \n",
    "    # Scatter plot of each terrain\n",
    "    for terrain in terrains:\n",
    "        terrain_indices = pca_2d_df['Label'] == get_terrain_num(terrain)\n",
    "        plt.scatter(pca_2d_df.loc[terrain_indices, 'PC 1'], pca_2d_df.loc[terrain_indices, 'PC 2'])\n",
    "    \n",
    "    plt.legend(terrains)\n",
    "    plt.show()"
   ]
  },
  {
   "cell_type": "code",
   "execution_count": 46,
   "metadata": {},
   "outputs": [
    {
     "data": {
      "text/plain": [
       "<Figure size 432x288 with 0 Axes>"
      ]
     },
     "metadata": {},
     "output_type": "display_data"
    },
    {
     "data": {
      "image/png": "[encoded data removed]",
      "text/plain": [
       "<Figure size 576x576 with 1 Axes>"
      ]
     },
     "metadata": {
      "needs_background": "light"
     },
     "output_type": "display_data"
    }
   ],
   "source": [
    "visualize_2d_pca(get_pca_df(power_dict['Manual']['Right']['FreqFeats']['All']))"
   ]
  },
  {
   "cell_type": "markdown",
   "metadata": {},
   "source": [
    "## Part 4 - Comparing Classifier Accuracy"
   ]
  },
  {
   "cell_type": "code",
   "execution_count": 44,
   "metadata": {},
   "outputs": [],
   "source": [
    "from sklearn.naive_bayes import GaussianNB\n",
    "from sklearn.neighbors import KNeighborsClassifier\n",
    "from sklearn.tree import DecisionTreeClassifier\n",
    "from sklearn.ensemble import RandomForestClassifier\n",
    "from sklearn.ensemble import AdaBoostClassifier\n",
    "from sklearn.svm import SVC\n",
    "from sklearn.metrics import accuracy_score\n",
    "\n",
    "# Dictionary of classifiers\n",
    "classifiers = {'Naive Bayes': GaussianNB(),\n",
    "               'k Nearest': KNeighborsClassifier(),\n",
    "               'Decision Tree': DecisionTreeClassifier(), \n",
    "               'Random Forest': RandomForestClassifier(n_estimators=100),\n",
    "               'AdaBoost': AdaBoostClassifier(),\n",
    "               'Support Vector Machine': SVC(gamma='scale')}"
   ]
  },
  {
   "cell_type": "code",
   "execution_count": 43,
   "metadata": {},
   "outputs": [],
   "source": [
    "from sklearn.model_selection import KFold\n",
    "\n",
    "'''Run train test k-fold times\n",
    "   Returns an tuple of arrays, where arrays elements are actual/predicted labels \n",
    "   for each k-fold test'''\n",
    "def train_test_k_fold(combined_data, n_splits, model):\n",
    "    # Shuffle ensures we get a mix of terrains\n",
    "    kf = KFold(n_splits=n_splits, shuffle=True)\n",
    "\n",
    "    # Copy data to avoid modification - Testing removing this\n",
    "    data = combined_data\n",
    "    \n",
    "    # Extract terrain labels\n",
    "    labels = data.pop('Label')\n",
    "\n",
    "    # Array of predicted labels for each k fold\n",
    "    test_k_fold = []\n",
    "    predict_k_fold = []\n",
    "\n",
    "    # Split into n splits\n",
    "    for train_index, test_index in kf.split(data):\n",
    "        train, test = data.loc[train_index], data.loc[test_index]\n",
    "        train_labels, test_labels = labels.loc[train_index], labels.loc[test_index]\n",
    "        \n",
    "        # Actual labels\n",
    "        test_k_fold.append(test_labels)\n",
    "        \n",
    "        # Train and test model\n",
    "        model.fit(train, train_labels)\n",
    "        predict_k_fold.append(model.predict(test))\n",
    "    \n",
    "    # Put back terrain labels\n",
    "    data.insert(0, 'Label', labels)\n",
    "    \n",
    "    return (test_k_fold, predict_k_fold)"
   ]
  },
  {
   "cell_type": "code",
   "execution_count": 52,
   "metadata": {},
   "outputs": [],
   "source": [
    "'''Train a model on all the given test data and return it'''\n",
    "def train_model_on_all(combined_data, model):\n",
    "    # Copy data to avoid modification - Testing removing this\n",
    "    data = combined_data\n",
    "    labels = data.pop('Label')\n",
    "    \n",
    "    # Train the model\n",
    "    model.fit(data, labels)\n",
    "    \n",
    "    # Return the labels to original position\n",
    "    data.insert(0, 'Label', labels)\n",
    "    \n",
    "    # Return trained model\n",
    "    return model"
   ]
  },
  {
   "cell_type": "code",
   "execution_count": 56,
   "metadata": {},
   "outputs": [],
   "source": [
    "'''Create a table of accuracies and associated trained models for each feature vector and classifier'''\n",
    "def create_accuracy_table(n_splits, power_type='Manual', user_name='All', separate_axes=False,\n",
    "                          feat_selection='None', n_feats=None, verbose=False):\n",
    "    \n",
    "    # Power type affects which placements are available\n",
    "    if power_type == 'Manual':\n",
    "        placements = placements_manual\n",
    "    else:\n",
    "        placements = placements_power\n",
    "    \n",
    "    # Dataframe table of accuracies for each classifier for each placement\n",
    "    if separate_axes:\n",
    "        vector_indices = [p + ' ' + v + ' ' + a for p in placements for v in vectors for a in axes]\n",
    "    else:\n",
    "        vector_indices = [p + ' ' + v for p in placements for v in vectors]\n",
    "    \n",
    "    # Vector column contains each vector for each placement and axes\n",
    "    accuracy_table = pd.DataFrame({'Vector': vector_indices})\n",
    "    \n",
    "    # Nested dictionary of trained models:\n",
    "    ## Vector type\n",
    "    ### Classifier name\n",
    "    model_dict = {vector_index: {} for vector_index in vector_indices}\n",
    "\n",
    "    # Calculate accuracy for each placement for each feature vector and classifier\n",
    "    for classifier_name, classifier in classifiers.items():\n",
    "        model = classifier\n",
    "\n",
    "        # Row dictionary for given model\n",
    "        accuracy_rows = {}\n",
    "        \n",
    "        # Add current classifier to row dictionary\n",
    "        for placement in placements:\n",
    "            for vector in vectors:\n",
    "                # Extract data for above parameters\n",
    "                data = power_dict[power_type][placement][vector][user_name].copy()\n",
    "                \n",
    "                # Iterate through axes if we want them separate, else just put in empty string\n",
    "                if separate_axes:\n",
    "                    itr_axes = axes\n",
    "                else:\n",
    "                    itr_axes = ['All']\n",
    "                \n",
    "                for axis in itr_axes:\n",
    "                    index_name = placement + ' ' + vector\n",
    "                    data_temp = data\n",
    "                    \n",
    "                    # If separate axes, get data with only columns matching current axes\n",
    "                    if separate_axes:\n",
    "                        index_name += ' ' + axis\n",
    "                        matching_columns = [column for column in data.columns if axis in column]\n",
    "                        matching_columns.insert(0, 'Label')\n",
    "                        data_temp = data_temp[matching_columns]\n",
    "                    \n",
    "                    # Use only the top features using mRMR feature selection\n",
    "                    if feat_selection == 'mRMR':\n",
    "                        top_feats = power_dict_features[power_type][placement][vector][user_name].copy()\n",
    "                        top_feats.insert(0, 'Label')\n",
    "                        data_temp = data_temp[top_feats[:n_feats+1]]\n",
    "\n",
    "                    # Run PCA on the data\n",
    "                    elif feat_selection == 'PCA':\n",
    "                        data_temp = get_pca_df(data_temp, n_components=n_feats)\n",
    "\n",
    "                    # Extract predicted and actual labels for requested user\n",
    "                    actual, predict = train_test_k_fold(data_temp, n_splits, model)\n",
    "\n",
    "                    # Take mean accuracy of k fold testing\n",
    "                    accuracies = []\n",
    "                    for i in range(len(predict)):\n",
    "                        accuracies.append(accuracy_score(actual[i], predict[i]))\n",
    "                    \n",
    "                    # Update row dictionary\n",
    "                    accuracy_rows.update({index_name: np.mean(accuracies)})\n",
    "                    \n",
    "                    # Train model on entire feature vector data and return it for pickling\n",
    "                    trained_model = train_model_on_all(data_temp, model)\n",
    "                    model_dict[index_name].update({classifier_name: trained_model})\n",
    "                    \n",
    "                    if verbose:\n",
    "                        print('Finished training {} on {} {}'.format(classifier_name, placement, vector))\n",
    "                    \n",
    "        # Update accuracy table with classifier column by mapping row names to indices\n",
    "        accuracy_table[classifier_name] = accuracy_table['Vector'].map(accuracy_rows)\n",
    "    \n",
    "    return accuracy_table, model_dict"
   ]
  },
  {
   "cell_type": "code",
   "execution_count": 73,
   "metadata": {},
   "outputs": [],
   "source": [
    "import pickle\n",
    "models_path = '/home/caris/Wheelchair-Terrain-Classification/models/'\n",
    "\n",
    "'''Pickle all the elements of a model dict to individual files'''\n",
    "def pickle_all_model_dict(model_dict, file_tag=None):\n",
    "    for feature_type, classifiers in model_dict.items():\n",
    "        for classifier_name, trained_model in classifiers.items():\n",
    "            # Get file name from parameters\n",
    "            model_filename = models_path + classifier_name.replace(' ', '')\n",
    "            model_filename += '_' + feature_type.replace(' ', '_')\n",
    "            \n",
    "            # Add file tag if given\n",
    "            if file_tag is not None:\n",
    "                model_filename += '_' + file_tag\n",
    "            model_filename += '.pkl'\n",
    "            \n",
    "            # Pickle the file\n",
    "            outfile = open(model_filename, 'wb')\n",
    "            pickle.dump(trained_model, outfile)\n",
    "            outfile.close()"
   ]
  },
  {
   "cell_type": "markdown",
   "metadata": {},
   "source": [
    "### Part (a) - Combined Axes Accuracy Table\n",
    "#### Part (i) - No Feature Selection"
   ]
  },
  {
   "cell_type": "code",
   "execution_count": 48,
   "metadata": {},
   "outputs": [],
   "source": [
    "# Create accuracy table for 5 k-fold splits without any feature selection\n",
    "accuracy_table, model_dict = create_accuracy_table(n_splits=5, power_type='Manual', user_name='All')"
   ]
  },
  {
   "cell_type": "code",
   "execution_count": 49,
   "metadata": {
    "scrolled": false
   },
   "outputs": [
    {
     "data": {
      "text/html": [
       "<div>\n",
       "<style scoped>\n",
       "    .dataframe tbody tr th:only-of-type {\n",
       "        vertical-align: middle;\n",
       "    }\n",
       "\n",
       "    .dataframe tbody tr th {\n",
       "        vertical-align: top;\n",
       "    }\n",
       "\n",
       "    .dataframe thead th {\n",
       "        text-align: right;\n",
       "    }\n",
       "</style>\n",
       "<table border=\"1\" class=\"dataframe\">\n",
       "  <thead>\n",
       "    <tr style=\"text-align: right;\">\n",
       "      <th></th>\n",
       "      <th>Vector</th>\n",
       "      <th>Naive Bayes</th>\n",
       "      <th>k Nearest</th>\n",
       "      <th>Decision Tree</th>\n",
       "      <th>Random Forest</th>\n",
       "      <th>AdaBoost</th>\n",
       "      <th>Support Vector Machine</th>\n",
       "    </tr>\n",
       "  </thead>\n",
       "  <tbody>\n",
       "    <tr>\n",
       "      <th>0</th>\n",
       "      <td>Middle TimeFeats</td>\n",
       "      <td>0.565215</td>\n",
       "      <td>0.842253</td>\n",
       "      <td>0.789172</td>\n",
       "      <td>0.894275</td>\n",
       "      <td>0.548662</td>\n",
       "      <td>0.883447</td>\n",
       "    </tr>\n",
       "    <tr>\n",
       "      <th>1</th>\n",
       "      <td>Middle FreqFeats</td>\n",
       "      <td>0.511201</td>\n",
       "      <td>0.686932</td>\n",
       "      <td>0.643933</td>\n",
       "      <td>0.746484</td>\n",
       "      <td>0.530492</td>\n",
       "      <td>0.697698</td>\n",
       "    </tr>\n",
       "    <tr>\n",
       "      <th>2</th>\n",
       "      <td>Middle FFTs</td>\n",
       "      <td>0.516179</td>\n",
       "      <td>0.727878</td>\n",
       "      <td>0.623522</td>\n",
       "      <td>0.781767</td>\n",
       "      <td>0.547729</td>\n",
       "      <td>0.823771</td>\n",
       "    </tr>\n",
       "    <tr>\n",
       "      <th>3</th>\n",
       "      <td>Middle PSDLogs</td>\n",
       "      <td>0.552271</td>\n",
       "      <td>0.742315</td>\n",
       "      <td>0.580709</td>\n",
       "      <td>0.745177</td>\n",
       "      <td>0.549907</td>\n",
       "      <td>0.811512</td>\n",
       "    </tr>\n",
       "    <tr>\n",
       "      <th>4</th>\n",
       "      <td>Middle Combined</td>\n",
       "      <td>0.557125</td>\n",
       "      <td>0.828376</td>\n",
       "      <td>0.761170</td>\n",
       "      <td>0.875047</td>\n",
       "      <td>0.588799</td>\n",
       "      <td>0.910454</td>\n",
       "    </tr>\n",
       "    <tr>\n",
       "      <th>5</th>\n",
       "      <td>Left TimeFeats</td>\n",
       "      <td>0.481079</td>\n",
       "      <td>0.606493</td>\n",
       "      <td>0.614611</td>\n",
       "      <td>0.765348</td>\n",
       "      <td>0.536241</td>\n",
       "      <td>0.742826</td>\n",
       "    </tr>\n",
       "    <tr>\n",
       "      <th>6</th>\n",
       "      <td>Left FreqFeats</td>\n",
       "      <td>0.341088</td>\n",
       "      <td>0.515377</td>\n",
       "      <td>0.499486</td>\n",
       "      <td>0.630845</td>\n",
       "      <td>0.475249</td>\n",
       "      <td>0.573282</td>\n",
       "    </tr>\n",
       "    <tr>\n",
       "      <th>7</th>\n",
       "      <td>Left FFTs</td>\n",
       "      <td>0.462500</td>\n",
       "      <td>0.457471</td>\n",
       "      <td>0.501886</td>\n",
       "      <td>0.682463</td>\n",
       "      <td>0.521379</td>\n",
       "      <td>0.728249</td>\n",
       "    </tr>\n",
       "    <tr>\n",
       "      <th>8</th>\n",
       "      <td>Left PSDLogs</td>\n",
       "      <td>0.458557</td>\n",
       "      <td>0.502058</td>\n",
       "      <td>0.480222</td>\n",
       "      <td>0.660627</td>\n",
       "      <td>0.505373</td>\n",
       "      <td>0.722876</td>\n",
       "    </tr>\n",
       "    <tr>\n",
       "      <th>9</th>\n",
       "      <td>Left Combined</td>\n",
       "      <td>0.498913</td>\n",
       "      <td>0.531954</td>\n",
       "      <td>0.607980</td>\n",
       "      <td>0.749114</td>\n",
       "      <td>0.548360</td>\n",
       "      <td>0.778152</td>\n",
       "    </tr>\n",
       "    <tr>\n",
       "      <th>10</th>\n",
       "      <td>Right TimeFeats</td>\n",
       "      <td>0.498428</td>\n",
       "      <td>0.604324</td>\n",
       "      <td>0.633446</td>\n",
       "      <td>0.772434</td>\n",
       "      <td>0.554300</td>\n",
       "      <td>0.747670</td>\n",
       "    </tr>\n",
       "    <tr>\n",
       "      <th>11</th>\n",
       "      <td>Right FreqFeats</td>\n",
       "      <td>0.359992</td>\n",
       "      <td>0.503447</td>\n",
       "      <td>0.504054</td>\n",
       "      <td>0.634935</td>\n",
       "      <td>0.469086</td>\n",
       "      <td>0.572500</td>\n",
       "    </tr>\n",
       "    <tr>\n",
       "      <th>12</th>\n",
       "      <td>Right FFTs</td>\n",
       "      <td>0.474657</td>\n",
       "      <td>0.454635</td>\n",
       "      <td>0.513541</td>\n",
       "      <td>0.675142</td>\n",
       "      <td>0.541614</td>\n",
       "      <td>0.721031</td>\n",
       "    </tr>\n",
       "    <tr>\n",
       "      <th>13</th>\n",
       "      <td>Right PSDLogs</td>\n",
       "      <td>0.438751</td>\n",
       "      <td>0.511279</td>\n",
       "      <td>0.481331</td>\n",
       "      <td>0.663836</td>\n",
       "      <td>0.523634</td>\n",
       "      <td>0.706414</td>\n",
       "    </tr>\n",
       "    <tr>\n",
       "      <th>14</th>\n",
       "      <td>Right Combined</td>\n",
       "      <td>0.502620</td>\n",
       "      <td>0.533782</td>\n",
       "      <td>0.609895</td>\n",
       "      <td>0.744085</td>\n",
       "      <td>0.545198</td>\n",
       "      <td>0.775578</td>\n",
       "    </tr>\n",
       "  </tbody>\n",
       "</table>\n",
       "</div>"
      ],
      "text/plain": [
       "              Vector  Naive Bayes  k Nearest  Decision Tree  Random Forest  \\\n",
       "0   Middle TimeFeats     0.565215   0.842253       0.789172       0.894275   \n",
       "1   Middle FreqFeats     0.511201   0.686932       0.643933       0.746484   \n",
       "2        Middle FFTs     0.516179   0.727878       0.623522       0.781767   \n",
       "3     Middle PSDLogs     0.552271   0.742315       0.580709       0.745177   \n",
       "4    Middle Combined     0.557125   0.828376       0.761170       0.875047   \n",
       "5     Left TimeFeats     0.481079   0.606493       0.614611       0.765348   \n",
       "6     Left FreqFeats     0.341088   0.515377       0.499486       0.630845   \n",
       "7          Left FFTs     0.462500   0.457471       0.501886       0.682463   \n",
       "8       Left PSDLogs     0.458557   0.502058       0.480222       0.660627   \n",
       "9      Left Combined     0.498913   0.531954       0.607980       0.749114   \n",
       "10   Right TimeFeats     0.498428   0.604324       0.633446       0.772434   \n",
       "11   Right FreqFeats     0.359992   0.503447       0.504054       0.634935   \n",
       "12        Right FFTs     0.474657   0.454635       0.513541       0.675142   \n",
       "13     Right PSDLogs     0.438751   0.511279       0.481331       0.663836   \n",
       "14    Right Combined     0.502620   0.533782       0.609895       0.744085   \n",
       "\n",
       "    AdaBoost  Support Vector Machine  \n",
       "0   0.548662                0.883447  \n",
       "1   0.530492                0.697698  \n",
       "2   0.547729                0.823771  \n",
       "3   0.549907                0.811512  \n",
       "4   0.588799                0.910454  \n",
       "5   0.536241                0.742826  \n",
       "6   0.475249                0.573282  \n",
       "7   0.521379                0.728249  \n",
       "8   0.505373                0.722876  \n",
       "9   0.548360                0.778152  \n",
       "10  0.554300                0.747670  \n",
       "11  0.469086                0.572500  \n",
       "12  0.541614                0.721031  \n",
       "13  0.523634                0.706414  \n",
       "14  0.545198                0.775578  "
      ]
     },
     "execution_count": 49,
     "metadata": {},
     "output_type": "execute_result"
    }
   ],
   "source": [
    "accuracy_table"
   ]
  },
  {
   "cell_type": "code",
   "execution_count": 77,
   "metadata": {},
   "outputs": [],
   "source": [
    "accuracy_table_PCA.to_csv('tables/Accuracy_Table.csv', index=False)"
   ]
  },
  {
   "cell_type": "markdown",
   "metadata": {},
   "source": [
    "#### Part (ii) - mRMR Feature Selection"
   ]
  },
  {
   "cell_type": "code",
   "execution_count": null,
   "metadata": {},
   "outputs": [],
   "source": [
    "# Create accuracy table for 5 k-fold splits with mRMR feature selection\n",
    "accuracy_table_mRMR, model_dict_mRMR = create_accuracy_table(n_splits=5, \n",
    "                                                             power_type='Manual', user_name='All',\n",
    "                                                             feat_selection='mRMR', n_feats=20, \n",
    "                                                             verbose=True)"
   ]
  },
  {
   "cell_type": "code",
   "execution_count": null,
   "metadata": {
    "scrolled": false
   },
   "outputs": [],
   "source": [
    "accuracy_table_mRMR"
   ]
  },
  {
   "cell_type": "code",
   "execution_count": null,
   "metadata": {},
   "outputs": [],
   "source": [
    "accuracy_table_PCA.to_csv('tables/Accuracy_Table_mRMR.csv', index=False)"
   ]
  },
  {
   "cell_type": "markdown",
   "metadata": {},
   "source": [
    "#### Part (iii) - PCA Feature Selection"
   ]
  },
  {
   "cell_type": "code",
   "execution_count": 50,
   "metadata": {},
   "outputs": [],
   "source": [
    "# Create accuracy table for 5 k-fold splits with mRMR feature selection\n",
    "accuracy_table_PCA, model_dict_PCA = create_accuracy_table(n_splits=5, \n",
    "                                                           power_type='Manual', user_name='All',\n",
    "                                                           feat_selection='PCA', n_feats=20)"
   ]
  },
  {
   "cell_type": "code",
   "execution_count": 51,
   "metadata": {
    "scrolled": false
   },
   "outputs": [
    {
     "data": {
      "text/html": [
       "<div>\n",
       "<style scoped>\n",
       "    .dataframe tbody tr th:only-of-type {\n",
       "        vertical-align: middle;\n",
       "    }\n",
       "\n",
       "    .dataframe tbody tr th {\n",
       "        vertical-align: top;\n",
       "    }\n",
       "\n",
       "    .dataframe thead th {\n",
       "        text-align: right;\n",
       "    }\n",
       "</style>\n",
       "<table border=\"1\" class=\"dataframe\">\n",
       "  <thead>\n",
       "    <tr style=\"text-align: right;\">\n",
       "      <th></th>\n",
       "      <th>Vector</th>\n",
       "      <th>Naive Bayes</th>\n",
       "      <th>k Nearest</th>\n",
       "      <th>Decision Tree</th>\n",
       "      <th>Random Forest</th>\n",
       "      <th>AdaBoost</th>\n",
       "      <th>Support Vector Machine</th>\n",
       "    </tr>\n",
       "  </thead>\n",
       "  <tbody>\n",
       "    <tr>\n",
       "      <th>0</th>\n",
       "      <td>Middle TimeFeats</td>\n",
       "      <td>0.645924</td>\n",
       "      <td>0.819353</td>\n",
       "      <td>0.692968</td>\n",
       "      <td>0.823958</td>\n",
       "      <td>0.552022</td>\n",
       "      <td>0.853267</td>\n",
       "    </tr>\n",
       "    <tr>\n",
       "      <th>1</th>\n",
       "      <td>Middle FreqFeats</td>\n",
       "      <td>0.546111</td>\n",
       "      <td>0.683136</td>\n",
       "      <td>0.614997</td>\n",
       "      <td>0.729185</td>\n",
       "      <td>0.528936</td>\n",
       "      <td>0.698009</td>\n",
       "    </tr>\n",
       "    <tr>\n",
       "      <th>2</th>\n",
       "      <td>Middle FFTs</td>\n",
       "      <td>0.517486</td>\n",
       "      <td>0.778158</td>\n",
       "      <td>0.664468</td>\n",
       "      <td>0.801618</td>\n",
       "      <td>0.535843</td>\n",
       "      <td>0.768326</td>\n",
       "    </tr>\n",
       "    <tr>\n",
       "      <th>3</th>\n",
       "      <td>Middle PSDLogs</td>\n",
       "      <td>0.715121</td>\n",
       "      <td>0.783696</td>\n",
       "      <td>0.670380</td>\n",
       "      <td>0.791226</td>\n",
       "      <td>0.597635</td>\n",
       "      <td>0.795022</td>\n",
       "    </tr>\n",
       "    <tr>\n",
       "      <th>4</th>\n",
       "      <td>Middle Combined</td>\n",
       "      <td>0.650653</td>\n",
       "      <td>0.815495</td>\n",
       "      <td>0.711512</td>\n",
       "      <td>0.831425</td>\n",
       "      <td>0.571562</td>\n",
       "      <td>0.826136</td>\n",
       "    </tr>\n",
       "    <tr>\n",
       "      <th>5</th>\n",
       "      <td>Left TimeFeats</td>\n",
       "      <td>0.453527</td>\n",
       "      <td>0.578141</td>\n",
       "      <td>0.533154</td>\n",
       "      <td>0.665428</td>\n",
       "      <td>0.462216</td>\n",
       "      <td>0.696124</td>\n",
       "    </tr>\n",
       "    <tr>\n",
       "      <th>6</th>\n",
       "      <td>Left FreqFeats</td>\n",
       "      <td>0.349263</td>\n",
       "      <td>0.505544</td>\n",
       "      <td>0.437521</td>\n",
       "      <td>0.569396</td>\n",
       "      <td>0.447297</td>\n",
       "      <td>0.568023</td>\n",
       "    </tr>\n",
       "    <tr>\n",
       "      <th>7</th>\n",
       "      <td>Left FFTs</td>\n",
       "      <td>0.483023</td>\n",
       "      <td>0.634103</td>\n",
       "      <td>0.568881</td>\n",
       "      <td>0.710644</td>\n",
       "      <td>0.524009</td>\n",
       "      <td>0.699153</td>\n",
       "    </tr>\n",
       "    <tr>\n",
       "      <th>8</th>\n",
       "      <td>Left PSDLogs</td>\n",
       "      <td>0.587344</td>\n",
       "      <td>0.639076</td>\n",
       "      <td>0.548188</td>\n",
       "      <td>0.702355</td>\n",
       "      <td>0.529723</td>\n",
       "      <td>0.714302</td>\n",
       "    </tr>\n",
       "    <tr>\n",
       "      <th>9</th>\n",
       "      <td>Left Combined</td>\n",
       "      <td>0.559334</td>\n",
       "      <td>0.648108</td>\n",
       "      <td>0.584200</td>\n",
       "      <td>0.722419</td>\n",
       "      <td>0.536585</td>\n",
       "      <td>0.725277</td>\n",
       "    </tr>\n",
       "    <tr>\n",
       "      <th>10</th>\n",
       "      <td>Right TimeFeats</td>\n",
       "      <td>0.450279</td>\n",
       "      <td>0.573658</td>\n",
       "      <td>0.504274</td>\n",
       "      <td>0.632618</td>\n",
       "      <td>0.461034</td>\n",
       "      <td>0.683360</td>\n",
       "    </tr>\n",
       "    <tr>\n",
       "      <th>11</th>\n",
       "      <td>Right FreqFeats</td>\n",
       "      <td>0.377806</td>\n",
       "      <td>0.500194</td>\n",
       "      <td>0.465722</td>\n",
       "      <td>0.575865</td>\n",
       "      <td>0.463515</td>\n",
       "      <td>0.572832</td>\n",
       "    </tr>\n",
       "    <tr>\n",
       "      <th>12</th>\n",
       "      <td>Right FFTs</td>\n",
       "      <td>0.496222</td>\n",
       "      <td>0.619933</td>\n",
       "      <td>0.553250</td>\n",
       "      <td>0.692792</td>\n",
       "      <td>0.527936</td>\n",
       "      <td>0.691578</td>\n",
       "    </tr>\n",
       "    <tr>\n",
       "      <th>13</th>\n",
       "      <td>Right PSDLogs</td>\n",
       "      <td>0.585131</td>\n",
       "      <td>0.609288</td>\n",
       "      <td>0.527714</td>\n",
       "      <td>0.674370</td>\n",
       "      <td>0.535050</td>\n",
       "      <td>0.694225</td>\n",
       "    </tr>\n",
       "    <tr>\n",
       "      <th>14</th>\n",
       "      <td>Right Combined</td>\n",
       "      <td>0.553583</td>\n",
       "      <td>0.627048</td>\n",
       "      <td>0.565826</td>\n",
       "      <td>0.699520</td>\n",
       "      <td>0.539187</td>\n",
       "      <td>0.718052</td>\n",
       "    </tr>\n",
       "  </tbody>\n",
       "</table>\n",
       "</div>"
      ],
      "text/plain": [
       "              Vector  Naive Bayes  k Nearest  Decision Tree  Random Forest  \\\n",
       "0   Middle TimeFeats     0.645924   0.819353       0.692968       0.823958   \n",
       "1   Middle FreqFeats     0.546111   0.683136       0.614997       0.729185   \n",
       "2        Middle FFTs     0.517486   0.778158       0.664468       0.801618   \n",
       "3     Middle PSDLogs     0.715121   0.783696       0.670380       0.791226   \n",
       "4    Middle Combined     0.650653   0.815495       0.711512       0.831425   \n",
       "5     Left TimeFeats     0.453527   0.578141       0.533154       0.665428   \n",
       "6     Left FreqFeats     0.349263   0.505544       0.437521       0.569396   \n",
       "7          Left FFTs     0.483023   0.634103       0.568881       0.710644   \n",
       "8       Left PSDLogs     0.587344   0.639076       0.548188       0.702355   \n",
       "9      Left Combined     0.559334   0.648108       0.584200       0.722419   \n",
       "10   Right TimeFeats     0.450279   0.573658       0.504274       0.632618   \n",
       "11   Right FreqFeats     0.377806   0.500194       0.465722       0.575865   \n",
       "12        Right FFTs     0.496222   0.619933       0.553250       0.692792   \n",
       "13     Right PSDLogs     0.585131   0.609288       0.527714       0.674370   \n",
       "14    Right Combined     0.553583   0.627048       0.565826       0.699520   \n",
       "\n",
       "    AdaBoost  Support Vector Machine  \n",
       "0   0.552022                0.853267  \n",
       "1   0.528936                0.698009  \n",
       "2   0.535843                0.768326  \n",
       "3   0.597635                0.795022  \n",
       "4   0.571562                0.826136  \n",
       "5   0.462216                0.696124  \n",
       "6   0.447297                0.568023  \n",
       "7   0.524009                0.699153  \n",
       "8   0.529723                0.714302  \n",
       "9   0.536585                0.725277  \n",
       "10  0.461034                0.683360  \n",
       "11  0.463515                0.572832  \n",
       "12  0.527936                0.691578  \n",
       "13  0.535050                0.694225  \n",
       "14  0.539187                0.718052  "
      ]
     },
     "execution_count": 51,
     "metadata": {},
     "output_type": "execute_result"
    }
   ],
   "source": [
    "accuracy_table_PCA"
   ]
  },
  {
   "cell_type": "code",
   "execution_count": 76,
   "metadata": {},
   "outputs": [],
   "source": [
    "accuracy_table_PCA.to_csv('tables/Accuracy_Table_PCA.csv', index=False)"
   ]
  },
  {
   "cell_type": "code",
   "execution_count": 57,
   "metadata": {},
   "outputs": [
    {
     "name": "stdout",
     "output_type": "stream",
     "text": [
      "Finished training Naive Bayes on Middle TimeFeats\n",
      "Finished training Naive Bayes on Middle FreqFeats\n",
      "Finished training Naive Bayes on Middle FFTs\n",
      "Finished training Naive Bayes on Middle PSDLogs\n",
      "Finished training Naive Bayes on Middle Combined\n",
      "Finished training Naive Bayes on Left TimeFeats\n",
      "Finished training Naive Bayes on Left FreqFeats\n",
      "Finished training Naive Bayes on Left FFTs\n",
      "Finished training Naive Bayes on Left PSDLogs\n",
      "Finished training Naive Bayes on Left Combined\n",
      "Finished training Naive Bayes on Right TimeFeats\n",
      "Finished training Naive Bayes on Right FreqFeats\n",
      "Finished training Naive Bayes on Right FFTs\n",
      "Finished training Naive Bayes on Right PSDLogs\n",
      "Finished training Naive Bayes on Right Combined\n",
      "Finished training k Nearest on Middle TimeFeats\n",
      "Finished training k Nearest on Middle FreqFeats\n",
      "Finished training k Nearest on Middle FFTs\n",
      "Finished training k Nearest on Middle PSDLogs\n",
      "Finished training k Nearest on Middle Combined\n",
      "Finished training k Nearest on Left TimeFeats\n",
      "Finished training k Nearest on Left FreqFeats\n",
      "Finished training k Nearest on Left FFTs\n",
      "Finished training k Nearest on Left PSDLogs\n",
      "Finished training k Nearest on Left Combined\n",
      "Finished training k Nearest on Right TimeFeats\n",
      "Finished training k Nearest on Right FreqFeats\n",
      "Finished training k Nearest on Right FFTs\n",
      "Finished training k Nearest on Right PSDLogs\n",
      "Finished training k Nearest on Right Combined\n",
      "Finished training Decision Tree on Middle TimeFeats\n",
      "Finished training Decision Tree on Middle FreqFeats\n",
      "Finished training Decision Tree on Middle FFTs\n",
      "Finished training Decision Tree on Middle PSDLogs\n",
      "Finished training Decision Tree on Middle Combined\n",
      "Finished training Decision Tree on Left TimeFeats\n",
      "Finished training Decision Tree on Left FreqFeats\n",
      "Finished training Decision Tree on Left FFTs\n",
      "Finished training Decision Tree on Left PSDLogs\n",
      "Finished training Decision Tree on Left Combined\n",
      "Finished training Decision Tree on Right TimeFeats\n",
      "Finished training Decision Tree on Right FreqFeats\n",
      "Finished training Decision Tree on Right FFTs\n",
      "Finished training Decision Tree on Right PSDLogs\n",
      "Finished training Decision Tree on Right Combined\n",
      "Finished training Random Forest on Middle TimeFeats\n",
      "Finished training Random Forest on Middle FreqFeats\n",
      "Finished training Random Forest on Middle FFTs\n",
      "Finished training Random Forest on Middle PSDLogs\n",
      "Finished training Random Forest on Middle Combined\n",
      "Finished training Random Forest on Left TimeFeats\n",
      "Finished training Random Forest on Left FreqFeats\n",
      "Finished training Random Forest on Left FFTs\n",
      "Finished training Random Forest on Left PSDLogs\n",
      "Finished training Random Forest on Left Combined\n",
      "Finished training Random Forest on Right TimeFeats\n",
      "Finished training Random Forest on Right FreqFeats\n",
      "Finished training Random Forest on Right FFTs\n",
      "Finished training Random Forest on Right PSDLogs\n",
      "Finished training Random Forest on Right Combined\n",
      "Finished training AdaBoost on Middle TimeFeats\n",
      "Finished training AdaBoost on Middle FreqFeats\n",
      "Finished training AdaBoost on Middle FFTs\n",
      "Finished training AdaBoost on Middle PSDLogs\n",
      "Finished training AdaBoost on Middle Combined\n",
      "Finished training AdaBoost on Left TimeFeats\n",
      "Finished training AdaBoost on Left FreqFeats\n",
      "Finished training AdaBoost on Left FFTs\n",
      "Finished training AdaBoost on Left PSDLogs\n",
      "Finished training AdaBoost on Left Combined\n",
      "Finished training AdaBoost on Right TimeFeats\n",
      "Finished training AdaBoost on Right FreqFeats\n",
      "Finished training AdaBoost on Right FFTs\n",
      "Finished training AdaBoost on Right PSDLogs\n",
      "Finished training AdaBoost on Right Combined\n",
      "Finished training Support Vector Machine on Middle TimeFeats\n",
      "Finished training Support Vector Machine on Middle FreqFeats\n",
      "Finished training Support Vector Machine on Middle FFTs\n",
      "Finished training Support Vector Machine on Middle PSDLogs\n",
      "Finished training Support Vector Machine on Middle Combined\n",
      "Finished training Support Vector Machine on Left TimeFeats\n",
      "Finished training Support Vector Machine on Left FreqFeats\n",
      "Finished training Support Vector Machine on Left FFTs\n",
      "Finished training Support Vector Machine on Left PSDLogs\n",
      "Finished training Support Vector Machine on Left Combined\n",
      "Finished training Support Vector Machine on Right TimeFeats\n",
      "Finished training Support Vector Machine on Right FreqFeats\n",
      "Finished training Support Vector Machine on Right FFTs\n",
      "Finished training Support Vector Machine on Right PSDLogs\n",
      "Finished training Support Vector Machine on Right Combined\n"
     ]
    }
   ],
   "source": [
    "# Create accuracy table for 5 k-fold splits with mRMR feature selection\n",
    "accuracy_table_PCA, model_dict_PCA = create_accuracy_table(n_splits=5, \n",
    "                                                           power_type='Manual', user_name='All',\n",
    "                                                           feat_selection='PCA', n_feats=20)"
   ]
  },
  {
   "cell_type": "code",
   "execution_count": 74,
   "metadata": {
    "scrolled": false
   },
   "outputs": [],
   "source": [
    "# Pickle all the models\n",
    "pickle_all_model_dict(model_dict_PCA, file_tag='PCA')"
   ]
  },
  {
   "cell_type": "code",
   "execution_count": 75,
   "metadata": {},
   "outputs": [
    {
     "data": {
      "text/plain": [
       "{'bootstrap': True,\n",
       " 'class_weight': None,\n",
       " 'criterion': 'gini',\n",
       " 'max_depth': None,\n",
       " 'max_features': 'auto',\n",
       " 'max_leaf_nodes': None,\n",
       " 'min_impurity_decrease': 0.0,\n",
       " 'min_impurity_split': None,\n",
       " 'min_samples_leaf': 1,\n",
       " 'min_samples_split': 2,\n",
       " 'min_weight_fraction_leaf': 0.0,\n",
       " 'n_estimators': 100,\n",
       " 'n_jobs': None,\n",
       " 'oob_score': False,\n",
       " 'random_state': None,\n",
       " 'verbose': 0,\n",
       " 'warm_start': False}"
      ]
     },
     "execution_count": 75,
     "metadata": {},
     "output_type": "execute_result"
    }
   ],
   "source": [
    "# Try loading pickled model\n",
    "infile = open(models_path + 'RandomForest_Middle_TimeFeats_PCA.pkl', 'rb')\n",
    "pickled_model = pickle.load(infile)\n",
    "infile.close()\n",
    "\n",
    "pickled_model.get_params()"
   ]
  },
  {
   "cell_type": "markdown",
   "metadata": {},
   "source": [
    "### Part (b) - Separate Axes Accuracy Table\n",
    "\n",
    "#### Part (i) - mRMR Feature Selection"
   ]
  },
  {
   "cell_type": "code",
   "execution_count": null,
   "metadata": {},
   "outputs": [],
   "source": [
    "# Create accuracy table for 5 k-fold splits with mRMR feature selection\n",
    "accuracy_table_sep_PCA, model_dict_sep_PCA = create_accuracy_table(n_splits=5, \n",
    "                                                                 power_type='Manual', user_name='All',\n",
    "                                                                     separate_axes=True, \n",
    "                                                                     feat_selection='PCA', n_feats=10)"
   ]
  },
  {
   "cell_type": "code",
   "execution_count": null,
   "metadata": {
    "scrolled": false
   },
   "outputs": [],
   "source": [
    "accuracy_table_sep_mRMR"
   ]
  },
  {
   "cell_type": "markdown",
   "metadata": {},
   "source": [
    "### Glossary\n",
    "\n",
    "`Dataset` - Batch of data recorded on one terrain type\n",
    "\n",
    "`Data Window` - Split up portion of a `Dataset`\n",
    "\n",
    "`Direction / Axes` - Linear acceleration or gyroscope in $x,y$ or $z$\n",
    "\n",
    "`Feature Vector` - Any feature of the data that can be used to classify terrain, e.g. Z Accel Mean, Y Accel FFT, etc\n",
    "\n",
    "`Extracted Feature Vector` - Features that aren't from transforms, e.g. Z Accel Min, Y Accel Autocorrelation, etc\n",
    "\n",
    "`Placement` - One of three IMU placements on the wheelchair, i.e. Middle, Left, or Right"
   ]
  }
 ],
 "metadata": {
  "kernelspec": {
   "display_name": "Python 3",
   "language": "python",
   "name": "python3"
  },
  "language_info": {
   "codemirror_mode": {
    "name": "ipython",
    "version": 3
   },
   "file_extension": ".py",
   "mimetype": "text/x-python",
   "name": "python",
   "nbconvert_exporter": "python",
   "pygments_lexer": "ipython3",
   "version": "3.6.8"
  }
 },
 "nbformat": 4,
 "nbformat_minor": 2
}
