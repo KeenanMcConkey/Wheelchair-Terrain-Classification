{
 "cells": [
  {
   "cell_type": "markdown",
   "metadata": {},
   "source": [
    "# Terrain Classification - Combined User Data\n",
    "### Created by Keenan McConkey 2019.5.25"
   ]
  },
  {
   "cell_type": "code",
   "execution_count": 1,
   "metadata": {},
   "outputs": [],
   "source": [
    "from __future__ import absolute_import, division, print_function\n",
    "\n",
    "import pandas as pd\n",
    "\n",
    "import glob\n",
    "import numpy as np\n",
    "import matplotlib.pyplot as plt\n",
    "from matplotlib import gridspec\n",
    "from mpl_toolkits.mplot3d import Axes3D\n",
    "from scipy import signal\n",
    "from scipy import stats\n",
    "\n",
    "from datetime import datetime\n",
    "from decimal import Decimal\n",
    "\n",
    "import pymrmr\n",
    "import sklearn"
   ]
  },
  {
   "cell_type": "markdown",
   "metadata": {},
   "source": [
    "## Part 1 - Importing Preprocessed Data"
   ]
  },
  {
   "cell_type": "markdown",
   "metadata": {},
   "source": [
    "### Part (a) - Functions for Data Import"
   ]
  },
  {
   "cell_type": "code",
   "execution_count": 2,
   "metadata": {},
   "outputs": [],
   "source": [
    "# Easier to read column names\n",
    "std_columns = ['X Accel', 'Y Accel', 'Z Accel', 'X Gyro', 'Y Gyro', 'Z Gyro', 'Run Time', 'Epoch Time']\n",
    "data_columns =  ['X Accel', 'Y Accel', 'Z Accel', 'X Gyro', 'Y Gyro', 'Z Gyro']\n",
    "synthesis_columns = ['Calc X Accel', 'Calc X Vel', 'Calc Z Gyro', 'Run Time', 'Epoch Time']\n",
    "\n",
    "'''Get columns for given label'''\n",
    "def get_columns(_label):\n",
    "    \n",
    "    # Columns are different for synthesis data\n",
    "    if 'Middle' in _label or 'Left' in _label or 'Right' in _label:\n",
    "        columns = std_columns.copy()\n",
    "    elif 'Synthesis' in _label:\n",
    "        columns = synthesis_columns.copy()\n",
    "    else:\n",
    "        raise Exception('Unknown label')\n",
    "    \n",
    "    # For transformed datasets replace time columns with frequency\n",
    "    if 'FFT' in _label or 'PSD' in _label:\n",
    "        columns.remove('Epoch Time')\n",
    "        \n",
    "        if 'Run Time' in columns:\n",
    "            columns.remove('Run Time')\n",
    "        \n",
    "        columns.append('Frequency')\n",
    "        \n",
    "    return columns"
   ]
  },
  {
   "cell_type": "code",
   "execution_count": 3,
   "metadata": {},
   "outputs": [],
   "source": [
    "# Types of terrains, placements, and transforms used\n",
    "terrains = ['Concrete', 'Carpet', 'Linoleum', 'Asphalt', 'Sidewalk', 'Grass', 'Gravel']"
   ]
  },
  {
   "cell_type": "markdown",
   "metadata": {},
   "source": [
    "### Part (b) - Import Processed Data from Each User"
   ]
  },
  {
   "cell_type": "code",
   "execution_count": 4,
   "metadata": {},
   "outputs": [],
   "source": [
    "'''Combine data from labelled datasets into a single dataframe'''\n",
    "def combine_datasets(datasets):\n",
    "    return pd.concat(list(datasets.values()), ignore_index=True, sort=True)"
   ]
  },
  {
   "cell_type": "code",
   "execution_count": 5,
   "metadata": {},
   "outputs": [],
   "source": [
    "placements = ['Middle', 'Left', 'Right', 'Synthesis']\n",
    "vectors = ['Features', 'FFTs', 'PSDLogs']\n",
    "users = ['Keenan', 'Kevin', 'Mahsa']\n",
    "path = 'processed_data/upgraded_manual/' \n",
    "\n",
    "# Nested dictionary of processed data\n",
    "## Placement\n",
    "### Feature Vector\n",
    "#### User\n",
    "placement_dict = {}\n",
    "    \n",
    "for placement in placements:\n",
    "    vector_dict = {}\n",
    "\n",
    "    for vector in vectors:\n",
    "        user_dict = {}\n",
    "        \n",
    "        for user in users:\n",
    "            # Get relative file location\n",
    "            \n",
    "            filename = placement + '_' + vector + '_Filt_' + user + '.csv' \n",
    "\n",
    "            # Read data and update current user dictionary\n",
    "            data = pd.read_csv(path + filename)\n",
    "            user_dict.update({user: data})\n",
    "        \n",
    "        # Combine users to form a new entry of user dictionary, save to .csv\n",
    "        # NaNs carry over from issues in original data\n",
    "        combined_data = combine_datasets(user_dict).dropna(axis='columns')\n",
    "        combined_data = combined_data \n",
    "        combined_data.to_csv(path + placement + '_' + vector + '_Filt_Combined.csv', index=False)\n",
    "        user_dict.update({'Combined': combined_data})\n",
    "        \n",
    "        vector_dict.update({vector: user_dict})\n",
    "    \n",
    "    placement_dict.update({placement: vector_dict})"
   ]
  },
  {
   "cell_type": "code",
   "execution_count": 6,
   "metadata": {},
   "outputs": [
    {
     "data": {
      "text/html": [
       "<div>\n",
       "<style scoped>\n",
       "    .dataframe tbody tr th:only-of-type {\n",
       "        vertical-align: middle;\n",
       "    }\n",
       "\n",
       "    .dataframe tbody tr th {\n",
       "        vertical-align: top;\n",
       "    }\n",
       "\n",
       "    .dataframe thead th {\n",
       "        text-align: right;\n",
       "    }\n",
       "</style>\n",
       "<table border=\"1\" class=\"dataframe\">\n",
       "  <thead>\n",
       "    <tr style=\"text-align: right;\">\n",
       "      <th></th>\n",
       "      <th>Autocorrelation Calc X Vel Synthesis</th>\n",
       "      <th>Autocorrelation Calc Z Gyro Synthesis</th>\n",
       "      <th>Excess Kurtosis Calc X Vel Synthesis</th>\n",
       "      <th>Excess Kurtosis Calc Z Gyro Synthesis</th>\n",
       "      <th>Frequency Center Calc X Vel Synthesis</th>\n",
       "      <th>Frequency Center Calc Z Gyro Synthesis</th>\n",
       "      <th>L2 Norm Calc X Vel Synthesis</th>\n",
       "      <th>L2 Norm Calc Z Gyro Synthesis</th>\n",
       "      <th>Label</th>\n",
       "      <th>Max Calc X Vel Synthesis</th>\n",
       "      <th>...</th>\n",
       "      <th>Root Variance Frequency Calc X Vel Synthesis</th>\n",
       "      <th>Root Variance Frequency Calc Z Gyro Synthesis</th>\n",
       "      <th>Skew Calc X Vel Synthesis</th>\n",
       "      <th>Skew Calc Z Gyro Synthesis</th>\n",
       "      <th>Std Dev Calc X Vel Synthesis</th>\n",
       "      <th>Std Dev Calc Z Gyro Synthesis</th>\n",
       "      <th>Variance Frequency Calc X Vel Synthesis</th>\n",
       "      <th>Variance Frequency Calc Z Gyro Synthesis</th>\n",
       "      <th>Zero Crossing Rate Calc X Vel Synthesis</th>\n",
       "      <th>Zero Crossing Rate Calc Z Gyro Synthesis</th>\n",
       "    </tr>\n",
       "  </thead>\n",
       "  <tbody>\n",
       "    <tr>\n",
       "      <th>6893</th>\n",
       "      <td>0.554015</td>\n",
       "      <td>0.408804</td>\n",
       "      <td>1.052426</td>\n",
       "      <td>-0.365399</td>\n",
       "      <td>3.042858</td>\n",
       "      <td>0.745413</td>\n",
       "      <td>0.503205</td>\n",
       "      <td>0.679275</td>\n",
       "      <td>4</td>\n",
       "      <td>0.211290</td>\n",
       "      <td>...</td>\n",
       "      <td>0.025851</td>\n",
       "      <td>-0.549667</td>\n",
       "      <td>-1.555756</td>\n",
       "      <td>0.872356</td>\n",
       "      <td>-0.765704</td>\n",
       "      <td>-0.106760</td>\n",
       "      <td>-4.127901</td>\n",
       "      <td>-0.518106</td>\n",
       "      <td>-0.205036</td>\n",
       "      <td>-0.223452</td>\n",
       "    </tr>\n",
       "    <tr>\n",
       "      <th>6894</th>\n",
       "      <td>-2.159373</td>\n",
       "      <td>-0.559781</td>\n",
       "      <td>0.040490</td>\n",
       "      <td>-0.800244</td>\n",
       "      <td>0.664605</td>\n",
       "      <td>-0.382037</td>\n",
       "      <td>-1.942073</td>\n",
       "      <td>-0.655184</td>\n",
       "      <td>4</td>\n",
       "      <td>-0.299933</td>\n",
       "      <td>...</td>\n",
       "      <td>3.304603</td>\n",
       "      <td>0.596189</td>\n",
       "      <td>1.692548</td>\n",
       "      <td>-0.625821</td>\n",
       "      <td>2.917684</td>\n",
       "      <td>1.865722</td>\n",
       "      <td>-0.329394</td>\n",
       "      <td>0.503558</td>\n",
       "      <td>0.725512</td>\n",
       "      <td>0.552058</td>\n",
       "    </tr>\n",
       "    <tr>\n",
       "      <th>6895</th>\n",
       "      <td>-2.686132</td>\n",
       "      <td>-1.003065</td>\n",
       "      <td>3.745778</td>\n",
       "      <td>3.106931</td>\n",
       "      <td>1.185065</td>\n",
       "      <td>0.718053</td>\n",
       "      <td>-3.413512</td>\n",
       "      <td>-2.153352</td>\n",
       "      <td>4</td>\n",
       "      <td>-3.619477</td>\n",
       "      <td>...</td>\n",
       "      <td>0.094280</td>\n",
       "      <td>-0.876296</td>\n",
       "      <td>-3.451242</td>\n",
       "      <td>3.296178</td>\n",
       "      <td>-0.836251</td>\n",
       "      <td>-1.514057</td>\n",
       "      <td>-0.927175</td>\n",
       "      <td>-0.486877</td>\n",
       "      <td>-0.205036</td>\n",
       "      <td>-0.223452</td>\n",
       "    </tr>\n",
       "    <tr>\n",
       "      <th>6896</th>\n",
       "      <td>-2.668497</td>\n",
       "      <td>-0.972741</td>\n",
       "      <td>0.381692</td>\n",
       "      <td>-0.264521</td>\n",
       "      <td>0.100096</td>\n",
       "      <td>1.429155</td>\n",
       "      <td>-3.248980</td>\n",
       "      <td>-1.878283</td>\n",
       "      <td>4</td>\n",
       "      <td>-3.170527</td>\n",
       "      <td>...</td>\n",
       "      <td>0.370808</td>\n",
       "      <td>-0.061541</td>\n",
       "      <td>1.175944</td>\n",
       "      <td>-0.629877</td>\n",
       "      <td>-0.322070</td>\n",
       "      <td>-1.115715</td>\n",
       "      <td>0.169504</td>\n",
       "      <td>-1.409185</td>\n",
       "      <td>1.656061</td>\n",
       "      <td>2.878590</td>\n",
       "    </tr>\n",
       "    <tr>\n",
       "      <th>6897</th>\n",
       "      <td>-2.692987</td>\n",
       "      <td>-1.007679</td>\n",
       "      <td>0.117849</td>\n",
       "      <td>-0.007054</td>\n",
       "      <td>2.881813</td>\n",
       "      <td>1.998173</td>\n",
       "      <td>-3.554982</td>\n",
       "      <td>-2.235792</td>\n",
       "      <td>4</td>\n",
       "      <td>-3.469993</td>\n",
       "      <td>...</td>\n",
       "      <td>-0.402992</td>\n",
       "      <td>-1.150548</td>\n",
       "      <td>0.087653</td>\n",
       "      <td>0.261922</td>\n",
       "      <td>-1.174978</td>\n",
       "      <td>-1.776810</td>\n",
       "      <td>-3.784344</td>\n",
       "      <td>-2.308493</td>\n",
       "      <td>7.239351</td>\n",
       "      <td>6.756143</td>\n",
       "    </tr>\n",
       "  </tbody>\n",
       "</table>\n",
       "<p>5 rows × 31 columns</p>\n",
       "</div>"
      ],
      "text/plain": [
       "      Autocorrelation Calc X Vel Synthesis  \\\n",
       "6893                              0.554015   \n",
       "6894                             -2.159373   \n",
       "6895                             -2.686132   \n",
       "6896                             -2.668497   \n",
       "6897                             -2.692987   \n",
       "\n",
       "      Autocorrelation Calc Z Gyro Synthesis  \\\n",
       "6893                               0.408804   \n",
       "6894                              -0.559781   \n",
       "6895                              -1.003065   \n",
       "6896                              -0.972741   \n",
       "6897                              -1.007679   \n",
       "\n",
       "      Excess Kurtosis Calc X Vel Synthesis  \\\n",
       "6893                              1.052426   \n",
       "6894                              0.040490   \n",
       "6895                              3.745778   \n",
       "6896                              0.381692   \n",
       "6897                              0.117849   \n",
       "\n",
       "      Excess Kurtosis Calc Z Gyro Synthesis  \\\n",
       "6893                              -0.365399   \n",
       "6894                              -0.800244   \n",
       "6895                               3.106931   \n",
       "6896                              -0.264521   \n",
       "6897                              -0.007054   \n",
       "\n",
       "      Frequency Center Calc X Vel Synthesis  \\\n",
       "6893                               3.042858   \n",
       "6894                               0.664605   \n",
       "6895                               1.185065   \n",
       "6896                               0.100096   \n",
       "6897                               2.881813   \n",
       "\n",
       "      Frequency Center Calc Z Gyro Synthesis  L2 Norm Calc X Vel Synthesis  \\\n",
       "6893                                0.745413                      0.503205   \n",
       "6894                               -0.382037                     -1.942073   \n",
       "6895                                0.718053                     -3.413512   \n",
       "6896                                1.429155                     -3.248980   \n",
       "6897                                1.998173                     -3.554982   \n",
       "\n",
       "      L2 Norm Calc Z Gyro Synthesis  Label  Max Calc X Vel Synthesis  ...  \\\n",
       "6893                       0.679275      4                  0.211290  ...   \n",
       "6894                      -0.655184      4                 -0.299933  ...   \n",
       "6895                      -2.153352      4                 -3.619477  ...   \n",
       "6896                      -1.878283      4                 -3.170527  ...   \n",
       "6897                      -2.235792      4                 -3.469993  ...   \n",
       "\n",
       "      Root Variance Frequency Calc X Vel Synthesis  \\\n",
       "6893                                      0.025851   \n",
       "6894                                      3.304603   \n",
       "6895                                      0.094280   \n",
       "6896                                      0.370808   \n",
       "6897                                     -0.402992   \n",
       "\n",
       "      Root Variance Frequency Calc Z Gyro Synthesis  \\\n",
       "6893                                      -0.549667   \n",
       "6894                                       0.596189   \n",
       "6895                                      -0.876296   \n",
       "6896                                      -0.061541   \n",
       "6897                                      -1.150548   \n",
       "\n",
       "      Skew Calc X Vel Synthesis  Skew Calc Z Gyro Synthesis  \\\n",
       "6893                  -1.555756                    0.872356   \n",
       "6894                   1.692548                   -0.625821   \n",
       "6895                  -3.451242                    3.296178   \n",
       "6896                   1.175944                   -0.629877   \n",
       "6897                   0.087653                    0.261922   \n",
       "\n",
       "      Std Dev Calc X Vel Synthesis  Std Dev Calc Z Gyro Synthesis  \\\n",
       "6893                     -0.765704                      -0.106760   \n",
       "6894                      2.917684                       1.865722   \n",
       "6895                     -0.836251                      -1.514057   \n",
       "6896                     -0.322070                      -1.115715   \n",
       "6897                     -1.174978                      -1.776810   \n",
       "\n",
       "      Variance Frequency Calc X Vel Synthesis  \\\n",
       "6893                                -4.127901   \n",
       "6894                                -0.329394   \n",
       "6895                                -0.927175   \n",
       "6896                                 0.169504   \n",
       "6897                                -3.784344   \n",
       "\n",
       "      Variance Frequency Calc Z Gyro Synthesis  \\\n",
       "6893                                 -0.518106   \n",
       "6894                                  0.503558   \n",
       "6895                                 -0.486877   \n",
       "6896                                 -1.409185   \n",
       "6897                                 -2.308493   \n",
       "\n",
       "      Zero Crossing Rate Calc X Vel Synthesis  \\\n",
       "6893                                -0.205036   \n",
       "6894                                 0.725512   \n",
       "6895                                -0.205036   \n",
       "6896                                 1.656061   \n",
       "6897                                 7.239351   \n",
       "\n",
       "      Zero Crossing Rate Calc Z Gyro Synthesis  \n",
       "6893                                 -0.223452  \n",
       "6894                                  0.552058  \n",
       "6895                                 -0.223452  \n",
       "6896                                  2.878590  \n",
       "6897                                  6.756143  \n",
       "\n",
       "[5 rows x 31 columns]"
      ]
     },
     "execution_count": 6,
     "metadata": {},
     "output_type": "execute_result"
    }
   ],
   "source": [
    "# Check some data\n",
    "placement_dict['Synthesis']['Features']['Combined'].tail()"
   ]
  },
  {
   "cell_type": "markdown",
   "metadata": {},
   "source": [
    "## Part 2 - Feature Selection mRMR (minimum Redunancy Maximum Relevance)\n",
    "\n",
    "Try to find which features are most relevant, from all directions.\n",
    "\n",
    "Features can be transforms or extracted features.\n",
    "\n",
    "mRMR tries to find which features have the highest correlation to classified state and lowest correlation with other variables."
   ]
  },
  {
   "cell_type": "markdown",
   "metadata": {},
   "source": [
    "### Part (a) - Middle Frame Placement"
   ]
  },
  {
   "cell_type": "code",
   "execution_count": 7,
   "metadata": {},
   "outputs": [
    {
     "data": {
      "text/plain": [
       "['Root Mean Squared X Accel Middle',\n",
       " 'Autocorrelation Y Gyro Middle',\n",
       " 'Std Dev X Accel Middle',\n",
       " 'L2 Norm X Accel Middle',\n",
       " 'Mean X Accel Middle',\n",
       " 'Max X Accel Middle',\n",
       " 'Min X Accel Middle',\n",
       " 'Mean Square Frequency X Accel Middle',\n",
       " 'Std Dev X Gyro Middle',\n",
       " 'Max Z Gyro Middle']"
      ]
     },
     "execution_count": 7,
     "metadata": {},
     "output_type": "execute_result"
    }
   ],
   "source": [
    "pymrmr.mRMR(data=placement_dict['Middle']['Features']['Combined'], method='MID', nfeats=10)"
   ]
  },
  {
   "cell_type": "code",
   "execution_count": 8,
   "metadata": {},
   "outputs": [
    {
     "data": {
      "text/plain": [
       "['FFT 0.0 Hz Z Gyro Middle',\n",
       " 'FFT 38.0 Hz Y Accel Middle',\n",
       " 'FFT 13.0 Hz X Accel Middle',\n",
       " 'FFT 15.0 Hz Y Accel Middle',\n",
       " 'FFT 54.0 Hz Y Accel Middle',\n",
       " 'FFT 32.0 Hz Z Accel Middle',\n",
       " 'FFT 12.0 Hz X Accel Middle',\n",
       " 'FFT 7.0 Hz X Accel Middle',\n",
       " 'FFT 3.0 Hz X Accel Middle',\n",
       " 'FFT 32.0 Hz Y Accel Middle']"
      ]
     },
     "execution_count": 8,
     "metadata": {},
     "output_type": "execute_result"
    }
   ],
   "source": [
    "pymrmr.mRMR(data=placement_dict['Middle']['FFTs']['Combined'], method='MID', nfeats=10)"
   ]
  },
  {
   "cell_type": "code",
   "execution_count": 9,
   "metadata": {},
   "outputs": [
    {
     "data": {
      "text/plain": [
       "['PSD 33.0 Hz Y Gyro Middle',\n",
       " 'PSD 0.0 Hz Y Gyro Middle',\n",
       " 'PSD 54.0 Hz Y Accel Middle',\n",
       " 'PSD 2.0 Hz Y Gyro Middle',\n",
       " 'PSD 59.0 Hz Y Accel Middle',\n",
       " 'PSD 45.0 Hz Y Accel Middle',\n",
       " 'PSD 9.0 Hz Y Gyro Middle',\n",
       " 'PSD 58.0 Hz Y Accel Middle',\n",
       " 'PSD 1.0 Hz Y Gyro Middle',\n",
       " 'PSD 38.0 Hz Y Gyro Middle']"
      ]
     },
     "execution_count": 9,
     "metadata": {},
     "output_type": "execute_result"
    }
   ],
   "source": [
    "pymrmr.mRMR(data=placement_dict['Middle']['PSDLogs']['Combined'], method='MID', nfeats=10)"
   ]
  },
  {
   "cell_type": "markdown",
   "metadata": {},
   "source": [
    "### Part (b) - Left Wheel Placement"
   ]
  },
  {
   "cell_type": "code",
   "execution_count": 10,
   "metadata": {},
   "outputs": [
    {
     "data": {
      "text/plain": [
       "['Root Mean Squared X Accel Left',\n",
       " 'Mean Y Accel Left',\n",
       " 'L2 Norm X Accel Left',\n",
       " 'Autocorrelation Y Accel Left',\n",
       " 'Max X Accel Left',\n",
       " 'L2 Norm Y Accel Left',\n",
       " 'Zero Crossing Rate Y Accel Left',\n",
       " 'Root Mean Squared Y Accel Left',\n",
       " 'Autocorrelation Z Gyro Left',\n",
       " 'Frequency Center Y Accel Left']"
      ]
     },
     "execution_count": 10,
     "metadata": {},
     "output_type": "execute_result"
    }
   ],
   "source": [
    "pymrmr.mRMR(data=placement_dict['Left']['Features']['Combined'], method='MID', nfeats=10)"
   ]
  },
  {
   "cell_type": "code",
   "execution_count": 11,
   "metadata": {},
   "outputs": [
    {
     "data": {
      "text/plain": [
       "['FFT 1.0 Hz X Accel Left',\n",
       " 'FFT 2.0 Hz Y Accel Left',\n",
       " 'FFT 0.0 Hz X Gyro Left',\n",
       " 'FFT 2.0 Hz X Accel Left',\n",
       " 'FFT 0.0 Hz Z Gyro Left',\n",
       " 'FFT 3.0 Hz Y Accel Left',\n",
       " 'FFT 3.0 Hz X Accel Left',\n",
       " 'FFT 0.0 Hz Y Accel Left',\n",
       " 'FFT 5.0 Hz Y Accel Left',\n",
       " 'FFT 0.0 Hz Z Accel Left']"
      ]
     },
     "execution_count": 11,
     "metadata": {},
     "output_type": "execute_result"
    }
   ],
   "source": [
    "pymrmr.mRMR(data=placement_dict['Left']['FFTs']['Combined'], method='MID', nfeats=10)"
   ]
  },
  {
   "cell_type": "code",
   "execution_count": 12,
   "metadata": {},
   "outputs": [
    {
     "data": {
      "text/plain": [
       "['PSD 61.0 Hz Z Accel Left',\n",
       " 'PSD 49.0 Hz Y Gyro Left',\n",
       " 'PSD 36.0 Hz Z Accel Left',\n",
       " 'PSD 40.0 Hz Z Accel Left',\n",
       " 'PSD 55.0 Hz Z Accel Left',\n",
       " 'PSD 16.0 Hz Z Accel Left',\n",
       " 'PSD 63.0 Hz Z Accel Left',\n",
       " 'PSD 25.0 Hz Z Accel Left',\n",
       " 'PSD 39.0 Hz Z Accel Left',\n",
       " 'PSD 59.0 Hz Z Accel Left']"
      ]
     },
     "execution_count": 12,
     "metadata": {},
     "output_type": "execute_result"
    }
   ],
   "source": [
    "pymrmr.mRMR(data=placement_dict['Left']['PSDLogs']['Combined'], method='MID', nfeats=10)"
   ]
  },
  {
   "cell_type": "markdown",
   "metadata": {},
   "source": [
    "### Part (c) - Right Wheel Placement"
   ]
  },
  {
   "cell_type": "code",
   "execution_count": 13,
   "metadata": {},
   "outputs": [
    {
     "data": {
      "text/plain": [
       "['Root Mean Squared X Accel Right',\n",
       " 'Autocorrelation Y Accel Right',\n",
       " 'L2 Norm X Accel Right',\n",
       " 'Zero Crossing Rate Y Accel Right',\n",
       " 'Mean X Accel Right',\n",
       " 'Root Mean Squared Y Accel Right',\n",
       " 'Std Dev Y Accel Right',\n",
       " 'Mean Y Accel Right',\n",
       " 'L2 Norm Y Accel Right',\n",
       " 'Frequency Center X Accel Right']"
      ]
     },
     "execution_count": 13,
     "metadata": {},
     "output_type": "execute_result"
    }
   ],
   "source": [
    "pymrmr.mRMR(data=placement_dict['Right']['Features']['Combined'], method='MID', nfeats=10)"
   ]
  },
  {
   "cell_type": "code",
   "execution_count": 14,
   "metadata": {},
   "outputs": [
    {
     "data": {
      "text/plain": [
       "['FFT 1.0 Hz X Accel Right',\n",
       " 'FFT 2.0 Hz Y Accel Right',\n",
       " 'FFT 2.0 Hz X Accel Right',\n",
       " 'FFT 0.0 Hz X Gyro Right',\n",
       " 'FFT 0.0 Hz Y Accel Right',\n",
       " 'FFT 0.0 Hz Z Gyro Right',\n",
       " 'FFT 3.0 Hz Y Accel Right',\n",
       " 'FFT 3.0 Hz X Accel Right',\n",
       " 'FFT 4.0 Hz X Accel Right',\n",
       " 'FFT 5.0 Hz Y Accel Right']"
      ]
     },
     "execution_count": 14,
     "metadata": {},
     "output_type": "execute_result"
    }
   ],
   "source": [
    "pymrmr.mRMR(data=placement_dict['Right']['FFTs']['Combined'], method='MID', nfeats=10)"
   ]
  },
  {
   "cell_type": "code",
   "execution_count": 15,
   "metadata": {},
   "outputs": [
    {
     "data": {
      "text/plain": [
       "['PSD 63.0 Hz Z Accel Right',\n",
       " 'PSD 16.0 Hz Z Accel Right',\n",
       " 'PSD 41.0 Hz Z Accel Right',\n",
       " 'PSD 54.0 Hz Z Accel Right',\n",
       " 'PSD 12.0 Hz Z Accel Right',\n",
       " 'PSD 61.0 Hz Z Accel Right',\n",
       " 'PSD 46.0 Hz X Accel Right',\n",
       " 'PSD 25.0 Hz Z Accel Right',\n",
       " 'PSD 62.0 Hz Z Accel Right',\n",
       " 'PSD 47.0 Hz Y Accel Right']"
      ]
     },
     "execution_count": 15,
     "metadata": {},
     "output_type": "execute_result"
    }
   ],
   "source": [
    "pymrmr.mRMR(data=placement_dict['Right']['PSDLogs']['Combined'], method='MID', nfeats=10)"
   ]
  },
  {
   "cell_type": "markdown",
   "metadata": {},
   "source": [
    "### Part (d) - Synthesis \"Placement\""
   ]
  },
  {
   "cell_type": "code",
   "execution_count": 32,
   "metadata": {},
   "outputs": [
    {
     "data": {
      "text/plain": [
       "['Root Mean Squared Calc X Vel Synthesis',\n",
       " 'Min Calc X Vel Synthesis',\n",
       " 'Max Calc X Vel Synthesis',\n",
       " 'Mean Calc X Vel Synthesis',\n",
       " 'L2 Norm Calc X Vel Synthesis',\n",
       " 'Zero Crossing Rate Calc Z Gyro Synthesis',\n",
       " 'Autocorrelation Calc Z Gyro Synthesis',\n",
       " 'Skew Calc X Vel Synthesis',\n",
       " 'Zero Crossing Rate Calc X Vel Synthesis',\n",
       " 'Frequency Center Calc Z Gyro Synthesis']"
      ]
     },
     "execution_count": 32,
     "metadata": {},
     "output_type": "execute_result"
    }
   ],
   "source": [
    "pymrmr.mRMR(data=placement_dict['Synthesis']['Features']['Combined'], method='MID', nfeats=10)"
   ]
  },
  {
   "cell_type": "code",
   "execution_count": 17,
   "metadata": {},
   "outputs": [
    {
     "data": {
      "text/plain": [
       "['Label',\n",
       " 'FFT 0.0 Hz Calc Z Gyro Synthesis',\n",
       " 'FFT 1.0 Hz Calc Z Gyro Synthesis',\n",
       " 'FFT 5.0 Hz Calc Z Gyro Synthesis',\n",
       " 'FFT 47.0 Hz Calc Z Gyro Synthesis',\n",
       " 'FFT 48.0 Hz Calc X Vel Synthesis',\n",
       " 'FFT 48.0 Hz Calc Z Gyro Synthesis',\n",
       " 'FFT 49.0 Hz Calc X Vel Synthesis',\n",
       " 'FFT 49.0 Hz Calc Z Gyro Synthesis',\n",
       " 'FFT 46.0 Hz Calc Z Gyro Synthesis']"
      ]
     },
     "execution_count": 17,
     "metadata": {},
     "output_type": "execute_result"
    }
   ],
   "source": [
    "pymrmr.mRMR(data=placement_dict['Synthesis']['FFTs']['Combined'], method='MID', nfeats=10)"
   ]
  },
  {
   "cell_type": "code",
   "execution_count": 18,
   "metadata": {},
   "outputs": [
    {
     "data": {
      "text/plain": [
       "['PSD 49.0 Hz Calc Z Gyro Synthesis',\n",
       " 'PSD 0.0 Hz Calc X Vel Synthesis',\n",
       " 'PSD 0.0 Hz Calc Z Gyro Synthesis',\n",
       " 'PSD 51.0 Hz Calc X Vel Synthesis',\n",
       " 'PSD 3.0 Hz Calc Z Gyro Synthesis',\n",
       " 'PSD 1.0 Hz Calc X Vel Synthesis',\n",
       " 'PSD 53.0 Hz Calc Z Gyro Synthesis',\n",
       " 'PSD 2.0 Hz Calc Z Gyro Synthesis',\n",
       " 'PSD 2.0 Hz Calc X Vel Synthesis',\n",
       " 'PSD 1.0 Hz Calc Z Gyro Synthesis']"
      ]
     },
     "execution_count": 18,
     "metadata": {},
     "output_type": "execute_result"
    }
   ],
   "source": [
    "pymrmr.mRMR(data=placement_dict['Synthesis']['PSDLogs']['Combined'], method='MID', nfeats=10)"
   ]
  },
  {
   "cell_type": "markdown",
   "metadata": {},
   "source": [
    "## Part 3 - Combining Data from Each Placement"
   ]
  },
  {
   "cell_type": "markdown",
   "metadata": {},
   "source": [
    "## Part 4 - Training Classifiers"
   ]
  },
  {
   "cell_type": "code",
   "execution_count": 27,
   "metadata": {},
   "outputs": [],
   "source": [
    "from sklearn.model_selection import KFold\n",
    "\n",
    "'''Run train test k-fold times\n",
    "   Returns predicted labels for each K Fold Test'''\n",
    "\n",
    "def train_test_k_fold(combined_data, n_splits, model):\n",
    "    kf = KFold(n_splits=n_splits, shuffle=True)\n",
    "\n",
    "    # Copy data\n",
    "    data = combined_data.copy()\n",
    "    \n",
    "    # Extract terrain labels\n",
    "    labels = data.pop('Label')\n",
    "\n",
    "    # Array of predicted labels for each k fold\n",
    "    predict_k_fold = []\n",
    "    test_k_fold = []\n",
    "\n",
    "    # Split into n splits\n",
    "    for train_index, test_index in kf.split(data):\n",
    "        train, test = data.loc[train_index], data.loc[test_index]\n",
    "        train_labels, test_labels = labels.loc[train_index], labels.loc[test_index]\n",
    "\n",
    "        # Train and test model\n",
    "        model.fit(train, train_labels)\n",
    "        predict_k_fold.append(model.predict(test))\n",
    "        test_k_fold.append(test_labels)\n",
    "\n",
    "    \n",
    "    return (test_k_fold, predict_k_fold)"
   ]
  },
  {
   "cell_type": "markdown",
   "metadata": {},
   "source": [
    "### Part (a) - Create Accuracy Table"
   ]
  },
  {
   "cell_type": "code",
   "execution_count": 28,
   "metadata": {},
   "outputs": [],
   "source": [
    "from sklearn.naive_bayes import GaussianNB\n",
    "from sklearn.neighbors import KNeighborsClassifier\n",
    "from sklearn.tree import DecisionTreeClassifier\n",
    "from sklearn.ensemble import RandomForestClassifier\n",
    "from sklearn.ensemble import AdaBoostClassifier\n",
    "from sklearn.svm import SVC\n",
    "from sklearn.metrics import accuracy_score\n",
    "\n",
    "# Dictionary of classifiers\n",
    "classifiers = {'Naive Bayes': GaussianNB(),\n",
    "               'k Nearest': KNeighborsClassifier(),\n",
    "               'Decision Tree': DecisionTreeClassifier(), \n",
    "               'Random Forest': RandomForestClassifier(n_estimators=100),\n",
    "               'AdaBoost': AdaBoostClassifier(),\n",
    "               'Support Vector Machine': SVC(gamma='scale')}"
   ]
  },
  {
   "cell_type": "code",
   "execution_count": 29,
   "metadata": {},
   "outputs": [],
   "source": [
    "def create_accuracy_table(n_splits, user_name='Combined'):\n",
    "    # Dataframe table of accuracies for each classifier for each placement\n",
    "    vector_indices = [placement + ' ' + vector for placement in placements for vector in vectors]\n",
    "    accuracy_table = pd.DataFrame({'Vector': vector_indices})\n",
    "\n",
    "    # Calculate accuracy for each placement for each feature vector and classifier\n",
    "    for classifier_name, classifier in classifiers.items():\n",
    "        model = classifier\n",
    "\n",
    "        # Row dictionary for given model\n",
    "        rows = {}\n",
    "\n",
    "        # Add current axis and classifier to row dictionary\n",
    "        for placement in placements:\n",
    "            for vector in vectors:\n",
    "                index_name = placement + ' ' + vector\n",
    "\n",
    "                # Extract predicted and actual labels for requested user\n",
    "                actual, predict = train_test_k_fold(placement_dict[placement][vector][user_name], \n",
    "                                                    n_splits, model)\n",
    "\n",
    "                # Take mean accuracy of k fold testing\n",
    "                accuracies = []\n",
    "                for i in range(len(predict)):\n",
    "                    accuracies.append(accuracy_score(actual[i], predict[i]))\n",
    "                rows.update({index_name: np.mean(accuracies)})\n",
    "\n",
    "        # Update accuracy table with classifier column by mapping row names to indices\n",
    "        accuracy_table[classifier_name] = accuracy_table['Vector'].map(rows)\n",
    "    return accuracy_table"
   ]
  },
  {
   "cell_type": "code",
   "execution_count": 30,
   "metadata": {},
   "outputs": [],
   "source": [
    "# Create accuracy table for 5 splits\n",
    "accuracy_table = create_accuracy_table(5)"
   ]
  },
  {
   "cell_type": "code",
   "execution_count": 31,
   "metadata": {},
   "outputs": [
    {
     "data": {
      "text/html": [
       "<div>\n",
       "<style scoped>\n",
       "    .dataframe tbody tr th:only-of-type {\n",
       "        vertical-align: middle;\n",
       "    }\n",
       "\n",
       "    .dataframe tbody tr th {\n",
       "        vertical-align: top;\n",
       "    }\n",
       "\n",
       "    .dataframe thead th {\n",
       "        text-align: right;\n",
       "    }\n",
       "</style>\n",
       "<table border=\"1\" class=\"dataframe\">\n",
       "  <thead>\n",
       "    <tr style=\"text-align: right;\">\n",
       "      <th></th>\n",
       "      <th>Vector</th>\n",
       "      <th>Naive Bayes</th>\n",
       "      <th>k Nearest</th>\n",
       "      <th>Decision Tree</th>\n",
       "      <th>Random Forest</th>\n",
       "      <th>AdaBoost</th>\n",
       "      <th>Support Vector Machine</th>\n",
       "    </tr>\n",
       "  </thead>\n",
       "  <tbody>\n",
       "    <tr>\n",
       "      <th>0</th>\n",
       "      <td>Middle Features</td>\n",
       "      <td>0.129525</td>\n",
       "      <td>0.502706</td>\n",
       "      <td>0.774517</td>\n",
       "      <td>0.756831</td>\n",
       "      <td>0.473558</td>\n",
       "      <td>0.678402</td>\n",
       "    </tr>\n",
       "    <tr>\n",
       "      <th>1</th>\n",
       "      <td>Middle FFTs</td>\n",
       "      <td>0.506471</td>\n",
       "      <td>0.647780</td>\n",
       "      <td>0.615037</td>\n",
       "      <td>0.787124</td>\n",
       "      <td>0.533974</td>\n",
       "      <td>0.749468</td>\n",
       "    </tr>\n",
       "    <tr>\n",
       "      <th>2</th>\n",
       "      <td>Middle PSDLogs</td>\n",
       "      <td>0.560173</td>\n",
       "      <td>0.707221</td>\n",
       "      <td>0.576714</td>\n",
       "      <td>0.756509</td>\n",
       "      <td>0.536432</td>\n",
       "      <td>0.798098</td>\n",
       "    </tr>\n",
       "    <tr>\n",
       "      <th>3</th>\n",
       "      <td>Left Features</td>\n",
       "      <td>0.103896</td>\n",
       "      <td>0.414074</td>\n",
       "      <td>0.899592</td>\n",
       "      <td>0.903380</td>\n",
       "      <td>0.316703</td>\n",
       "      <td>0.556349</td>\n",
       "    </tr>\n",
       "    <tr>\n",
       "      <th>4</th>\n",
       "      <td>Left FFTs</td>\n",
       "      <td>0.481117</td>\n",
       "      <td>0.442587</td>\n",
       "      <td>0.512205</td>\n",
       "      <td>0.685575</td>\n",
       "      <td>0.512518</td>\n",
       "      <td>0.600789</td>\n",
       "    </tr>\n",
       "    <tr>\n",
       "      <th>5</th>\n",
       "      <td>Left PSDLogs</td>\n",
       "      <td>0.476417</td>\n",
       "      <td>0.508121</td>\n",
       "      <td>0.482177</td>\n",
       "      <td>0.672841</td>\n",
       "      <td>0.498712</td>\n",
       "      <td>0.712874</td>\n",
       "    </tr>\n",
       "    <tr>\n",
       "      <th>6</th>\n",
       "      <td>Right Features</td>\n",
       "      <td>0.105294</td>\n",
       "      <td>0.404844</td>\n",
       "      <td>0.926787</td>\n",
       "      <td>0.925772</td>\n",
       "      <td>0.524567</td>\n",
       "      <td>0.563218</td>\n",
       "    </tr>\n",
       "    <tr>\n",
       "      <th>7</th>\n",
       "      <td>Right FFTs</td>\n",
       "      <td>0.484468</td>\n",
       "      <td>0.443196</td>\n",
       "      <td>0.500799</td>\n",
       "      <td>0.649851</td>\n",
       "      <td>0.515092</td>\n",
       "      <td>0.604494</td>\n",
       "    </tr>\n",
       "    <tr>\n",
       "      <th>8</th>\n",
       "      <td>Right PSDLogs</td>\n",
       "      <td>0.464781</td>\n",
       "      <td>0.515381</td>\n",
       "      <td>0.467258</td>\n",
       "      <td>0.640511</td>\n",
       "      <td>0.513344</td>\n",
       "      <td>0.673765</td>\n",
       "    </tr>\n",
       "    <tr>\n",
       "      <th>9</th>\n",
       "      <td>Synthesis Features</td>\n",
       "      <td>0.131198</td>\n",
       "      <td>0.258770</td>\n",
       "      <td>0.928385</td>\n",
       "      <td>0.850680</td>\n",
       "      <td>0.317777</td>\n",
       "      <td>0.316760</td>\n",
       "    </tr>\n",
       "    <tr>\n",
       "      <th>10</th>\n",
       "      <td>Synthesis FFTs</td>\n",
       "      <td>0.248624</td>\n",
       "      <td>0.350682</td>\n",
       "      <td>0.346478</td>\n",
       "      <td>0.488110</td>\n",
       "      <td>0.353293</td>\n",
       "      <td>0.356770</td>\n",
       "    </tr>\n",
       "    <tr>\n",
       "      <th>11</th>\n",
       "      <td>Synthesis PSDLogs</td>\n",
       "      <td>0.242387</td>\n",
       "      <td>0.169616</td>\n",
       "      <td>0.268046</td>\n",
       "      <td>0.407513</td>\n",
       "      <td>0.301535</td>\n",
       "      <td>0.371847</td>\n",
       "    </tr>\n",
       "  </tbody>\n",
       "</table>\n",
       "</div>"
      ],
      "text/plain": [
       "                Vector  Naive Bayes  k Nearest  Decision Tree  Random Forest  \\\n",
       "0      Middle Features     0.129525   0.502706       0.774517       0.756831   \n",
       "1          Middle FFTs     0.506471   0.647780       0.615037       0.787124   \n",
       "2       Middle PSDLogs     0.560173   0.707221       0.576714       0.756509   \n",
       "3        Left Features     0.103896   0.414074       0.899592       0.903380   \n",
       "4            Left FFTs     0.481117   0.442587       0.512205       0.685575   \n",
       "5         Left PSDLogs     0.476417   0.508121       0.482177       0.672841   \n",
       "6       Right Features     0.105294   0.404844       0.926787       0.925772   \n",
       "7           Right FFTs     0.484468   0.443196       0.500799       0.649851   \n",
       "8        Right PSDLogs     0.464781   0.515381       0.467258       0.640511   \n",
       "9   Synthesis Features     0.131198   0.258770       0.928385       0.850680   \n",
       "10      Synthesis FFTs     0.248624   0.350682       0.346478       0.488110   \n",
       "11   Synthesis PSDLogs     0.242387   0.169616       0.268046       0.407513   \n",
       "\n",
       "    AdaBoost  Support Vector Machine  \n",
       "0   0.473558                0.678402  \n",
       "1   0.533974                0.749468  \n",
       "2   0.536432                0.798098  \n",
       "3   0.316703                0.556349  \n",
       "4   0.512518                0.600789  \n",
       "5   0.498712                0.712874  \n",
       "6   0.524567                0.563218  \n",
       "7   0.515092                0.604494  \n",
       "8   0.513344                0.673765  \n",
       "9   0.317777                0.316760  \n",
       "10  0.353293                0.356770  \n",
       "11  0.301535                0.371847  "
      ]
     },
     "execution_count": 31,
     "metadata": {},
     "output_type": "execute_result"
    }
   ],
   "source": [
    "accuracy_table"
   ]
  },
  {
   "cell_type": "markdown",
   "metadata": {},
   "source": [
    "## Part 10 - Combining Feature Selection with Classifiers"
   ]
  },
  {
   "cell_type": "markdown",
   "metadata": {},
   "source": [
    "### Part (a) - Compare Top Features to Classification Accuracy"
   ]
  },
  {
   "cell_type": "code",
   "execution_count": null,
   "metadata": {},
   "outputs": [],
   "source": [
    "def subset_top(top_features, n_top):\n",
    "    subset_top_features = {}\n",
    "    \n",
    "    for placement, features in top_features.items():\n",
    "        n_features = features[0:n_top - 1]\n",
    "        # Add label to ensure it remains with the data\n",
    "        if 'Label' not in n_features:\n",
    "            n_features.append('Label')\n",
    "        \n",
    "        subset_top_features.update({placement: n_features})\n",
    "        \n",
    "    return subset_top_features"
   ]
  },
  {
   "cell_type": "code",
   "execution_count": null,
   "metadata": {},
   "outputs": [],
   "source": [
    "def train_n_feats(combined, top_features):\n",
    "    n_feats_arr = np.arange(5, len(top_features['Middle']), 5)\n",
    "    accuracies = {'Middle': []}\n",
    "\n",
    "    # Train and test for each number of top features\n",
    "    for n_feat in n_feats_arr:\n",
    "        \n",
    "        combined_top = top_features_only(combined, subset_top(top_features, n_feat))\n",
    "        # Get k fold predict and actual labels for each vector\n",
    "        feature = train_test_k_fold(combined_top, 5, model)\n",
    "        \n",
    "        # Compare accuracies vs top features\n",
    "        for placement in test_feat_top[1].keys():\n",
    "            # Extract predict and actual\n",
    "            predict, actual = feature[placement]\n",
    "            \n",
    "            # Take mean accuracy of k fold testing\n",
    "            accuracy_k_fold = []\n",
    "            \n",
    "            for i in range(len(predict)):\n",
    "                accuracy_k_fold.append(accuracy_score(actual[i], predict[i]))\n",
    "            \n",
    "            accuracies[placement].append(np.mean(accuracy_k_fold))\n",
    "\n",
    "    return n_feats_arr, accuracies"
   ]
  },
  {
   "cell_type": "markdown",
   "metadata": {},
   "source": [
    "## Part 11 - Classification on Single Axes"
   ]
  },
  {
   "cell_type": "markdown",
   "metadata": {},
   "source": [
    "### Part (a) - Separate Combined Data"
   ]
  },
  {
   "cell_type": "code",
   "execution_count": null,
   "metadata": {},
   "outputs": [],
   "source": [
    "'''Get placement dictionary of combined data truncated to only include columns matching given tag'''\n",
    "def get_matching_columns(combined_data, column_match):\n",
    "    # New placement dictionary with only matching columns\n",
    "    combined_matching_data = {}\n",
    "    \n",
    "    for placement, placement_data in combined_data.items():\n",
    "        # Retrieve column names that match the given match parameter\n",
    "        matching_columns = [column for column in placement_data.columns if column_match in column]\n",
    "        matching_columns.append('Label')\n",
    "        combined_matching_data.update({placement: placement_data[matching_columns]})\n",
    "        \n",
    "    return combined_matching_data"
   ]
  },
  {
   "cell_type": "code",
   "execution_count": null,
   "metadata": {},
   "outputs": [],
   "source": [
    "'''Separate combined dataframe into dictionary of axes columns'''\n",
    "def separate_combined(combined_data):\n",
    "    separated_data = {}\n",
    "    \n",
    "    for axes_column in data_columns:\n",
    "        separated_data.update({axes_column: get_matching_columns(combined_data, axes_column)})\n",
    "        \n",
    "    return separated_data"
   ]
  },
  {
   "cell_type": "code",
   "execution_count": null,
   "metadata": {},
   "outputs": [],
   "source": [
    "feat_separated = separate_combined(feat_combined)\n",
    "fft_separated = separate_combined(fft_combined)\n",
    "psd_log_separated = separate_combined(psd_log_combined)\n",
    "\n",
    "feat_separated['Z Accel']['Middle'].head()"
   ]
  },
  {
   "cell_type": "markdown",
   "metadata": {},
   "source": [
    "### Part (b) - Compute Accuracy Table for Single Axes"
   ]
  },
  {
   "cell_type": "code",
   "execution_count": null,
   "metadata": {},
   "outputs": [],
   "source": [
    "def create_axes_accuracy_table(n_splits):\n",
    "    # Dataframe table of accuracies for each classifier for each placement\n",
    "    vector_indices = [vector + ' ' + placement + ' ' + axis for axis in data_columns for placement in placements for vector in vector_names]\n",
    "    axes_accuracy_table = pd.DataFrame({'Vector': vector_indices})\n",
    "\n",
    "    # Calculate accuracy for each axes of each placement for each feature vector and classifier\n",
    "    for classifier_name, classifier in classifiers.items():\n",
    "        model = classifier\n",
    "\n",
    "        # Row dictionary for given model\n",
    "        rows = {}\n",
    "\n",
    "        for axis in data_columns:\n",
    "            # Get k fold predict and actual labels for each vector for current axis\n",
    "            feat  = train_test_k_fold(feat_separated[axis], n_splits, model)\n",
    "            fft = train_test_k_fold(fft_separated[axis], n_splits, model)\n",
    "            psd_log = train_test_k_fold(psd_log_separated[axis], n_splits, model)\n",
    "            vectors = (feat, fft, psd_log)\n",
    "\n",
    "            # Add current axis and classifier to row dictionary\n",
    "            for i, vector_name in enumerate(vector_names):\n",
    "                for placement in placements:\n",
    "                    index_name = vector_name + ' ' + placement + ' ' + axis\n",
    "\n",
    "                    # Extract predicted and actual labels\n",
    "                    predict, actual = vectors[i][placement]\n",
    "\n",
    "                    # Take mean accuracy of k fold testing\n",
    "                    accuracies = []\n",
    "                    for j in range(len(predict)):\n",
    "                        accuracies.append(accuracy_score(actual[j], predict[j]))\n",
    "                    rows.update({index_name: np.mean(accuracies)})\n",
    "\n",
    "            # Update accuracy table with classifier column by mapping row names to indices\n",
    "            axes_accuracy_table[classifier_name] = axes_accuracy_table['Vector'].map(rows)\n",
    "    \n",
    "    return axes_accuracy_table"
   ]
  },
  {
   "cell_type": "code",
   "execution_count": null,
   "metadata": {
    "scrolled": true
   },
   "outputs": [],
   "source": [
    "axes_accuracy_table = create_axes_accuracy_table(5)"
   ]
  },
  {
   "cell_type": "code",
   "execution_count": null,
   "metadata": {},
   "outputs": [],
   "source": [
    "axes_accuracy_table"
   ]
  },
  {
   "cell_type": "markdown",
   "metadata": {},
   "source": [
    "### Glossary\n",
    "\n",
    "`Dataset` - Batch of data recorded on one terrain type\n",
    "\n",
    "`Data Window` - Split up portion of a `Dataset`\n",
    "\n",
    "`Direction / Axes` - Linear acceleration or gyroscope in $x,y$ or $z$\n",
    "\n",
    "`Feature Vector` - Any feature of the data that can be used to classify terrain, e.g. Z Accel Mean, Y Accel FFT, etc\n",
    "\n",
    "`Extracted Feature Vector` - Features that aren't from transforms, e.g. Z Accel Min, Y Accel Autocorrelation, etc\n",
    "\n",
    "`Placement` - One of three IMU placements on the wheelchair, i.e. Middle, Left, or Right"
   ]
  },
  {
   "cell_type": "code",
   "execution_count": null,
   "metadata": {},
   "outputs": [],
   "source": []
  }
 ],
 "metadata": {
  "kernelspec": {
   "display_name": "Python 3",
   "language": "python",
   "name": "python3"
  },
  "language_info": {
   "codemirror_mode": {
    "name": "ipython",
    "version": 3
   },
   "file_extension": ".py",
   "mimetype": "text/x-python",
   "name": "python",
   "nbconvert_exporter": "python",
   "pygments_lexer": "ipython3",
   "version": "3.6.8"
  }
 },
 "nbformat": 4,
 "nbformat_minor": 2
}
