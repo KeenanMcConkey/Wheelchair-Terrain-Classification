{
 "cells": [
  {
   "cell_type": "markdown",
   "metadata": {},
   "source": [
    "# Terrain Classification - Combined User Data\n",
    "### Created by Keenan McConkey 2019.08.01"
   ]
  },
  {
   "cell_type": "code",
   "execution_count": 1,
   "metadata": {},
   "outputs": [],
   "source": [
    "from __future__ import absolute_import, division, print_function\n",
    "\n",
    "import pandas as pd\n",
    "import numpy as np\n",
    "import matplotlib.pyplot as plt\n",
    "\n",
    "import pymrmr\n",
    "import sklearn"
   ]
  },
  {
   "cell_type": "markdown",
   "metadata": {},
   "source": [
    "## Part 1 - Importing Preprocessed Data"
   ]
  },
  {
   "cell_type": "markdown",
   "metadata": {},
   "source": [
    "### Part (a) - Functions for Data Import"
   ]
  },
  {
   "cell_type": "code",
   "execution_count": 2,
   "metadata": {},
   "outputs": [],
   "source": [
    "# All the terrains, placements, vectors, power-assistance, users in the study\n",
    "terrains = ['Concrete', 'Carpet', 'Linoleum', 'Asphalt', 'Sidewalk', 'Grass', 'Gravel']\n",
    "powers = ['Manual'] # TODO: Fix power PSD data and add back in\n",
    "placements_manual = ['Middle', 'Left', 'Right', 'Synthesis']\n",
    "placements_power = ['Middle']\n",
    "vectors = ['TimeFeats', 'FreqFeats', 'FFTs', 'PSDLogs']\n",
    "users = ['All']\n",
    "axes = ['X Accel', 'Y Accel', 'Z Accel', 'X Gyro', 'Y Gyro', 'Z Gyro']"
   ]
  },
  {
   "cell_type": "code",
   "execution_count": 3,
   "metadata": {},
   "outputs": [],
   "source": [
    "'''Get the integer terrain value of a given label'''\n",
    "def get_terrain_num(_label):\n",
    "    for i, terrain in enumerate(terrains):\n",
    "        if terrain in _label:\n",
    "            return i\n",
    "        \n",
    "    raise Exception('Unknown terrain')\n",
    "\n",
    "'''Get the name associated with a terrain integer'''\n",
    "def get_terrain_name(terrain_num):\n",
    "    return terrains[terrain_num]\n",
    "    return terrains[terrain_num]\n",
    "\n",
    "'''Get the placement location name for given label'''\n",
    "def get_placement(_label):\n",
    "    for placement in placements:\n",
    "        if placement in _label:\n",
    "            return placement\n",
    "    \n",
    "    raise Exception('Unknown placement')\n",
    "\n",
    "'''Get the transform used for given label'''\n",
    "def get_transform(_label):\n",
    "    for transform in transforms:\n",
    "        if transform in _label:\n",
    "            return transform\n",
    "    \n",
    "    raise Exception('Unknown transform')"
   ]
  },
  {
   "cell_type": "markdown",
   "metadata": {},
   "source": [
    "### Part (b) - Import Processed Data from Each User"
   ]
  },
  {
   "cell_type": "code",
   "execution_count": 4,
   "metadata": {},
   "outputs": [],
   "source": [
    "'''Combine data from labelled datasets into a single dataframe'''\n",
    "def combine_datasets(datasets):\n",
    "    return pd.concat(list(datasets.values()), ignore_index=True, sort=False)"
   ]
  },
  {
   "cell_type": "code",
   "execution_count": 5,
   "metadata": {},
   "outputs": [],
   "source": [
    "path = 'processed_data/new_setup/new_normalization/' \n",
    "\n",
    "# Nested dictionary of processed data:\n",
    "# - Power assistance type\n",
    "# -- Placement\n",
    "# --- Feature Vector\n",
    "# ---- User\n",
    "power_dict = {}\n",
    "\n",
    "# Create each nesting of the dictionary\n",
    "for power in powers:\n",
    "    placement_dict = {}\n",
    "    \n",
    "    # Power datasets only have middle placement (for now)\n",
    "    if power == 'Power':\n",
    "        placements = placements_power.copy()\n",
    "    else:\n",
    "        placements = placements_manual.copy()\n",
    "    \n",
    "    for placement in placements:\n",
    "        vector_dict = {}\n",
    "\n",
    "        for vector in vectors:\n",
    "            user_dict = {}\n",
    "\n",
    "            for user in users:\n",
    "                # File name based on above parameters\n",
    "                filename = power.lower() + '/' + placement + '_' + vector + '_' + user \n",
    "                if power == 'Power':\n",
    "                    filename += '_Power'\n",
    "                filename += '.csv'\n",
    "                \n",
    "                # Read data and update current user dictionary\n",
    "                data = pd.read_csv(path + filename)\n",
    "                user_dict.update({user: data})\n",
    "\n",
    "            # Combine users to form a new entry of user dictionary, save to .csv\n",
    "            # NaNs arise when you combine Synthesis feature vectors\n",
    "            #combined_data = combine_datasets(user_dict).dropna(axis='columns')\n",
    "            #user_dict.update({'All': combined_data})\n",
    "\n",
    "            vector_dict.update({vector: user_dict})\n",
    "        \n",
    "        # Create a dictionary of the combined feature vectors for each user\n",
    "        combined_vector_user_dict = {}\n",
    "        combined_extracted_vector_user_dict = {}\n",
    "        \n",
    "        for user in user_dict.keys():\n",
    "            # Get extraced vector/all vectors for current user and pop label column\n",
    "            user_extracted_vectors = []\n",
    "            user_all_vectors = []\n",
    "            \n",
    "            # Extracted vectors only\n",
    "            for extracted_vector in ['TimeFeats', 'FreqFeats']:\n",
    "                user_vector = vector_dict[extracted_vector][user]\n",
    "                # Get append everything not label column since this is the same for all vectors\n",
    "                labels = user_vector['Label']\n",
    "                user_extracted_vectors.append(user_vector.loc[:, user_vector.columns != 'Label'])\n",
    "            \n",
    "            # Add the extracted vectors to the fully combined vector\n",
    "            user_all_vectors.extend(user_extracted_vectors)\n",
    "            \n",
    "            # Add in the transform vectors\n",
    "            for transform_vector in ['FFTs', 'PSDLogs']:\n",
    "                user_vector = vector_dict[transform_vector][user]\n",
    "                # Get append everything not label column since this is the same for all vectors\n",
    "                labels = user_vector['Label']\n",
    "                user_all_vectors.append(user_vector.loc[:, user_vector.columns != 'Label'])\n",
    "            \n",
    "            # Combine extracted vectors and add back label column\n",
    "            combined_extracted_vector = pd.concat(user_extracted_vectors, axis='columns')\n",
    "            combined_extracted_vector.insert(loc=0, column='Label', value=labels)\n",
    "            combined_extracted_vector_user_dict.update({user: combined_extracted_vector})\n",
    "            \n",
    "            # Combine vectors and add back label column\n",
    "            combined_vector = pd.concat(user_all_vectors, axis='columns')\n",
    "            combined_vector.insert(loc=0, column='Label', value=labels)\n",
    "            combined_vector_user_dict.update({user: combined_vector})\n",
    "        \n",
    "        # Add the combined feature vector to the vector dictionary\n",
    "        vector_dict.update({'AllFeats': combined_extracted_vector_user_dict})\n",
    "        vector_dict.update({'Combined': combined_vector_user_dict})\n",
    "        \n",
    "        placement_dict.update({placement: vector_dict})\n",
    "    \n",
    "    power_dict.update({power: placement_dict})"
   ]
  },
  {
   "cell_type": "code",
   "execution_count": 6,
   "metadata": {},
   "outputs": [],
   "source": [
    "# Update vectors to reflect new combined vectors\n",
    "vectors.extend(['AllFeats', 'Combined'])"
   ]
  },
  {
   "cell_type": "code",
   "execution_count": 7,
   "metadata": {},
   "outputs": [
    {
     "data": {
      "text/html": [
       "<div>\n",
       "<style scoped>\n",
       "    .dataframe tbody tr th:only-of-type {\n",
       "        vertical-align: middle;\n",
       "    }\n",
       "\n",
       "    .dataframe tbody tr th {\n",
       "        vertical-align: top;\n",
       "    }\n",
       "\n",
       "    .dataframe thead th {\n",
       "        text-align: right;\n",
       "    }\n",
       "</style>\n",
       "<table border=\"1\" class=\"dataframe\">\n",
       "  <thead>\n",
       "    <tr style=\"text-align: right;\">\n",
       "      <th></th>\n",
       "      <th>Label</th>\n",
       "      <th>Mean X Accel Middle</th>\n",
       "      <th>Std X Accel Middle</th>\n",
       "      <th>Norm X Accel Middle</th>\n",
       "      <th>AC X Accel Middle</th>\n",
       "      <th>Max X Accel Middle</th>\n",
       "      <th>Min X Accel Middle</th>\n",
       "      <th>RMS X Accel Middle</th>\n",
       "      <th>ZCR X Accel Middle</th>\n",
       "      <th>Skew X Accel Middle</th>\n",
       "      <th>...</th>\n",
       "      <th>MSF Y Gyro Middle</th>\n",
       "      <th>RMSF Y Gyro Middle</th>\n",
       "      <th>FC Y Gyro Middle</th>\n",
       "      <th>VF Y Gyro Middle</th>\n",
       "      <th>RVF Y Gyro Middle</th>\n",
       "      <th>MSF Z Gyro Middle</th>\n",
       "      <th>RMSF Z Gyro Middle</th>\n",
       "      <th>FC Z Gyro Middle</th>\n",
       "      <th>VF Z Gyro Middle</th>\n",
       "      <th>RVF Z Gyro Middle</th>\n",
       "    </tr>\n",
       "  </thead>\n",
       "  <tbody>\n",
       "    <tr>\n",
       "      <th>16065</th>\n",
       "      <td>4</td>\n",
       "      <td>-2.993490</td>\n",
       "      <td>0.058487</td>\n",
       "      <td>0.409874</td>\n",
       "      <td>0.094989</td>\n",
       "      <td>-0.334863</td>\n",
       "      <td>-0.373391</td>\n",
       "      <td>0.409337</td>\n",
       "      <td>0.086221</td>\n",
       "      <td>0.142740</td>\n",
       "      <td>...</td>\n",
       "      <td>0.201499</td>\n",
       "      <td>0.868215</td>\n",
       "      <td>1.188687</td>\n",
       "      <td>-1.518781</td>\n",
       "      <td>0.868215</td>\n",
       "      <td>0.617916</td>\n",
       "      <td>0.930225</td>\n",
       "      <td>-0.285041</td>\n",
       "      <td>0.168249</td>\n",
       "      <td>0.930225</td>\n",
       "    </tr>\n",
       "    <tr>\n",
       "      <th>16066</th>\n",
       "      <td>4</td>\n",
       "      <td>-5.150751</td>\n",
       "      <td>-0.420820</td>\n",
       "      <td>0.824175</td>\n",
       "      <td>0.433643</td>\n",
       "      <td>-0.860113</td>\n",
       "      <td>-0.373391</td>\n",
       "      <td>0.823611</td>\n",
       "      <td>-1.417281</td>\n",
       "      <td>-0.250344</td>\n",
       "      <td>...</td>\n",
       "      <td>-0.071406</td>\n",
       "      <td>0.332945</td>\n",
       "      <td>1.279011</td>\n",
       "      <td>-1.683046</td>\n",
       "      <td>0.332945</td>\n",
       "      <td>6.661553</td>\n",
       "      <td>4.234812</td>\n",
       "      <td>-0.091530</td>\n",
       "      <td>0.137974</td>\n",
       "      <td>4.234812</td>\n",
       "    </tr>\n",
       "    <tr>\n",
       "      <th>16067</th>\n",
       "      <td>4</td>\n",
       "      <td>-2.704405</td>\n",
       "      <td>-0.045126</td>\n",
       "      <td>0.249784</td>\n",
       "      <td>-0.019371</td>\n",
       "      <td>-0.793978</td>\n",
       "      <td>-0.047606</td>\n",
       "      <td>0.249256</td>\n",
       "      <td>-0.414946</td>\n",
       "      <td>-0.222345</td>\n",
       "      <td>...</td>\n",
       "      <td>-0.276171</td>\n",
       "      <td>-0.438779</td>\n",
       "      <td>0.745796</td>\n",
       "      <td>-0.775163</td>\n",
       "      <td>-0.438779</td>\n",
       "      <td>-0.055719</td>\n",
       "      <td>0.219836</td>\n",
       "      <td>-0.403381</td>\n",
       "      <td>0.182817</td>\n",
       "      <td>0.219836</td>\n",
       "    </tr>\n",
       "    <tr>\n",
       "      <th>16068</th>\n",
       "      <td>4</td>\n",
       "      <td>2.020397</td>\n",
       "      <td>-0.459843</td>\n",
       "      <td>-0.191738</td>\n",
       "      <td>-0.287109</td>\n",
       "      <td>-0.497873</td>\n",
       "      <td>0.697808</td>\n",
       "      <td>-0.192238</td>\n",
       "      <td>-0.359261</td>\n",
       "      <td>-0.638358</td>\n",
       "      <td>...</td>\n",
       "      <td>-0.267376</td>\n",
       "      <td>-0.372804</td>\n",
       "      <td>0.803745</td>\n",
       "      <td>-0.866864</td>\n",
       "      <td>-0.372804</td>\n",
       "      <td>1.136647</td>\n",
       "      <td>1.362874</td>\n",
       "      <td>-0.324626</td>\n",
       "      <td>0.173604</td>\n",
       "      <td>1.362874</td>\n",
       "    </tr>\n",
       "    <tr>\n",
       "      <th>16069</th>\n",
       "      <td>4</td>\n",
       "      <td>2.414125</td>\n",
       "      <td>0.033483</td>\n",
       "      <td>0.312220</td>\n",
       "      <td>0.024136</td>\n",
       "      <td>-0.173717</td>\n",
       "      <td>0.378144</td>\n",
       "      <td>0.311688</td>\n",
       "      <td>-0.971799</td>\n",
       "      <td>-0.985338</td>\n",
       "      <td>...</td>\n",
       "      <td>-0.276833</td>\n",
       "      <td>-0.444297</td>\n",
       "      <td>0.375796</td>\n",
       "      <td>-0.229739</td>\n",
       "      <td>-0.444297</td>\n",
       "      <td>1.937146</td>\n",
       "      <td>1.927521</td>\n",
       "      <td>-0.041820</td>\n",
       "      <td>0.127822</td>\n",
       "      <td>1.927521</td>\n",
       "    </tr>\n",
       "  </tbody>\n",
       "</table>\n",
       "<p>5 rows × 91 columns</p>\n",
       "</div>"
      ],
      "text/plain": [
       "       Label  Mean X Accel Middle  Std X Accel Middle  Norm X Accel Middle  \\\n",
       "16065      4            -2.993490            0.058487             0.409874   \n",
       "16066      4            -5.150751           -0.420820             0.824175   \n",
       "16067      4            -2.704405           -0.045126             0.249784   \n",
       "16068      4             2.020397           -0.459843            -0.191738   \n",
       "16069      4             2.414125            0.033483             0.312220   \n",
       "\n",
       "       AC X Accel Middle  Max X Accel Middle  Min X Accel Middle  \\\n",
       "16065           0.094989           -0.334863           -0.373391   \n",
       "16066           0.433643           -0.860113           -0.373391   \n",
       "16067          -0.019371           -0.793978           -0.047606   \n",
       "16068          -0.287109           -0.497873            0.697808   \n",
       "16069           0.024136           -0.173717            0.378144   \n",
       "\n",
       "       RMS X Accel Middle  ZCR X Accel Middle  Skew X Accel Middle  ...  \\\n",
       "16065            0.409337            0.086221             0.142740  ...   \n",
       "16066            0.823611           -1.417281            -0.250344  ...   \n",
       "16067            0.249256           -0.414946            -0.222345  ...   \n",
       "16068           -0.192238           -0.359261            -0.638358  ...   \n",
       "16069            0.311688           -0.971799            -0.985338  ...   \n",
       "\n",
       "       MSF Y Gyro Middle  RMSF Y Gyro Middle  FC Y Gyro Middle  \\\n",
       "16065           0.201499            0.868215          1.188687   \n",
       "16066          -0.071406            0.332945          1.279011   \n",
       "16067          -0.276171           -0.438779          0.745796   \n",
       "16068          -0.267376           -0.372804          0.803745   \n",
       "16069          -0.276833           -0.444297          0.375796   \n",
       "\n",
       "       VF Y Gyro Middle  RVF Y Gyro Middle  MSF Z Gyro Middle  \\\n",
       "16065         -1.518781           0.868215           0.617916   \n",
       "16066         -1.683046           0.332945           6.661553   \n",
       "16067         -0.775163          -0.438779          -0.055719   \n",
       "16068         -0.866864          -0.372804           1.136647   \n",
       "16069         -0.229739          -0.444297           1.937146   \n",
       "\n",
       "       RMSF Z Gyro Middle  FC Z Gyro Middle  VF Z Gyro Middle  \\\n",
       "16065            0.930225         -0.285041          0.168249   \n",
       "16066            4.234812         -0.091530          0.137974   \n",
       "16067            0.219836         -0.403381          0.182817   \n",
       "16068            1.362874         -0.324626          0.173604   \n",
       "16069            1.927521         -0.041820          0.127822   \n",
       "\n",
       "       RVF Z Gyro Middle  \n",
       "16065           0.930225  \n",
       "16066           4.234812  \n",
       "16067           0.219836  \n",
       "16068           1.362874  \n",
       "16069           1.927521  \n",
       "\n",
       "[5 rows x 91 columns]"
      ]
     },
     "execution_count": 7,
     "metadata": {},
     "output_type": "execute_result"
    }
   ],
   "source": [
    "# Check some data\n",
    "power_dict['Manual']['Middle']['AllFeats']['All'].tail()"
   ]
  },
  {
   "cell_type": "code",
   "execution_count": 8,
   "metadata": {},
   "outputs": [
    {
     "data": {
      "text/html": [
       "<div>\n",
       "<style scoped>\n",
       "    .dataframe tbody tr th:only-of-type {\n",
       "        vertical-align: middle;\n",
       "    }\n",
       "\n",
       "    .dataframe tbody tr th {\n",
       "        vertical-align: top;\n",
       "    }\n",
       "\n",
       "    .dataframe thead th {\n",
       "        text-align: right;\n",
       "    }\n",
       "</style>\n",
       "<table border=\"1\" class=\"dataframe\">\n",
       "  <thead>\n",
       "    <tr style=\"text-align: right;\">\n",
       "      <th></th>\n",
       "      <th>Label</th>\n",
       "      <th>Mean Calc X Vel Synthesis</th>\n",
       "      <th>Std Calc X Vel Synthesis</th>\n",
       "      <th>Norm Calc X Vel Synthesis</th>\n",
       "      <th>AC Calc X Vel Synthesis</th>\n",
       "      <th>Max Calc X Vel Synthesis</th>\n",
       "      <th>Min Calc X Vel Synthesis</th>\n",
       "      <th>RMS Calc X Vel Synthesis</th>\n",
       "      <th>ZCR Calc X Vel Synthesis</th>\n",
       "      <th>Skew Calc X Vel Synthesis</th>\n",
       "      <th>...</th>\n",
       "      <th>PSDLog 54 Hz Right Z Gyro Synthesis</th>\n",
       "      <th>PSDLog 55 Hz Right Z Gyro Synthesis</th>\n",
       "      <th>PSDLog 56 Hz Right Z Gyro Synthesis</th>\n",
       "      <th>PSDLog 57 Hz Right Z Gyro Synthesis</th>\n",
       "      <th>PSDLog 58 Hz Right Z Gyro Synthesis</th>\n",
       "      <th>PSDLog 59 Hz Right Z Gyro Synthesis</th>\n",
       "      <th>PSDLog 60 Hz Right Z Gyro Synthesis</th>\n",
       "      <th>PSDLog 61 Hz Right Z Gyro Synthesis</th>\n",
       "      <th>PSDLog 62 Hz Right Z Gyro Synthesis</th>\n",
       "      <th>PSDLog 63 Hz Right Z Gyro Synthesis</th>\n",
       "    </tr>\n",
       "  </thead>\n",
       "  <tbody>\n",
       "    <tr>\n",
       "      <th>17889</th>\n",
       "      <td>4</td>\n",
       "      <td>-0.793959</td>\n",
       "      <td>1.065550</td>\n",
       "      <td>-0.775904</td>\n",
       "      <td>-0.722220</td>\n",
       "      <td>-0.172572</td>\n",
       "      <td>-0.817171</td>\n",
       "      <td>-0.777825</td>\n",
       "      <td>-0.153511</td>\n",
       "      <td>1.123875</td>\n",
       "      <td>...</td>\n",
       "      <td>1.466184</td>\n",
       "      <td>1.508826</td>\n",
       "      <td>1.498868</td>\n",
       "      <td>1.499795</td>\n",
       "      <td>1.487310</td>\n",
       "      <td>1.457920</td>\n",
       "      <td>1.448934</td>\n",
       "      <td>1.489991</td>\n",
       "      <td>1.482408</td>\n",
       "      <td>1.457884</td>\n",
       "    </tr>\n",
       "    <tr>\n",
       "      <th>17890</th>\n",
       "      <td>4</td>\n",
       "      <td>0.033568</td>\n",
       "      <td>1.112526</td>\n",
       "      <td>0.049535</td>\n",
       "      <td>-0.137233</td>\n",
       "      <td>0.166666</td>\n",
       "      <td>-0.425848</td>\n",
       "      <td>0.048307</td>\n",
       "      <td>-0.153511</td>\n",
       "      <td>-0.798948</td>\n",
       "      <td>...</td>\n",
       "      <td>1.578223</td>\n",
       "      <td>1.563516</td>\n",
       "      <td>1.572959</td>\n",
       "      <td>1.573727</td>\n",
       "      <td>1.574875</td>\n",
       "      <td>1.576434</td>\n",
       "      <td>1.569256</td>\n",
       "      <td>1.565444</td>\n",
       "      <td>1.565786</td>\n",
       "      <td>1.560195</td>\n",
       "    </tr>\n",
       "    <tr>\n",
       "      <th>17891</th>\n",
       "      <td>4</td>\n",
       "      <td>-0.105755</td>\n",
       "      <td>2.305017</td>\n",
       "      <td>-0.031710</td>\n",
       "      <td>-0.205648</td>\n",
       "      <td>0.166666</td>\n",
       "      <td>-1.095395</td>\n",
       "      <td>-0.033006</td>\n",
       "      <td>-0.153511</td>\n",
       "      <td>-1.220858</td>\n",
       "      <td>...</td>\n",
       "      <td>-0.002977</td>\n",
       "      <td>0.003201</td>\n",
       "      <td>-0.023648</td>\n",
       "      <td>0.028786</td>\n",
       "      <td>0.044417</td>\n",
       "      <td>0.046217</td>\n",
       "      <td>0.042515</td>\n",
       "      <td>0.054399</td>\n",
       "      <td>0.038207</td>\n",
       "      <td>0.077722</td>\n",
       "    </tr>\n",
       "    <tr>\n",
       "      <th>17892</th>\n",
       "      <td>4</td>\n",
       "      <td>-1.251162</td>\n",
       "      <td>2.456792</td>\n",
       "      <td>-1.083621</td>\n",
       "      <td>-0.877803</td>\n",
       "      <td>-0.182611</td>\n",
       "      <td>-1.430997</td>\n",
       "      <td>-1.082005</td>\n",
       "      <td>-0.153511</td>\n",
       "      <td>1.513885</td>\n",
       "      <td>...</td>\n",
       "      <td>-0.661928</td>\n",
       "      <td>-0.652665</td>\n",
       "      <td>-0.628604</td>\n",
       "      <td>-0.644654</td>\n",
       "      <td>-0.625274</td>\n",
       "      <td>-0.576349</td>\n",
       "      <td>-0.573515</td>\n",
       "      <td>-0.598476</td>\n",
       "      <td>-0.600726</td>\n",
       "      <td>-0.544136</td>\n",
       "    </tr>\n",
       "    <tr>\n",
       "      <th>17893</th>\n",
       "      <td>4</td>\n",
       "      <td>-1.848859</td>\n",
       "      <td>-1.202419</td>\n",
       "      <td>-2.054550</td>\n",
       "      <td>-1.146205</td>\n",
       "      <td>-2.072623</td>\n",
       "      <td>-1.430997</td>\n",
       "      <td>-1.937256</td>\n",
       "      <td>-0.153511</td>\n",
       "      <td>2.309932</td>\n",
       "      <td>...</td>\n",
       "      <td>-1.161979</td>\n",
       "      <td>-1.159322</td>\n",
       "      <td>-1.131727</td>\n",
       "      <td>-1.110872</td>\n",
       "      <td>-1.096042</td>\n",
       "      <td>-1.076248</td>\n",
       "      <td>-1.073040</td>\n",
       "      <td>-1.049085</td>\n",
       "      <td>-1.042129</td>\n",
       "      <td>-1.024189</td>\n",
       "    </tr>\n",
       "  </tbody>\n",
       "</table>\n",
       "<p>5 rows × 2289 columns</p>\n",
       "</div>"
      ],
      "text/plain": [
       "       Label  Mean Calc X Vel Synthesis  Std Calc X Vel Synthesis  \\\n",
       "17889      4                  -0.793959                  1.065550   \n",
       "17890      4                   0.033568                  1.112526   \n",
       "17891      4                  -0.105755                  2.305017   \n",
       "17892      4                  -1.251162                  2.456792   \n",
       "17893      4                  -1.848859                 -1.202419   \n",
       "\n",
       "       Norm Calc X Vel Synthesis  AC Calc X Vel Synthesis  \\\n",
       "17889                  -0.775904                -0.722220   \n",
       "17890                   0.049535                -0.137233   \n",
       "17891                  -0.031710                -0.205648   \n",
       "17892                  -1.083621                -0.877803   \n",
       "17893                  -2.054550                -1.146205   \n",
       "\n",
       "       Max Calc X Vel Synthesis  Min Calc X Vel Synthesis  \\\n",
       "17889                 -0.172572                 -0.817171   \n",
       "17890                  0.166666                 -0.425848   \n",
       "17891                  0.166666                 -1.095395   \n",
       "17892                 -0.182611                 -1.430997   \n",
       "17893                 -2.072623                 -1.430997   \n",
       "\n",
       "       RMS Calc X Vel Synthesis  ZCR Calc X Vel Synthesis  \\\n",
       "17889                 -0.777825                 -0.153511   \n",
       "17890                  0.048307                 -0.153511   \n",
       "17891                 -0.033006                 -0.153511   \n",
       "17892                 -1.082005                 -0.153511   \n",
       "17893                 -1.937256                 -0.153511   \n",
       "\n",
       "       Skew Calc X Vel Synthesis  ...  PSDLog 54 Hz Right Z Gyro Synthesis  \\\n",
       "17889                   1.123875  ...                             1.466184   \n",
       "17890                  -0.798948  ...                             1.578223   \n",
       "17891                  -1.220858  ...                            -0.002977   \n",
       "17892                   1.513885  ...                            -0.661928   \n",
       "17893                   2.309932  ...                            -1.161979   \n",
       "\n",
       "       PSDLog 55 Hz Right Z Gyro Synthesis  \\\n",
       "17889                             1.508826   \n",
       "17890                             1.563516   \n",
       "17891                             0.003201   \n",
       "17892                            -0.652665   \n",
       "17893                            -1.159322   \n",
       "\n",
       "       PSDLog 56 Hz Right Z Gyro Synthesis  \\\n",
       "17889                             1.498868   \n",
       "17890                             1.572959   \n",
       "17891                            -0.023648   \n",
       "17892                            -0.628604   \n",
       "17893                            -1.131727   \n",
       "\n",
       "       PSDLog 57 Hz Right Z Gyro Synthesis  \\\n",
       "17889                             1.499795   \n",
       "17890                             1.573727   \n",
       "17891                             0.028786   \n",
       "17892                            -0.644654   \n",
       "17893                            -1.110872   \n",
       "\n",
       "       PSDLog 58 Hz Right Z Gyro Synthesis  \\\n",
       "17889                             1.487310   \n",
       "17890                             1.574875   \n",
       "17891                             0.044417   \n",
       "17892                            -0.625274   \n",
       "17893                            -1.096042   \n",
       "\n",
       "       PSDLog 59 Hz Right Z Gyro Synthesis  \\\n",
       "17889                             1.457920   \n",
       "17890                             1.576434   \n",
       "17891                             0.046217   \n",
       "17892                            -0.576349   \n",
       "17893                            -1.076248   \n",
       "\n",
       "       PSDLog 60 Hz Right Z Gyro Synthesis  \\\n",
       "17889                             1.448934   \n",
       "17890                             1.569256   \n",
       "17891                             0.042515   \n",
       "17892                            -0.573515   \n",
       "17893                            -1.073040   \n",
       "\n",
       "       PSDLog 61 Hz Right Z Gyro Synthesis  \\\n",
       "17889                             1.489991   \n",
       "17890                             1.565444   \n",
       "17891                             0.054399   \n",
       "17892                            -0.598476   \n",
       "17893                            -1.049085   \n",
       "\n",
       "       PSDLog 62 Hz Right Z Gyro Synthesis  \\\n",
       "17889                             1.482408   \n",
       "17890                             1.565786   \n",
       "17891                             0.038207   \n",
       "17892                            -0.600726   \n",
       "17893                            -1.042129   \n",
       "\n",
       "       PSDLog 63 Hz Right Z Gyro Synthesis  \n",
       "17889                             1.457884  \n",
       "17890                             1.560195  \n",
       "17891                             0.077722  \n",
       "17892                            -0.544136  \n",
       "17893                            -1.024189  \n",
       "\n",
       "[5 rows x 2289 columns]"
      ]
     },
     "execution_count": 8,
     "metadata": {},
     "output_type": "execute_result"
    }
   ],
   "source": [
    "# Check some data\n",
    "power_dict['Manual']['Synthesis']['Combined']['All'].tail()"
   ]
  },
  {
   "cell_type": "markdown",
   "metadata": {},
   "source": [
    "## Part 2 -  mRMR (minimum Redunancy Maximum Relevance)\n",
    "\n",
    "mRMR tries to find which features have the highest information shared with classified state and lowest information shared with other features."
   ]
  },
  {
   "cell_type": "markdown",
   "metadata": {},
   "source": [
    "### Part (a) - Middle Frame Placement"
   ]
  },
  {
   "cell_type": "markdown",
   "metadata": {},
   "source": [
    "#### Part (i) - Manual Wheelchair"
   ]
  },
  {
   "cell_type": "code",
   "execution_count": 9,
   "metadata": {
    "scrolled": true
   },
   "outputs": [
    {
     "data": {
      "text/plain": [
       "['ZCR Y Gyro Middle',\n",
       " 'ZCR Y Accel Middle',\n",
       " 'ZCR Z Accel Middle',\n",
       " 'ZCR X Accel Middle',\n",
       " 'Std Y Accel Middle']"
      ]
     },
     "execution_count": 9,
     "metadata": {},
     "output_type": "execute_result"
    }
   ],
   "source": [
    "pymrmr.mRMR(data=power_dict['Manual']['Middle']['TimeFeats']['All'], method='MID', nfeats=5)"
   ]
  },
  {
   "cell_type": "code",
   "execution_count": 10,
   "metadata": {
    "scrolled": true
   },
   "outputs": [
    {
     "data": {
      "text/plain": [
       "['FC Y Gyro Middle',\n",
       " 'FC Y Accel Middle',\n",
       " 'VF Z Accel Middle',\n",
       " 'FC X Gyro Middle',\n",
       " 'VF Y Gyro Middle']"
      ]
     },
     "execution_count": 10,
     "metadata": {},
     "output_type": "execute_result"
    }
   ],
   "source": [
    "pymrmr.mRMR(data=power_dict['Manual']['Middle']['FreqFeats']['All'], method='MID', nfeats=5)"
   ]
  },
  {
   "cell_type": "code",
   "execution_count": 11,
   "metadata": {
    "scrolled": true
   },
   "outputs": [
    {
     "data": {
      "text/plain": [
       "['FC Y Gyro Middle',\n",
       " 'ZCR Y Accel Middle',\n",
       " 'ZCR Z Accel Middle',\n",
       " 'VF X Gyro Middle',\n",
       " 'VF Y Gyro Middle']"
      ]
     },
     "execution_count": 11,
     "metadata": {},
     "output_type": "execute_result"
    }
   ],
   "source": [
    "pymrmr.mRMR(data=power_dict['Manual']['Middle']['AllFeats']['All'], method='MID', nfeats=5)"
   ]
  },
  {
   "cell_type": "code",
   "execution_count": 12,
   "metadata": {},
   "outputs": [
    {
     "data": {
      "text/plain": [
       "['FFT 14 Hz Y Accel Middle',\n",
       " 'FFT 1 Hz Y Gyro Middle',\n",
       " 'FFT 2 Hz X Gyro Middle',\n",
       " 'FFT 17 Hz Z Accel Middle',\n",
       " 'FFT 21 Hz Y Accel Middle']"
      ]
     },
     "execution_count": 12,
     "metadata": {},
     "output_type": "execute_result"
    }
   ],
   "source": [
    "pymrmr.mRMR(data=power_dict['Manual']['Middle']['FFTs']['All'], method='MID', nfeats=5)"
   ]
  },
  {
   "cell_type": "code",
   "execution_count": 13,
   "metadata": {},
   "outputs": [
    {
     "data": {
      "text/plain": [
       "['PSDLog 33 Hz Y Gyro Middle',\n",
       " 'PSDLog 0 Hz Y Gyro Middle',\n",
       " 'PSDLog 56 Hz Y Accel Middle',\n",
       " 'PSDLog 1 Hz X Gyro Middle',\n",
       " 'PSDLog 59 Hz Y Accel Middle']"
      ]
     },
     "execution_count": 13,
     "metadata": {},
     "output_type": "execute_result"
    }
   ],
   "source": [
    "pymrmr.mRMR(data=power_dict['Manual']['Middle']['PSDLogs']['All'], method='MID', nfeats=5)"
   ]
  },
  {
   "cell_type": "code",
   "execution_count": 14,
   "metadata": {},
   "outputs": [
    {
     "data": {
      "text/plain": [
       "['FC Y Gyro Middle',\n",
       " 'PSDLog 12 Hz Z Accel Middle',\n",
       " 'VF X Gyro Middle',\n",
       " 'ZCR Z Accel Middle',\n",
       " 'ZCR Y Accel Middle']"
      ]
     },
     "execution_count": 14,
     "metadata": {},
     "output_type": "execute_result"
    }
   ],
   "source": [
    "pymrmr.mRMR(data=power_dict['Manual']['Middle']['Combined']['All'], method='MID', nfeats=5)"
   ]
  },
  {
   "cell_type": "markdown",
   "metadata": {},
   "source": [
    "#### Part (i) - Power Assist Wheelchair"
   ]
  },
  {
   "cell_type": "code",
   "execution_count": 15,
   "metadata": {
    "scrolled": true
   },
   "outputs": [],
   "source": [
    "#pymrmr.mRMR(data=power_dict['Power']['Middle']['Features']['All'], method='MID', nfeats=5)"
   ]
  },
  {
   "cell_type": "code",
   "execution_count": 16,
   "metadata": {},
   "outputs": [],
   "source": [
    "#pymrmr.mRMR(data=power_dict['Power']['Middle']['FFTs']['All'], method='MID', nfeats=5)"
   ]
  },
  {
   "cell_type": "code",
   "execution_count": 17,
   "metadata": {},
   "outputs": [],
   "source": [
    "#pymrmr.mRMR(data=power_dict['Power']['Middle']['PSDLogs']['All'], method='MID', nfeats=5)"
   ]
  },
  {
   "cell_type": "code",
   "execution_count": 18,
   "metadata": {},
   "outputs": [],
   "source": [
    "#pymrmr.mRMR(data=power_dict['Power']['Middle']['Combined']['All'], method='MID', nfeats=5)"
   ]
  },
  {
   "cell_type": "markdown",
   "metadata": {},
   "source": [
    "### Part (b) - Left Wheel Placement"
   ]
  },
  {
   "cell_type": "code",
   "execution_count": 19,
   "metadata": {
    "scrolled": false
   },
   "outputs": [
    {
     "data": {
      "text/plain": [
       "['Std Z Accel Left',\n",
       " 'ZCR Z Accel Left',\n",
       " 'Min Z Gyro Left',\n",
       " 'ZCR Y Accel Left',\n",
       " 'ZCR Y Gyro Left']"
      ]
     },
     "execution_count": 19,
     "metadata": {},
     "output_type": "execute_result"
    }
   ],
   "source": [
    "pymrmr.mRMR(data=power_dict['Manual']['Left']['TimeFeats']['All'], method='MID', nfeats=5)"
   ]
  },
  {
   "cell_type": "code",
   "execution_count": 20,
   "metadata": {
    "scrolled": false
   },
   "outputs": [
    {
     "data": {
      "text/plain": [
       "['FC Z Accel Left',\n",
       " 'RVF Y Accel Left',\n",
       " 'FC X Accel Left',\n",
       " 'FC Y Accel Left',\n",
       " 'RVF Z Accel Left']"
      ]
     },
     "execution_count": 20,
     "metadata": {},
     "output_type": "execute_result"
    }
   ],
   "source": [
    "pymrmr.mRMR(data=power_dict['Manual']['Left']['FreqFeats']['All'], method='MID', nfeats=5)"
   ]
  },
  {
   "cell_type": "code",
   "execution_count": 21,
   "metadata": {
    "scrolled": true
   },
   "outputs": [
    {
     "data": {
      "text/plain": [
       "['Std Z Accel Left',\n",
       " 'FC Z Accel Left',\n",
       " 'ZCR Y Gyro Left',\n",
       " 'ZCR Z Accel Left',\n",
       " 'Min Z Gyro Left']"
      ]
     },
     "execution_count": 21,
     "metadata": {},
     "output_type": "execute_result"
    }
   ],
   "source": [
    "pymrmr.mRMR(data=power_dict['Manual']['Left']['AllFeats']['All'], method='MID', nfeats=5)"
   ]
  },
  {
   "cell_type": "code",
   "execution_count": 22,
   "metadata": {},
   "outputs": [
    {
     "data": {
      "text/plain": [
       "['FFT 20 Hz Z Accel Left',\n",
       " 'FFT 43 Hz Z Accel Left',\n",
       " 'FFT 14 Hz Z Accel Left',\n",
       " 'FFT 63 Hz Z Accel Left',\n",
       " 'FFT 38 Hz Z Accel Left']"
      ]
     },
     "execution_count": 22,
     "metadata": {},
     "output_type": "execute_result"
    }
   ],
   "source": [
    "pymrmr.mRMR(data=power_dict['Manual']['Left']['FFTs']['All'], method='MID', nfeats=5)"
   ]
  },
  {
   "cell_type": "code",
   "execution_count": 23,
   "metadata": {},
   "outputs": [
    {
     "data": {
      "text/plain": [
       "['PSDLog 27 Hz Z Accel Left',\n",
       " 'PSDLog 62 Hz Z Accel Left',\n",
       " 'PSDLog 17 Hz Z Accel Left',\n",
       " 'PSDLog 40 Hz Z Accel Left',\n",
       " 'PSDLog 48 Hz X Accel Left']"
      ]
     },
     "execution_count": 23,
     "metadata": {},
     "output_type": "execute_result"
    }
   ],
   "source": [
    "pymrmr.mRMR(data=power_dict['Manual']['Left']['PSDLogs']['All'], method='MID', nfeats=5)"
   ]
  },
  {
   "cell_type": "code",
   "execution_count": 24,
   "metadata": {},
   "outputs": [
    {
     "data": {
      "text/plain": [
       "['PSDLog 27 Hz Z Accel Left',\n",
       " 'FC Z Accel Left',\n",
       " 'PSDLog 17 Hz Z Accel Left',\n",
       " 'PSDLog 63 Hz Z Accel Left',\n",
       " 'PSDLog 48 Hz X Accel Left']"
      ]
     },
     "execution_count": 24,
     "metadata": {},
     "output_type": "execute_result"
    }
   ],
   "source": [
    "pymrmr.mRMR(data=power_dict['Manual']['Left']['Combined']['All'], method='MID', nfeats=5)"
   ]
  },
  {
   "cell_type": "markdown",
   "metadata": {},
   "source": [
    "### Part (c) - Right Wheel Placement"
   ]
  },
  {
   "cell_type": "code",
   "execution_count": 25,
   "metadata": {
    "scrolled": false
   },
   "outputs": [
    {
     "data": {
      "text/plain": [
       "['ZCR Z Accel Right',\n",
       " 'RMS Z Accel Right',\n",
       " 'Max Z Gyro Right',\n",
       " 'ZCR Y Gyro Right',\n",
       " 'Max Z Accel Right']"
      ]
     },
     "execution_count": 25,
     "metadata": {},
     "output_type": "execute_result"
    }
   ],
   "source": [
    "pymrmr.mRMR(data=power_dict['Manual']['Right']['TimeFeats']['All'], method='MID', nfeats=5)"
   ]
  },
  {
   "cell_type": "code",
   "execution_count": 26,
   "metadata": {
    "scrolled": false
   },
   "outputs": [
    {
     "data": {
      "text/plain": [
       "['VF Z Accel Right',\n",
       " 'RVF X Accel Right',\n",
       " 'FC Y Accel Right',\n",
       " 'RVF Z Accel Right',\n",
       " 'FC X Accel Right']"
      ]
     },
     "execution_count": 26,
     "metadata": {},
     "output_type": "execute_result"
    }
   ],
   "source": [
    "pymrmr.mRMR(data=power_dict['Manual']['Right']['FreqFeats']['All'], method='MID', nfeats=5)"
   ]
  },
  {
   "cell_type": "code",
   "execution_count": 27,
   "metadata": {
    "scrolled": false
   },
   "outputs": [
    {
     "data": {
      "text/plain": [
       "['ZCR Z Accel Right',\n",
       " 'RMS Z Accel Right',\n",
       " 'VF Z Accel Right',\n",
       " 'Max Z Gyro Right',\n",
       " 'FC X Accel Right']"
      ]
     },
     "execution_count": 27,
     "metadata": {},
     "output_type": "execute_result"
    }
   ],
   "source": [
    "pymrmr.mRMR(data=power_dict['Manual']['Right']['AllFeats']['All'], method='MID', nfeats=5)"
   ]
  },
  {
   "cell_type": "code",
   "execution_count": 28,
   "metadata": {},
   "outputs": [
    {
     "data": {
      "text/plain": [
       "['FFT 24 Hz Z Accel Right',\n",
       " 'FFT 63 Hz Z Accel Right',\n",
       " 'FFT 18 Hz Z Accel Right',\n",
       " 'FFT 14 Hz Z Accel Right',\n",
       " 'FFT 53 Hz Z Accel Right']"
      ]
     },
     "execution_count": 28,
     "metadata": {},
     "output_type": "execute_result"
    }
   ],
   "source": [
    "pymrmr.mRMR(data=power_dict['Manual']['Right']['FFTs']['All'], method='MID', nfeats=5)"
   ]
  },
  {
   "cell_type": "code",
   "execution_count": 29,
   "metadata": {},
   "outputs": [
    {
     "data": {
      "text/plain": [
       "['PSDLog 62 Hz Z Accel Right',\n",
       " 'PSDLog 15 Hz Z Accel Right',\n",
       " 'PSDLog 55 Hz Z Accel Right',\n",
       " 'PSDLog 25 Hz Z Accel Right',\n",
       " 'PSDLog 63 Hz Z Accel Right']"
      ]
     },
     "execution_count": 29,
     "metadata": {},
     "output_type": "execute_result"
    }
   ],
   "source": [
    "pymrmr.mRMR(data=power_dict['Manual']['Right']['PSDLogs']['All'], method='MID', nfeats=5)"
   ]
  },
  {
   "cell_type": "code",
   "execution_count": 30,
   "metadata": {},
   "outputs": [
    {
     "data": {
      "text/plain": [
       "['ZCR Z Accel Right',\n",
       " 'PSDLog 16 Hz Z Accel Right',\n",
       " 'VF Z Accel Right',\n",
       " 'PSDLog 26 Hz Z Accel Right',\n",
       " 'PSDLog 62 Hz Z Accel Right']"
      ]
     },
     "execution_count": 30,
     "metadata": {},
     "output_type": "execute_result"
    }
   ],
   "source": [
    "pymrmr.mRMR(data=power_dict['Manual']['Right']['Combined']['All'], method='MID', nfeats=5)"
   ]
  },
  {
   "cell_type": "markdown",
   "metadata": {},
   "source": [
    "### Part (d) - Synthesis \"Placement\""
   ]
  },
  {
   "cell_type": "code",
   "execution_count": 31,
   "metadata": {
    "scrolled": false
   },
   "outputs": [
    {
     "data": {
      "text/plain": [
       "['ZCR Right Z Accel Synthesis',\n",
       " 'Min Left XY Accel Synthesis',\n",
       " 'Min Calc X Vel Synthesis',\n",
       " 'Min Right XY Accel Synthesis',\n",
       " 'RMS Right Z Accel Synthesis']"
      ]
     },
     "execution_count": 31,
     "metadata": {},
     "output_type": "execute_result"
    }
   ],
   "source": [
    "pymrmr.mRMR(data=power_dict['Manual']['Synthesis']['TimeFeats']['All'], method='MID', nfeats=5)"
   ]
  },
  {
   "cell_type": "code",
   "execution_count": 32,
   "metadata": {
    "scrolled": false
   },
   "outputs": [
    {
     "data": {
      "text/plain": [
       "['VF Left XY Accel Synthesis',\n",
       " 'RMSF Left XY Accel Synthesis',\n",
       " 'VF Right Z Accel Synthesis',\n",
       " 'FC Right XY Accel Synthesis',\n",
       " 'FC Left Z Accel Synthesis']"
      ]
     },
     "execution_count": 32,
     "metadata": {},
     "output_type": "execute_result"
    }
   ],
   "source": [
    "pymrmr.mRMR(data=power_dict['Manual']['Synthesis']['FreqFeats']['All'], method='MID', nfeats=5)"
   ]
  },
  {
   "cell_type": "code",
   "execution_count": 33,
   "metadata": {
    "scrolled": false
   },
   "outputs": [
    {
     "data": {
      "text/plain": [
       "['VF Left XY Accel Synthesis',\n",
       " 'Min Left XY Accel Synthesis',\n",
       " 'ZCR Right Z Accel Synthesis',\n",
       " 'FC Right XY Accel Synthesis',\n",
       " 'VF Right Z Accel Synthesis']"
      ]
     },
     "execution_count": 33,
     "metadata": {},
     "output_type": "execute_result"
    }
   ],
   "source": [
    "pymrmr.mRMR(data=power_dict['Manual']['Synthesis']['AllFeats']['All'], method='MID', nfeats=5)"
   ]
  },
  {
   "cell_type": "code",
   "execution_count": 34,
   "metadata": {},
   "outputs": [
    {
     "data": {
      "text/plain": [
       "['FFT 25 Hz Left XY Accel Synthesis',\n",
       " 'FFT 0 Hz Calc X Vel Synthesis',\n",
       " 'FFT 17 Hz Right Z Accel Synthesis',\n",
       " 'FFT 28 Hz Right XY Accel Synthesis',\n",
       " 'FFT 58 Hz Left XY Accel Synthesis']"
      ]
     },
     "execution_count": 34,
     "metadata": {},
     "output_type": "execute_result"
    }
   ],
   "source": [
    "pymrmr.mRMR(data=power_dict['Manual']['Synthesis']['FFTs']['All'], method='MID', nfeats=5)"
   ]
  },
  {
   "cell_type": "code",
   "execution_count": 35,
   "metadata": {},
   "outputs": [
    {
     "data": {
      "text/plain": [
       "['PSDLog 35 Hz Left XY Accel Synthesis',\n",
       " 'PSDLog 16 Hz Right Z Accel Synthesis',\n",
       " 'PSDLog 49 Hz Right XY Accel Synthesis',\n",
       " 'PSDLog 50 Hz Left XY Accel Synthesis',\n",
       " 'PSDLog 18 Hz Left XY Accel Synthesis']"
      ]
     },
     "execution_count": 35,
     "metadata": {},
     "output_type": "execute_result"
    }
   ],
   "source": [
    "pymrmr.mRMR(data=power_dict['Manual']['Synthesis']['PSDLogs']['All'], method='MID', nfeats=5)"
   ]
  },
  {
   "cell_type": "code",
   "execution_count": 36,
   "metadata": {},
   "outputs": [
    {
     "data": {
      "text/plain": [
       "['VF Left XY Accel Synthesis',\n",
       " 'Min Left XY Accel Synthesis',\n",
       " 'ZCR Right Z Accel Synthesis',\n",
       " 'FC Right XY Accel Synthesis',\n",
       " 'VF Right Z Accel Synthesis']"
      ]
     },
     "execution_count": 36,
     "metadata": {},
     "output_type": "execute_result"
    }
   ],
   "source": [
    "pymrmr.mRMR(data=power_dict['Manual']['Synthesis']['Combined']['All'], method='MID', nfeats=5)"
   ]
  },
  {
   "cell_type": "markdown",
   "metadata": {},
   "source": [
    "### Part (e) - Nested Dictionary of Top Features"
   ]
  },
  {
   "cell_type": "code",
   "execution_count": null,
   "metadata": {},
   "outputs": [],
   "source": [
    "# Create dictionary of top mRMR features to speed up calculations, up to to 50\n",
    "power_dict_features = {}\n",
    "\n",
    "for power in powers:\n",
    "    placement_dict_features = {}\n",
    "    \n",
    "    for placement in placements:\n",
    "        vector_dict_features = {}\n",
    "        \n",
    "        for vector in vectors:\n",
    "            user_dict_features = {}\n",
    "\n",
    "            # Only calculate for all users for now\n",
    "            for user in ['All']:\n",
    "                top_features = pymrmr.mRMR(data=power_dict[power][placement][vector][user],\n",
    "                                           method='MID', nfeats=50)\n",
    "                user_dict_features.update({user: top_features})\n",
    "\n",
    "            vector_dict_features.update({vector: user_dict_features})\n",
    "            \n",
    "        placement_dict_features.update({placement: vector_dict_features})\n",
    "    \n",
    "    power_dict_features.update({power: placement_dict_features})"
   ]
  },
  {
   "cell_type": "code",
   "execution_count": null,
   "metadata": {},
   "outputs": [],
   "source": [
    "# Pickle the dictionary\n",
    "import pickle\n",
    "\n",
    "mRMR_dict_filename = '/home/caris/Wheelchair-Terrain-Classification/dicts/mRMR_Top50_Dictionary.pkl'\n",
    "outfile = open(mRMR_dict_filename, 'wb')\n",
    "pickle.dump(power_dict_features, outfile)\n",
    "outfile.close()"
   ]
  },
  {
   "cell_type": "code",
   "execution_count": null,
   "metadata": {},
   "outputs": [],
   "source": [
    "# Unpickle the dictionary\n",
    "#infile = open(mRMR_dict_filename, 'rb')\n",
    "#power_dict_features = pickle.load(infile)\n",
    "#infile.close()"
   ]
  },
  {
   "cell_type": "markdown",
   "metadata": {},
   "source": [
    "## Part 3 - PCA (Principal Component Analysis)"
   ]
  },
  {
   "cell_type": "code",
   "execution_count": null,
   "metadata": {},
   "outputs": [],
   "source": [
    "from sklearn.decomposition import PCA\n",
    "\n",
    "def get_pca_df(combined_data, n_components=2):\n",
    "    # Setup PCA parameters\n",
    "    pca = PCA(n_components=n_components)\n",
    "    \n",
    "    # Copy data to avoid modification\n",
    "    data = combined_data.copy()\n",
    "    \n",
    "    # Extract terrain labels\n",
    "    labels = data.pop('Label')\n",
    "    \n",
    "    # Get specified number of principal components and convert to dataframe\n",
    "    pc = pca.fit_transform(data)\n",
    "    pc_df = pd.DataFrame(data=pc, columns=['PC {}'.format(i + 1) for i in range(n_components)])\n",
    "    \n",
    "    #print('Explained Variance of Each PC: {}'.format(pca.explained_variance_ratio_))\n",
    "    #print('Total Explained Variance: {}'.format(np.sum(pca.explained_variance_ratio_)))\n",
    "    \n",
    "    return pd.concat([labels, pc_df], axis='columns')"
   ]
  },
  {
   "cell_type": "code",
   "execution_count": null,
   "metadata": {},
   "outputs": [],
   "source": [
    "get_pca_df(power_dict['Manual']['Synthesis']['Combined']['All']).tail()"
   ]
  },
  {
   "cell_type": "code",
   "execution_count": null,
   "metadata": {},
   "outputs": [],
   "source": [
    "get_pca_df(power_dict['Manual']['Synthesis']['Combined']['All'], n_components=5).tail()"
   ]
  },
  {
   "cell_type": "code",
   "execution_count": null,
   "metadata": {},
   "outputs": [],
   "source": [
    "def visualize_2d_pca(pca_2d_df, figsize=(8, 8)):\n",
    "    # Plot parameters\n",
    "    plt.clf()\n",
    "    plt.figure(figsize=figsize)\n",
    "    plt.xlabel('Principal Component 1')\n",
    "    plt.ylabel('Principal Component 2')\n",
    "    \n",
    "    # Scatter plot of each terrain\n",
    "    for terrain in terrains:\n",
    "        terrain_indices = pca_2d_df['Label'] == get_terrain_num(terrain)\n",
    "        plt.scatter(pca_2d_df.loc[terrain_indices, 'PC 1'], pca_2d_df.loc[terrain_indices, 'PC 2'])\n",
    "    \n",
    "    plt.legend(terrains)\n",
    "    plt.show()"
   ]
  },
  {
   "cell_type": "code",
   "execution_count": null,
   "metadata": {},
   "outputs": [],
   "source": [
    "visualize_2d_pca(get_pca_df(power_dict['Manual']['Right']['FreqFeats']['All']))"
   ]
  },
  {
   "cell_type": "markdown",
   "metadata": {},
   "source": [
    "## Part 4 - Comparing Classifier Accuracy"
   ]
  },
  {
   "cell_type": "code",
   "execution_count": null,
   "metadata": {},
   "outputs": [],
   "source": [
    "from sklearn.naive_bayes import GaussianNB\n",
    "from sklearn.neighbors import KNeighborsClassifier\n",
    "from sklearn.tree import DecisionTreeClassifier\n",
    "from sklearn.ensemble import RandomForestClassifier\n",
    "from sklearn.ensemble import AdaBoostClassifier\n",
    "from sklearn.svm import SVC\n",
    "from sklearn.metrics import accuracy_score\n",
    "\n",
    "# Dictionary of classifiers\n",
    "classifiers = {'Naive Bayes': GaussianNB(),\n",
    "               'k Nearest': KNeighborsClassifier(),\n",
    "               'Decision Tree': DecisionTreeClassifier(), \n",
    "               'Random Forest': RandomForestClassifier(n_estimators=100),\n",
    "               'AdaBoost': AdaBoostClassifier(),\n",
    "               'Support Vector Machine': SVC(gamma='scale')}"
   ]
  },
  {
   "cell_type": "code",
   "execution_count": null,
   "metadata": {},
   "outputs": [],
   "source": [
    "from sklearn.model_selection import KFold\n",
    "\n",
    "'''Run train test k-fold times\n",
    "   Returns an tuple of arrays, where arrays elements are actual/predicted labels \n",
    "   for each k-fold test'''\n",
    "def train_test_k_fold(combined_data, n_splits, model):\n",
    "    # Shuffle ensures we get a mix of terrains\n",
    "    kf = KFold(n_splits=n_splits, shuffle=True)\n",
    "\n",
    "    # Copy data to avoid modification - Testing removing this\n",
    "    data = combined_data\n",
    "    \n",
    "    # Extract terrain labels\n",
    "    labels = data.pop('Label')\n",
    "\n",
    "    # Array of predicted labels for each k fold\n",
    "    test_k_fold = []\n",
    "    predict_k_fold = []\n",
    "\n",
    "    # Split into n splits\n",
    "    for train_index, test_index in kf.split(data):\n",
    "        train, test = data.loc[train_index], data.loc[test_index]\n",
    "        train_labels, test_labels = labels.loc[train_index], labels.loc[test_index]\n",
    "        \n",
    "        # Actual labels\n",
    "        test_k_fold.append(test_labels)\n",
    "        \n",
    "        # Train and test model\n",
    "        model.fit(train, train_labels)\n",
    "        predict_k_fold.append(model.predict(test))\n",
    "    \n",
    "    # Put back terrain labels\n",
    "    data.insert(0, 'Label', labels)\n",
    "    \n",
    "    return (test_k_fold, predict_k_fold)"
   ]
  },
  {
   "cell_type": "code",
   "execution_count": null,
   "metadata": {},
   "outputs": [],
   "source": [
    "'''Train a model on all the given test data and return it'''\n",
    "def train_model_on_all(combined_data, model):\n",
    "    # Copy data to avoid modification - Testing removing this\n",
    "    data = combined_data\n",
    "    labels = data.pop('Label')\n",
    "    \n",
    "    # Train the model\n",
    "    model.fit(data, labels)\n",
    "    \n",
    "    # Return the labels to original position\n",
    "    data.insert(0, 'Label', labels)\n",
    "    \n",
    "    # Return trained model\n",
    "    return model"
   ]
  },
  {
   "cell_type": "code",
   "execution_count": null,
   "metadata": {},
   "outputs": [],
   "source": [
    "'''Create a table of accuracies and associated trained models for each feature vector and classifier'''\n",
    "def create_accuracy_table(n_splits, power_type='Manual', user_name='All', separate_axes=False,\n",
    "                          feat_selection='None', n_feats=None, verbose=False):\n",
    "    \n",
    "    # Power type affects which placements are available\n",
    "    if power_type == 'Manual':\n",
    "        placements = placements_manual\n",
    "    else:\n",
    "        placements = placements_power\n",
    "    \n",
    "    # Dataframe table of accuracies for each classifier for each placement\n",
    "    if separate_axes:\n",
    "        vector_indices = [p + ' ' + v + ' ' + a for p in placements for v in vectors for a in axes]\n",
    "    else:\n",
    "        vector_indices = [p + ' ' + v for p in placements for v in vectors]\n",
    "    \n",
    "    # Vector column contains each vector for each placement and axes\n",
    "    accuracy_table = pd.DataFrame({'Vector': vector_indices})\n",
    "    \n",
    "    # Nested dictionary of trained models:\n",
    "    ## Vector type\n",
    "    ### Classifier name\n",
    "    model_dict = {vector_index: {} for vector_index in vector_indices}\n",
    "\n",
    "    # Calculate accuracy for each placement for each feature vector and classifier\n",
    "    for classifier_name, classifier in classifiers.items():\n",
    "        model = classifier\n",
    "\n",
    "        # Row dictionary for given model\n",
    "        accuracy_rows = {}\n",
    "        \n",
    "        # Add current classifier to row dictionary\n",
    "        for placement in placements:\n",
    "            for vector in vectors:\n",
    "                # Extract data for above parameters\n",
    "                data = power_dict[power_type][placement][vector][user_name].copy()\n",
    "                \n",
    "                # Iterate through axes if we want them separate, else just put in empty string\n",
    "                if separate_axes:\n",
    "                    itr_axes = axes\n",
    "                else:\n",
    "                    itr_axes = ['All']\n",
    "                \n",
    "                for axis in itr_axes:\n",
    "                    index_name = placement + ' ' + vector\n",
    "                    data_temp = data\n",
    "                    \n",
    "                    # If separate axes, get data with only columns matching current axes\n",
    "                    if separate_axes:\n",
    "                        index_name += ' ' + axis\n",
    "                        matching_columns = [column for column in data.columns if axis in column]\n",
    "                        matching_columns.insert(0, 'Label')\n",
    "                        data_temp = data_temp[matching_columns]\n",
    "                    \n",
    "                    # Use only the top features using mRMR feature selection\n",
    "                    if feat_selection == 'mRMR':\n",
    "                        top_feats = power_dict_features[power_type][placement][vector][user_name].copy()\n",
    "                        top_feats.insert(0, 'Label')\n",
    "                        data_temp = data_temp[top_feats[:n_feats+1]]\n",
    "\n",
    "                    # Run PCA on the data\n",
    "                    elif feat_selection == 'PCA':\n",
    "                        data_temp = get_pca_df(data_temp, n_components=n_feats)\n",
    "\n",
    "                    # Extract predicted and actual labels for requested user\n",
    "                    actual, predict = train_test_k_fold(data_temp, n_splits, model)\n",
    "\n",
    "                    # Take mean accuracy of k fold testing\n",
    "                    accuracies = []\n",
    "                    for i in range(len(predict)):\n",
    "                        accuracies.append(accuracy_score(actual[i], predict[i]))\n",
    "                    \n",
    "                    # Update row dictionary\n",
    "                    accuracy_rows.update({index_name: np.mean(accuracies)})\n",
    "                    \n",
    "                    # Train model on entire feature vector data and return it for pickling\n",
    "                    trained_model = train_model_on_all(data_temp, model)\n",
    "                    model_dict[index_name].update({classifier_name: trained_model})\n",
    "                    \n",
    "                    if verbose:\n",
    "                        print('Finished training {} on {} {}'.format(classifier_name, placement, vector))\n",
    "                    \n",
    "        # Update accuracy table with classifier column by mapping row names to indices\n",
    "        accuracy_table[classifier_name] = accuracy_table['Vector'].map(accuracy_rows)\n",
    "    \n",
    "    return accuracy_table, model_dict"
   ]
  },
  {
   "cell_type": "code",
   "execution_count": null,
   "metadata": {},
   "outputs": [],
   "source": [
    "import pickle\n",
    "models_path = '/home/caris/Wheelchair-Terrain-Classification/models/'\n",
    "\n",
    "'''Pickle all the elements of a model dict to individual files'''\n",
    "def pickle_all_model_dict(model_dict, file_tag=None):\n",
    "    for feature_type, classifiers in model_dict.items():\n",
    "        for classifier_name, trained_model in classifiers.items():\n",
    "            # Get file name from parameters\n",
    "            model_filename = models_path + classifier_name.replace(' ', '')\n",
    "            model_filename += '_' + feature_type.replace(' ', '_')\n",
    "            \n",
    "            # Add file tag if given\n",
    "            if file_tag is not None:\n",
    "                model_filename += '_' + file_tag\n",
    "            model_filename += '.pkl'\n",
    "            \n",
    "            # Pickle the file\n",
    "            outfile = open(model_filename, 'wb')\n",
    "            pickle.dump(trained_model, outfile)\n",
    "            outfile.close()"
   ]
  },
  {
   "cell_type": "markdown",
   "metadata": {},
   "source": [
    "### Part (a) - Combined Axes Accuracy Table\n",
    "#### Part (i) - No Feature Selection"
   ]
  },
  {
   "cell_type": "code",
   "execution_count": null,
   "metadata": {},
   "outputs": [],
   "source": [
    "# Create accuracy table for 5 k-fold splits without any feature selection\n",
    "accuracy_table, model_dict = create_accuracy_table(n_splits=5, power_type='Manual', user_name='All')"
   ]
  },
  {
   "cell_type": "code",
   "execution_count": null,
   "metadata": {
    "scrolled": false
   },
   "outputs": [],
   "source": [
    "accuracy_table"
   ]
  },
  {
   "cell_type": "code",
   "execution_count": null,
   "metadata": {},
   "outputs": [],
   "source": [
    "accuracy_table.to_csv('tables/Accuracy_Table.csv', index=False)"
   ]
  },
  {
   "cell_type": "code",
   "execution_count": null,
   "metadata": {},
   "outputs": [],
   "source": [
    "# Pickle all the models\n",
    "pickle_all_model_dict(model_dict)"
   ]
  },
  {
   "cell_type": "markdown",
   "metadata": {},
   "source": [
    "#### Part (ii) - mRMR Feature Selection"
   ]
  },
  {
   "cell_type": "code",
   "execution_count": null,
   "metadata": {},
   "outputs": [],
   "source": [
    "# Create accuracy table for 5 k-fold splits with mRMR feature selection\n",
    "accuracy_table_mRMR, model_dict_mRMR = create_accuracy_table(n_splits=5, \n",
    "                                                             power_type='Manual', user_name='All',\n",
    "                                                             feat_selection='mRMR', n_feats=20, \n",
    "                                                             verbose=True)"
   ]
  },
  {
   "cell_type": "code",
   "execution_count": null,
   "metadata": {
    "scrolled": false
   },
   "outputs": [],
   "source": [
    "accuracy_table_mRMR"
   ]
  },
  {
   "cell_type": "code",
   "execution_count": null,
   "metadata": {},
   "outputs": [],
   "source": [
    "accuracy_table_mRMR.to_csv('tables/Accuracy_Table_mRMR.csv', index=False)"
   ]
  },
  {
   "cell_type": "markdown",
   "metadata": {},
   "source": [
    "#### Part (iii) - PCA Feature Selection"
   ]
  },
  {
   "cell_type": "code",
   "execution_count": null,
   "metadata": {},
   "outputs": [],
   "source": [
    "# Create accuracy table for 5 k-fold splits with mRMR feature selection\n",
    "accuracy_table_PCA, model_dict_PCA = create_accuracy_table(n_splits=5, \n",
    "                                                           power_type='Manual', user_name='All',\n",
    "                                                           feat_selection='PCA', n_feats=20)"
   ]
  },
  {
   "cell_type": "code",
   "execution_count": null,
   "metadata": {
    "scrolled": false
   },
   "outputs": [],
   "source": [
    "accuracy_table_PCA"
   ]
  },
  {
   "cell_type": "code",
   "execution_count": null,
   "metadata": {},
   "outputs": [],
   "source": [
    "accuracy_table_PCA.to_csv('tables/Accuracy_Table_PCA.csv', index=False)"
   ]
  },
  {
   "cell_type": "code",
   "execution_count": null,
   "metadata": {},
   "outputs": [],
   "source": [
    "# Create accuracy table for 5 k-fold splits with mRMR feature selection\n",
    "accuracy_table_PCA, model_dict_PCA = create_accuracy_table(n_splits=5, \n",
    "                                                           power_type='Manual', user_name='All',\n",
    "                                                           feat_selection='PCA', n_feats=20)"
   ]
  },
  {
   "cell_type": "code",
   "execution_count": null,
   "metadata": {
    "scrolled": false
   },
   "outputs": [],
   "source": [
    "# Pickle all the models\n",
    "pickle_all_model_dict(model_dict_PCA, file_tag='PCA')"
   ]
  },
  {
   "cell_type": "code",
   "execution_count": null,
   "metadata": {},
   "outputs": [],
   "source": [
    "# Try loading pickled model\n",
    "infile = open(models_path + 'RandomForest_Middle_TimeFeats_PCA.pkl', 'rb')\n",
    "pickled_model = pickle.load(infile)\n",
    "infile.close()\n",
    "\n",
    "pickled_model.get_params()"
   ]
  },
  {
   "cell_type": "markdown",
   "metadata": {},
   "source": [
    "### Part (b) - Separate Axes Accuracy Table\n",
    "\n",
    "#### Part (i) - mRMR Feature Selection"
   ]
  },
  {
   "cell_type": "code",
   "execution_count": null,
   "metadata": {},
   "outputs": [],
   "source": [
    "# Create accuracy table for 5 k-fold splits with mRMR feature selection\n",
    "accuracy_table_sep_PCA, model_dict_sep_PCA = create_accuracy_table(n_splits=5, \n",
    "                                                                   power_type='Manual', user_name='All',\n",
    "                                                                   separate_axes=True, \n",
    "                                                                   feat_selection='PCA', n_feats=20)"
   ]
  },
  {
   "cell_type": "code",
   "execution_count": null,
   "metadata": {
    "scrolled": false
   },
   "outputs": [],
   "source": [
    "accuracy_table_sep_PCA"
   ]
  },
  {
   "cell_type": "code",
   "execution_count": null,
   "metadata": {},
   "outputs": [],
   "source": [
    "accuracy_table_sep_PCA.to_csv('tables/Separated_Accuracy_Table_PCA.csv', index=False)"
   ]
  },
  {
   "cell_type": "markdown",
   "metadata": {},
   "source": [
    "### Glossary\n",
    "\n",
    "`Dataset` - Batch of data recorded on one terrain type\n",
    "\n",
    "`Data Window` - Split up portion of a `Dataset`\n",
    "\n",
    "`Direction / Axes` - Linear acceleration or gyroscope in $x,y$ or $z$\n",
    "\n",
    "`Feature Vector` - Any feature of the data that can be used to classify terrain, e.g. Z Accel Mean, Y Accel FFT, etc\n",
    "\n",
    "`Extracted Feature Vector` - Features that aren't from transforms, e.g. Z Accel Min, Y Accel Autocorrelation, etc\n",
    "\n",
    "`Placement` - One of three IMU placements on the wheelchair, i.e. Middle, Left, or Right"
   ]
  }
 ],
 "metadata": {
  "kernelspec": {
   "display_name": "Python 3",
   "language": "python",
   "name": "python3"
  },
  "language_info": {
   "codemirror_mode": {
    "name": "ipython",
    "version": 3
   },
   "file_extension": ".py",
   "mimetype": "text/x-python",
   "name": "python",
   "nbconvert_exporter": "python",
   "pygments_lexer": "ipython3",
   "version": "3.6.8"
  }
 },
 "nbformat": 4,
 "nbformat_minor": 2
}
